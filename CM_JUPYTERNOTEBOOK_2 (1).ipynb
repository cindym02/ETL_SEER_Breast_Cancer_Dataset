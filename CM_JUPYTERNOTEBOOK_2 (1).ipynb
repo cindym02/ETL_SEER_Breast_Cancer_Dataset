{
  "nbformat": 4,
  "nbformat_minor": 0,
  "metadata": {
    "colab": {
      "name": "CM_JUPYTERNOTEBOOK_2.ipynb",
      "provenance": [],
      "collapsed_sections": []
    },
    "kernelspec": {
      "name": "python3",
      "display_name": "Python 3"
    },
    "language_info": {
      "name": "python"
    }
  },
  "cells": [
    {
      "cell_type": "code",
      "metadata": {
        "id": "e3-tReAFP7Ky"
      },
      "source": [
        "import pandas as pd\n",
        "import csv\n",
        "import numpy as np\n",
        "import seaborn as sns\n",
        "import plotly.express as px\n",
        "import matplotlib.pyplot as plt"
      ],
      "execution_count": null,
      "outputs": []
    },
    {
      "cell_type": "code",
      "metadata": {
        "colab": {
          "base_uri": "https://localhost:8080/",
          "height": 983
        },
        "id": "s3iLi-k92Win",
        "outputId": "bfadbc39-f19a-4c2f-8826-c4981e972067"
      },
      "source": [
        "#csv1\n",
        "url = 'https://raw.githubusercontent.com/cindym02/hants-506/main/SEER%20Breast%20Cancer%20Dataset%20%20(1).csv'\n",
        "df = pd.read_csv(url)\n",
        "df"
      ],
      "execution_count": null,
      "outputs": [
        {
          "output_type": "execute_result",
          "data": {
            "text/html": [
              "<div>\n",
              "<style scoped>\n",
              "    .dataframe tbody tr th:only-of-type {\n",
              "        vertical-align: middle;\n",
              "    }\n",
              "\n",
              "    .dataframe tbody tr th {\n",
              "        vertical-align: top;\n",
              "    }\n",
              "\n",
              "    .dataframe thead th {\n",
              "        text-align: right;\n",
              "    }\n",
              "</style>\n",
              "<table border=\"1\" class=\"dataframe\">\n",
              "  <thead>\n",
              "    <tr style=\"text-align: right;\">\n",
              "      <th></th>\n",
              "      <th>Age</th>\n",
              "      <th>Race</th>\n",
              "      <th>Marital Status</th>\n",
              "      <th>Unnamed: 3</th>\n",
              "      <th>T Stage</th>\n",
              "      <th>N Stage</th>\n",
              "      <th>6th Stage</th>\n",
              "      <th>Grade</th>\n",
              "      <th>A Stage</th>\n",
              "      <th>Tumor Size</th>\n",
              "      <th>Estrogen Status</th>\n",
              "      <th>Progesterone Status</th>\n",
              "      <th>Regional Node Examined</th>\n",
              "      <th>Reginol Node Positive</th>\n",
              "      <th>Survival Months</th>\n",
              "      <th>Status</th>\n",
              "    </tr>\n",
              "  </thead>\n",
              "  <tbody>\n",
              "    <tr>\n",
              "      <th>0</th>\n",
              "      <td>43</td>\n",
              "      <td>Other (American Indian/AK Native, Asian/Pacifi...</td>\n",
              "      <td>Married (including common law)</td>\n",
              "      <td>NaN</td>\n",
              "      <td>T2</td>\n",
              "      <td>N3</td>\n",
              "      <td>IIIC</td>\n",
              "      <td>Moderately differentiated; Grade II</td>\n",
              "      <td>Regional</td>\n",
              "      <td>40</td>\n",
              "      <td>Positive</td>\n",
              "      <td>Positive</td>\n",
              "      <td>19</td>\n",
              "      <td>11</td>\n",
              "      <td>1</td>\n",
              "      <td>Alive</td>\n",
              "    </tr>\n",
              "    <tr>\n",
              "      <th>1</th>\n",
              "      <td>47</td>\n",
              "      <td>Other (American Indian/AK Native, Asian/Pacifi...</td>\n",
              "      <td>Married (including common law)</td>\n",
              "      <td>NaN</td>\n",
              "      <td>T2</td>\n",
              "      <td>N2</td>\n",
              "      <td>IIIA</td>\n",
              "      <td>Moderately differentiated; Grade II</td>\n",
              "      <td>Regional</td>\n",
              "      <td>45</td>\n",
              "      <td>Positive</td>\n",
              "      <td>Positive</td>\n",
              "      <td>25</td>\n",
              "      <td>9</td>\n",
              "      <td>2</td>\n",
              "      <td>Alive</td>\n",
              "    </tr>\n",
              "    <tr>\n",
              "      <th>2</th>\n",
              "      <td>67</td>\n",
              "      <td>White</td>\n",
              "      <td>Married (including common law)</td>\n",
              "      <td>NaN</td>\n",
              "      <td>T2</td>\n",
              "      <td>N1</td>\n",
              "      <td>IIB</td>\n",
              "      <td>Poorly differentiated; Grade III</td>\n",
              "      <td>Regional</td>\n",
              "      <td>25</td>\n",
              "      <td>Positive</td>\n",
              "      <td>Positive</td>\n",
              "      <td>4</td>\n",
              "      <td>1</td>\n",
              "      <td>2</td>\n",
              "      <td>Dead</td>\n",
              "    </tr>\n",
              "    <tr>\n",
              "      <th>3</th>\n",
              "      <td>46</td>\n",
              "      <td>White</td>\n",
              "      <td>Divorced</td>\n",
              "      <td>NaN</td>\n",
              "      <td>T1</td>\n",
              "      <td>N1</td>\n",
              "      <td>IIA</td>\n",
              "      <td>Moderately differentiated; Grade II</td>\n",
              "      <td>Regional</td>\n",
              "      <td>19</td>\n",
              "      <td>Positive</td>\n",
              "      <td>Positive</td>\n",
              "      <td>26</td>\n",
              "      <td>1</td>\n",
              "      <td>2</td>\n",
              "      <td>Dead</td>\n",
              "    </tr>\n",
              "    <tr>\n",
              "      <th>4</th>\n",
              "      <td>63</td>\n",
              "      <td>White</td>\n",
              "      <td>Married (including common law)</td>\n",
              "      <td>NaN</td>\n",
              "      <td>T2</td>\n",
              "      <td>N2</td>\n",
              "      <td>IIIA</td>\n",
              "      <td>Moderately differentiated; Grade II</td>\n",
              "      <td>Regional</td>\n",
              "      <td>35</td>\n",
              "      <td>Positive</td>\n",
              "      <td>Positive</td>\n",
              "      <td>21</td>\n",
              "      <td>5</td>\n",
              "      <td>3</td>\n",
              "      <td>Dead</td>\n",
              "    </tr>\n",
              "    <tr>\n",
              "      <th>...</th>\n",
              "      <td>...</td>\n",
              "      <td>...</td>\n",
              "      <td>...</td>\n",
              "      <td>...</td>\n",
              "      <td>...</td>\n",
              "      <td>...</td>\n",
              "      <td>...</td>\n",
              "      <td>...</td>\n",
              "      <td>...</td>\n",
              "      <td>...</td>\n",
              "      <td>...</td>\n",
              "      <td>...</td>\n",
              "      <td>...</td>\n",
              "      <td>...</td>\n",
              "      <td>...</td>\n",
              "      <td>...</td>\n",
              "    </tr>\n",
              "    <tr>\n",
              "      <th>4019</th>\n",
              "      <td>52</td>\n",
              "      <td>White</td>\n",
              "      <td>Married (including common law)</td>\n",
              "      <td>NaN</td>\n",
              "      <td>T1</td>\n",
              "      <td>N1</td>\n",
              "      <td>IIA</td>\n",
              "      <td>Well differentiated; Grade I</td>\n",
              "      <td>Regional</td>\n",
              "      <td>10</td>\n",
              "      <td>Positive</td>\n",
              "      <td>Positive</td>\n",
              "      <td>19</td>\n",
              "      <td>1</td>\n",
              "      <td>107</td>\n",
              "      <td>Alive</td>\n",
              "    </tr>\n",
              "    <tr>\n",
              "      <th>4020</th>\n",
              "      <td>53</td>\n",
              "      <td>White</td>\n",
              "      <td>Married (including common law)</td>\n",
              "      <td>NaN</td>\n",
              "      <td>T1</td>\n",
              "      <td>N2</td>\n",
              "      <td>IIIA</td>\n",
              "      <td>Poorly differentiated; Grade III</td>\n",
              "      <td>Regional</td>\n",
              "      <td>9</td>\n",
              "      <td>Negative</td>\n",
              "      <td>Negative</td>\n",
              "      <td>13</td>\n",
              "      <td>5</td>\n",
              "      <td>107</td>\n",
              "      <td>Alive</td>\n",
              "    </tr>\n",
              "    <tr>\n",
              "      <th>4021</th>\n",
              "      <td>53</td>\n",
              "      <td>White</td>\n",
              "      <td>Divorced</td>\n",
              "      <td>NaN</td>\n",
              "      <td>T1</td>\n",
              "      <td>N1</td>\n",
              "      <td>IIA</td>\n",
              "      <td>Moderately differentiated; Grade II</td>\n",
              "      <td>Regional</td>\n",
              "      <td>9</td>\n",
              "      <td>Negative</td>\n",
              "      <td>Negative</td>\n",
              "      <td>4</td>\n",
              "      <td>2</td>\n",
              "      <td>107</td>\n",
              "      <td>Alive</td>\n",
              "    </tr>\n",
              "    <tr>\n",
              "      <th>4022</th>\n",
              "      <td>60</td>\n",
              "      <td>Other (American Indian/AK Native, Asian/Pacifi...</td>\n",
              "      <td>Married (including common law)</td>\n",
              "      <td>NaN</td>\n",
              "      <td>T1</td>\n",
              "      <td>N1</td>\n",
              "      <td>IIA</td>\n",
              "      <td>Moderately differentiated; Grade II</td>\n",
              "      <td>Regional</td>\n",
              "      <td>9</td>\n",
              "      <td>Positive</td>\n",
              "      <td>Positive</td>\n",
              "      <td>14</td>\n",
              "      <td>2</td>\n",
              "      <td>107</td>\n",
              "      <td>Alive</td>\n",
              "    </tr>\n",
              "    <tr>\n",
              "      <th>4023</th>\n",
              "      <td>62</td>\n",
              "      <td>White</td>\n",
              "      <td>Divorced</td>\n",
              "      <td>NaN</td>\n",
              "      <td>T1</td>\n",
              "      <td>N1</td>\n",
              "      <td>IIA</td>\n",
              "      <td>Moderately differentiated; Grade II</td>\n",
              "      <td>Regional</td>\n",
              "      <td>8</td>\n",
              "      <td>Positive</td>\n",
              "      <td>Positive</td>\n",
              "      <td>1</td>\n",
              "      <td>1</td>\n",
              "      <td>107</td>\n",
              "      <td>Alive</td>\n",
              "    </tr>\n",
              "  </tbody>\n",
              "</table>\n",
              "<p>4024 rows × 16 columns</p>\n",
              "</div>"
            ],
            "text/plain": [
              "      Age  ... Status\n",
              "0      43  ...  Alive\n",
              "1      47  ...  Alive\n",
              "2      67  ...   Dead\n",
              "3      46  ...   Dead\n",
              "4      63  ...   Dead\n",
              "...   ...  ...    ...\n",
              "4019   52  ...  Alive\n",
              "4020   53  ...  Alive\n",
              "4021   53  ...  Alive\n",
              "4022   60  ...  Alive\n",
              "4023   62  ...  Alive\n",
              "\n",
              "[4024 rows x 16 columns]"
            ]
          },
          "metadata": {
            "tags": []
          },
          "execution_count": 2
        }
      ]
    },
    {
      "cell_type": "code",
      "metadata": {
        "id": "bi1__f8xQAK4",
        "colab": {
          "base_uri": "https://localhost:8080/"
        },
        "outputId": "cfc299c8-9fe5-4d4a-8cda-19c144febe1d"
      },
      "source": [
        "#1.Potential DV/IV \n",
        "df.info()"
      ],
      "execution_count": null,
      "outputs": [
        {
          "output_type": "stream",
          "text": [
            "<class 'pandas.core.frame.DataFrame'>\n",
            "RangeIndex: 4024 entries, 0 to 4023\n",
            "Data columns (total 16 columns):\n",
            " #   Column                  Non-Null Count  Dtype  \n",
            "---  ------                  --------------  -----  \n",
            " 0   Age                     4024 non-null   int64  \n",
            " 1   Race                    4024 non-null   object \n",
            " 2   Marital Status          4024 non-null   object \n",
            " 3   Unnamed: 3              0 non-null      float64\n",
            " 4   T Stage                 4024 non-null   object \n",
            " 5   N Stage                 4024 non-null   object \n",
            " 6   6th Stage               4024 non-null   object \n",
            " 7   Grade                   4024 non-null   object \n",
            " 8   A Stage                 4024 non-null   object \n",
            " 9   Tumor Size              4024 non-null   int64  \n",
            " 10  Estrogen Status         4024 non-null   object \n",
            " 11  Progesterone Status     4024 non-null   object \n",
            " 12  Regional Node Examined  4024 non-null   int64  \n",
            " 13  Reginol Node Positive   4024 non-null   int64  \n",
            " 14  Survival Months         4024 non-null   int64  \n",
            " 15  Status                  4024 non-null   object \n",
            "dtypes: float64(1), int64(5), object(10)\n",
            "memory usage: 503.1+ KB\n"
          ],
          "name": "stdout"
        }
      ]
    },
    {
      "cell_type": "code",
      "metadata": {
        "colab": {
          "base_uri": "https://localhost:8080/"
        },
        "id": "MYZsMFC6VASM",
        "outputId": "003edca5-06a0-477c-d061-6f8c4961d373"
      },
      "source": [
        "for var in df.columns: \n",
        "    print(var)"
      ],
      "execution_count": null,
      "outputs": [
        {
          "output_type": "stream",
          "text": [
            "Age\n",
            "Race \n",
            "Marital Status\n",
            "Unnamed: 3\n",
            "T Stage \n",
            "N Stage\n",
            "6th Stage\n",
            "Grade\n",
            "A Stage\n",
            "Tumor Size\n",
            "Estrogen Status\n",
            "Progesterone Status\n",
            "Regional Node Examined\n",
            "Reginol Node Positive\n",
            "Survival Months\n",
            "Status\n"
          ],
          "name": "stdout"
        }
      ]
    },
    {
      "cell_type": "markdown",
      "metadata": {
        "id": "XW4fHHp0rv-X"
      },
      "source": [
        "Potential independent variables: Age, tumor size, size of regional node, estrogen status\n",
        "\n",
        "Dependent Variables: Survival months, status (mortality)"
      ]
    },
    {
      "cell_type": "code",
      "metadata": {
        "id": "Xs_ART1tQOtp",
        "colab": {
          "base_uri": "https://localhost:8080/",
          "height": 453
        },
        "outputId": "84cc6998-0cd7-4f3a-cdd7-c029a2b7054e"
      },
      "source": [
        "#2.Missing Data\n",
        "df.isnull()"
      ],
      "execution_count": null,
      "outputs": [
        {
          "output_type": "execute_result",
          "data": {
            "text/html": [
              "<div>\n",
              "<style scoped>\n",
              "    .dataframe tbody tr th:only-of-type {\n",
              "        vertical-align: middle;\n",
              "    }\n",
              "\n",
              "    .dataframe tbody tr th {\n",
              "        vertical-align: top;\n",
              "    }\n",
              "\n",
              "    .dataframe thead th {\n",
              "        text-align: right;\n",
              "    }\n",
              "</style>\n",
              "<table border=\"1\" class=\"dataframe\">\n",
              "  <thead>\n",
              "    <tr style=\"text-align: right;\">\n",
              "      <th></th>\n",
              "      <th>Age</th>\n",
              "      <th>Race</th>\n",
              "      <th>Marital Status</th>\n",
              "      <th>Unnamed: 3</th>\n",
              "      <th>T Stage</th>\n",
              "      <th>N Stage</th>\n",
              "      <th>6th Stage</th>\n",
              "      <th>Grade</th>\n",
              "      <th>A Stage</th>\n",
              "      <th>Tumor Size</th>\n",
              "      <th>Estrogen Status</th>\n",
              "      <th>Progesterone Status</th>\n",
              "      <th>Regional Node Examined</th>\n",
              "      <th>Reginol Node Positive</th>\n",
              "      <th>Survival Months</th>\n",
              "      <th>Status</th>\n",
              "    </tr>\n",
              "  </thead>\n",
              "  <tbody>\n",
              "    <tr>\n",
              "      <th>0</th>\n",
              "      <td>False</td>\n",
              "      <td>False</td>\n",
              "      <td>False</td>\n",
              "      <td>True</td>\n",
              "      <td>False</td>\n",
              "      <td>False</td>\n",
              "      <td>False</td>\n",
              "      <td>False</td>\n",
              "      <td>False</td>\n",
              "      <td>False</td>\n",
              "      <td>False</td>\n",
              "      <td>False</td>\n",
              "      <td>False</td>\n",
              "      <td>False</td>\n",
              "      <td>False</td>\n",
              "      <td>False</td>\n",
              "    </tr>\n",
              "    <tr>\n",
              "      <th>1</th>\n",
              "      <td>False</td>\n",
              "      <td>False</td>\n",
              "      <td>False</td>\n",
              "      <td>True</td>\n",
              "      <td>False</td>\n",
              "      <td>False</td>\n",
              "      <td>False</td>\n",
              "      <td>False</td>\n",
              "      <td>False</td>\n",
              "      <td>False</td>\n",
              "      <td>False</td>\n",
              "      <td>False</td>\n",
              "      <td>False</td>\n",
              "      <td>False</td>\n",
              "      <td>False</td>\n",
              "      <td>False</td>\n",
              "    </tr>\n",
              "    <tr>\n",
              "      <th>2</th>\n",
              "      <td>False</td>\n",
              "      <td>False</td>\n",
              "      <td>False</td>\n",
              "      <td>True</td>\n",
              "      <td>False</td>\n",
              "      <td>False</td>\n",
              "      <td>False</td>\n",
              "      <td>False</td>\n",
              "      <td>False</td>\n",
              "      <td>False</td>\n",
              "      <td>False</td>\n",
              "      <td>False</td>\n",
              "      <td>False</td>\n",
              "      <td>False</td>\n",
              "      <td>False</td>\n",
              "      <td>False</td>\n",
              "    </tr>\n",
              "    <tr>\n",
              "      <th>3</th>\n",
              "      <td>False</td>\n",
              "      <td>False</td>\n",
              "      <td>False</td>\n",
              "      <td>True</td>\n",
              "      <td>False</td>\n",
              "      <td>False</td>\n",
              "      <td>False</td>\n",
              "      <td>False</td>\n",
              "      <td>False</td>\n",
              "      <td>False</td>\n",
              "      <td>False</td>\n",
              "      <td>False</td>\n",
              "      <td>False</td>\n",
              "      <td>False</td>\n",
              "      <td>False</td>\n",
              "      <td>False</td>\n",
              "    </tr>\n",
              "    <tr>\n",
              "      <th>4</th>\n",
              "      <td>False</td>\n",
              "      <td>False</td>\n",
              "      <td>False</td>\n",
              "      <td>True</td>\n",
              "      <td>False</td>\n",
              "      <td>False</td>\n",
              "      <td>False</td>\n",
              "      <td>False</td>\n",
              "      <td>False</td>\n",
              "      <td>False</td>\n",
              "      <td>False</td>\n",
              "      <td>False</td>\n",
              "      <td>False</td>\n",
              "      <td>False</td>\n",
              "      <td>False</td>\n",
              "      <td>False</td>\n",
              "    </tr>\n",
              "    <tr>\n",
              "      <th>...</th>\n",
              "      <td>...</td>\n",
              "      <td>...</td>\n",
              "      <td>...</td>\n",
              "      <td>...</td>\n",
              "      <td>...</td>\n",
              "      <td>...</td>\n",
              "      <td>...</td>\n",
              "      <td>...</td>\n",
              "      <td>...</td>\n",
              "      <td>...</td>\n",
              "      <td>...</td>\n",
              "      <td>...</td>\n",
              "      <td>...</td>\n",
              "      <td>...</td>\n",
              "      <td>...</td>\n",
              "      <td>...</td>\n",
              "    </tr>\n",
              "    <tr>\n",
              "      <th>4019</th>\n",
              "      <td>False</td>\n",
              "      <td>False</td>\n",
              "      <td>False</td>\n",
              "      <td>True</td>\n",
              "      <td>False</td>\n",
              "      <td>False</td>\n",
              "      <td>False</td>\n",
              "      <td>False</td>\n",
              "      <td>False</td>\n",
              "      <td>False</td>\n",
              "      <td>False</td>\n",
              "      <td>False</td>\n",
              "      <td>False</td>\n",
              "      <td>False</td>\n",
              "      <td>False</td>\n",
              "      <td>False</td>\n",
              "    </tr>\n",
              "    <tr>\n",
              "      <th>4020</th>\n",
              "      <td>False</td>\n",
              "      <td>False</td>\n",
              "      <td>False</td>\n",
              "      <td>True</td>\n",
              "      <td>False</td>\n",
              "      <td>False</td>\n",
              "      <td>False</td>\n",
              "      <td>False</td>\n",
              "      <td>False</td>\n",
              "      <td>False</td>\n",
              "      <td>False</td>\n",
              "      <td>False</td>\n",
              "      <td>False</td>\n",
              "      <td>False</td>\n",
              "      <td>False</td>\n",
              "      <td>False</td>\n",
              "    </tr>\n",
              "    <tr>\n",
              "      <th>4021</th>\n",
              "      <td>False</td>\n",
              "      <td>False</td>\n",
              "      <td>False</td>\n",
              "      <td>True</td>\n",
              "      <td>False</td>\n",
              "      <td>False</td>\n",
              "      <td>False</td>\n",
              "      <td>False</td>\n",
              "      <td>False</td>\n",
              "      <td>False</td>\n",
              "      <td>False</td>\n",
              "      <td>False</td>\n",
              "      <td>False</td>\n",
              "      <td>False</td>\n",
              "      <td>False</td>\n",
              "      <td>False</td>\n",
              "    </tr>\n",
              "    <tr>\n",
              "      <th>4022</th>\n",
              "      <td>False</td>\n",
              "      <td>False</td>\n",
              "      <td>False</td>\n",
              "      <td>True</td>\n",
              "      <td>False</td>\n",
              "      <td>False</td>\n",
              "      <td>False</td>\n",
              "      <td>False</td>\n",
              "      <td>False</td>\n",
              "      <td>False</td>\n",
              "      <td>False</td>\n",
              "      <td>False</td>\n",
              "      <td>False</td>\n",
              "      <td>False</td>\n",
              "      <td>False</td>\n",
              "      <td>False</td>\n",
              "    </tr>\n",
              "    <tr>\n",
              "      <th>4023</th>\n",
              "      <td>False</td>\n",
              "      <td>False</td>\n",
              "      <td>False</td>\n",
              "      <td>True</td>\n",
              "      <td>False</td>\n",
              "      <td>False</td>\n",
              "      <td>False</td>\n",
              "      <td>False</td>\n",
              "      <td>False</td>\n",
              "      <td>False</td>\n",
              "      <td>False</td>\n",
              "      <td>False</td>\n",
              "      <td>False</td>\n",
              "      <td>False</td>\n",
              "      <td>False</td>\n",
              "      <td>False</td>\n",
              "    </tr>\n",
              "  </tbody>\n",
              "</table>\n",
              "<p>4024 rows × 16 columns</p>\n",
              "</div>"
            ],
            "text/plain": [
              "        Age  Race   ...  Survival Months  Status\n",
              "0     False  False  ...            False   False\n",
              "1     False  False  ...            False   False\n",
              "2     False  False  ...            False   False\n",
              "3     False  False  ...            False   False\n",
              "4     False  False  ...            False   False\n",
              "...     ...    ...  ...              ...     ...\n",
              "4019  False  False  ...            False   False\n",
              "4020  False  False  ...            False   False\n",
              "4021  False  False  ...            False   False\n",
              "4022  False  False  ...            False   False\n",
              "4023  False  False  ...            False   False\n",
              "\n",
              "[4024 rows x 16 columns]"
            ]
          },
          "metadata": {
            "tags": []
          },
          "execution_count": 5
        }
      ]
    },
    {
      "cell_type": "code",
      "metadata": {
        "colab": {
          "base_uri": "https://localhost:8080/"
        },
        "id": "QzwKqOCLVazu",
        "outputId": "03351113-26f9-49c7-d8a3-e36ddf97abc3"
      },
      "source": [
        "df.isna().sum()"
      ],
      "execution_count": null,
      "outputs": [
        {
          "output_type": "execute_result",
          "data": {
            "text/plain": [
              "Age                          0\n",
              "Race                         0\n",
              "Marital Status               0\n",
              "Unnamed: 3                4024\n",
              "T Stage                      0\n",
              "N Stage                      0\n",
              "6th Stage                    0\n",
              "Grade                        0\n",
              "A Stage                      0\n",
              "Tumor Size                   0\n",
              "Estrogen Status              0\n",
              "Progesterone Status          0\n",
              "Regional Node Examined       0\n",
              "Reginol Node Positive        0\n",
              "Survival Months              0\n",
              "Status                       0\n",
              "dtype: int64"
            ]
          },
          "metadata": {
            "tags": []
          },
          "execution_count": 6
        }
      ]
    },
    {
      "cell_type": "code",
      "metadata": {
        "id": "OXei16ZIVls9"
      },
      "source": [
        "# The only missing data values within this dataset lies under the \"unnamed: 3\" column. This variable will be dropped since all reported values are NaN.\n",
        "df.drop(['Unnamed: 3'], axis=1, inplace=True)"
      ],
      "execution_count": null,
      "outputs": []
    },
    {
      "cell_type": "code",
      "metadata": {
        "colab": {
          "base_uri": "https://localhost:8080/"
        },
        "id": "sBk_Hae-VvoX",
        "outputId": "2f709a7c-fbf7-401a-c893-0e61eff98780"
      },
      "source": [
        "df.dtypes"
      ],
      "execution_count": null,
      "outputs": [
        {
          "output_type": "execute_result",
          "data": {
            "text/plain": [
              "Age                        int64\n",
              "Race                      object\n",
              "Marital Status            object\n",
              "T Stage                   object\n",
              "N Stage                   object\n",
              "6th Stage                 object\n",
              "Grade                     object\n",
              "A Stage                   object\n",
              "Tumor Size                 int64\n",
              "Estrogen Status           object\n",
              "Progesterone Status       object\n",
              "Regional Node Examined     int64\n",
              "Reginol Node Positive      int64\n",
              "Survival Months            int64\n",
              "Status                    object\n",
              "dtype: object"
            ]
          },
          "metadata": {
            "tags": []
          },
          "execution_count": 8
        }
      ]
    },
    {
      "cell_type": "code",
      "metadata": {
        "colab": {
          "base_uri": "https://localhost:8080/",
          "height": 963
        },
        "id": "itRN1wm_XyKQ",
        "outputId": "44064b6e-00c4-412f-97a1-71e11ad63ae1"
      },
      "source": [
        "df"
      ],
      "execution_count": null,
      "outputs": [
        {
          "output_type": "execute_result",
          "data": {
            "text/html": [
              "<div>\n",
              "<style scoped>\n",
              "    .dataframe tbody tr th:only-of-type {\n",
              "        vertical-align: middle;\n",
              "    }\n",
              "\n",
              "    .dataframe tbody tr th {\n",
              "        vertical-align: top;\n",
              "    }\n",
              "\n",
              "    .dataframe thead th {\n",
              "        text-align: right;\n",
              "    }\n",
              "</style>\n",
              "<table border=\"1\" class=\"dataframe\">\n",
              "  <thead>\n",
              "    <tr style=\"text-align: right;\">\n",
              "      <th></th>\n",
              "      <th>Age</th>\n",
              "      <th>Race</th>\n",
              "      <th>Marital Status</th>\n",
              "      <th>T Stage</th>\n",
              "      <th>N Stage</th>\n",
              "      <th>6th Stage</th>\n",
              "      <th>Grade</th>\n",
              "      <th>A Stage</th>\n",
              "      <th>Tumor Size</th>\n",
              "      <th>Estrogen Status</th>\n",
              "      <th>Progesterone Status</th>\n",
              "      <th>Regional Node Examined</th>\n",
              "      <th>Reginol Node Positive</th>\n",
              "      <th>Survival Months</th>\n",
              "      <th>Status</th>\n",
              "    </tr>\n",
              "  </thead>\n",
              "  <tbody>\n",
              "    <tr>\n",
              "      <th>0</th>\n",
              "      <td>43</td>\n",
              "      <td>Other (American Indian/AK Native, Asian/Pacifi...</td>\n",
              "      <td>Married (including common law)</td>\n",
              "      <td>T2</td>\n",
              "      <td>N3</td>\n",
              "      <td>IIIC</td>\n",
              "      <td>Moderately differentiated; Grade II</td>\n",
              "      <td>Regional</td>\n",
              "      <td>40</td>\n",
              "      <td>Positive</td>\n",
              "      <td>Positive</td>\n",
              "      <td>19</td>\n",
              "      <td>11</td>\n",
              "      <td>1</td>\n",
              "      <td>Alive</td>\n",
              "    </tr>\n",
              "    <tr>\n",
              "      <th>1</th>\n",
              "      <td>47</td>\n",
              "      <td>Other (American Indian/AK Native, Asian/Pacifi...</td>\n",
              "      <td>Married (including common law)</td>\n",
              "      <td>T2</td>\n",
              "      <td>N2</td>\n",
              "      <td>IIIA</td>\n",
              "      <td>Moderately differentiated; Grade II</td>\n",
              "      <td>Regional</td>\n",
              "      <td>45</td>\n",
              "      <td>Positive</td>\n",
              "      <td>Positive</td>\n",
              "      <td>25</td>\n",
              "      <td>9</td>\n",
              "      <td>2</td>\n",
              "      <td>Alive</td>\n",
              "    </tr>\n",
              "    <tr>\n",
              "      <th>2</th>\n",
              "      <td>67</td>\n",
              "      <td>White</td>\n",
              "      <td>Married (including common law)</td>\n",
              "      <td>T2</td>\n",
              "      <td>N1</td>\n",
              "      <td>IIB</td>\n",
              "      <td>Poorly differentiated; Grade III</td>\n",
              "      <td>Regional</td>\n",
              "      <td>25</td>\n",
              "      <td>Positive</td>\n",
              "      <td>Positive</td>\n",
              "      <td>4</td>\n",
              "      <td>1</td>\n",
              "      <td>2</td>\n",
              "      <td>Dead</td>\n",
              "    </tr>\n",
              "    <tr>\n",
              "      <th>3</th>\n",
              "      <td>46</td>\n",
              "      <td>White</td>\n",
              "      <td>Divorced</td>\n",
              "      <td>T1</td>\n",
              "      <td>N1</td>\n",
              "      <td>IIA</td>\n",
              "      <td>Moderately differentiated; Grade II</td>\n",
              "      <td>Regional</td>\n",
              "      <td>19</td>\n",
              "      <td>Positive</td>\n",
              "      <td>Positive</td>\n",
              "      <td>26</td>\n",
              "      <td>1</td>\n",
              "      <td>2</td>\n",
              "      <td>Dead</td>\n",
              "    </tr>\n",
              "    <tr>\n",
              "      <th>4</th>\n",
              "      <td>63</td>\n",
              "      <td>White</td>\n",
              "      <td>Married (including common law)</td>\n",
              "      <td>T2</td>\n",
              "      <td>N2</td>\n",
              "      <td>IIIA</td>\n",
              "      <td>Moderately differentiated; Grade II</td>\n",
              "      <td>Regional</td>\n",
              "      <td>35</td>\n",
              "      <td>Positive</td>\n",
              "      <td>Positive</td>\n",
              "      <td>21</td>\n",
              "      <td>5</td>\n",
              "      <td>3</td>\n",
              "      <td>Dead</td>\n",
              "    </tr>\n",
              "    <tr>\n",
              "      <th>...</th>\n",
              "      <td>...</td>\n",
              "      <td>...</td>\n",
              "      <td>...</td>\n",
              "      <td>...</td>\n",
              "      <td>...</td>\n",
              "      <td>...</td>\n",
              "      <td>...</td>\n",
              "      <td>...</td>\n",
              "      <td>...</td>\n",
              "      <td>...</td>\n",
              "      <td>...</td>\n",
              "      <td>...</td>\n",
              "      <td>...</td>\n",
              "      <td>...</td>\n",
              "      <td>...</td>\n",
              "    </tr>\n",
              "    <tr>\n",
              "      <th>4019</th>\n",
              "      <td>52</td>\n",
              "      <td>White</td>\n",
              "      <td>Married (including common law)</td>\n",
              "      <td>T1</td>\n",
              "      <td>N1</td>\n",
              "      <td>IIA</td>\n",
              "      <td>Well differentiated; Grade I</td>\n",
              "      <td>Regional</td>\n",
              "      <td>10</td>\n",
              "      <td>Positive</td>\n",
              "      <td>Positive</td>\n",
              "      <td>19</td>\n",
              "      <td>1</td>\n",
              "      <td>107</td>\n",
              "      <td>Alive</td>\n",
              "    </tr>\n",
              "    <tr>\n",
              "      <th>4020</th>\n",
              "      <td>53</td>\n",
              "      <td>White</td>\n",
              "      <td>Married (including common law)</td>\n",
              "      <td>T1</td>\n",
              "      <td>N2</td>\n",
              "      <td>IIIA</td>\n",
              "      <td>Poorly differentiated; Grade III</td>\n",
              "      <td>Regional</td>\n",
              "      <td>9</td>\n",
              "      <td>Negative</td>\n",
              "      <td>Negative</td>\n",
              "      <td>13</td>\n",
              "      <td>5</td>\n",
              "      <td>107</td>\n",
              "      <td>Alive</td>\n",
              "    </tr>\n",
              "    <tr>\n",
              "      <th>4021</th>\n",
              "      <td>53</td>\n",
              "      <td>White</td>\n",
              "      <td>Divorced</td>\n",
              "      <td>T1</td>\n",
              "      <td>N1</td>\n",
              "      <td>IIA</td>\n",
              "      <td>Moderately differentiated; Grade II</td>\n",
              "      <td>Regional</td>\n",
              "      <td>9</td>\n",
              "      <td>Negative</td>\n",
              "      <td>Negative</td>\n",
              "      <td>4</td>\n",
              "      <td>2</td>\n",
              "      <td>107</td>\n",
              "      <td>Alive</td>\n",
              "    </tr>\n",
              "    <tr>\n",
              "      <th>4022</th>\n",
              "      <td>60</td>\n",
              "      <td>Other (American Indian/AK Native, Asian/Pacifi...</td>\n",
              "      <td>Married (including common law)</td>\n",
              "      <td>T1</td>\n",
              "      <td>N1</td>\n",
              "      <td>IIA</td>\n",
              "      <td>Moderately differentiated; Grade II</td>\n",
              "      <td>Regional</td>\n",
              "      <td>9</td>\n",
              "      <td>Positive</td>\n",
              "      <td>Positive</td>\n",
              "      <td>14</td>\n",
              "      <td>2</td>\n",
              "      <td>107</td>\n",
              "      <td>Alive</td>\n",
              "    </tr>\n",
              "    <tr>\n",
              "      <th>4023</th>\n",
              "      <td>62</td>\n",
              "      <td>White</td>\n",
              "      <td>Divorced</td>\n",
              "      <td>T1</td>\n",
              "      <td>N1</td>\n",
              "      <td>IIA</td>\n",
              "      <td>Moderately differentiated; Grade II</td>\n",
              "      <td>Regional</td>\n",
              "      <td>8</td>\n",
              "      <td>Positive</td>\n",
              "      <td>Positive</td>\n",
              "      <td>1</td>\n",
              "      <td>1</td>\n",
              "      <td>107</td>\n",
              "      <td>Alive</td>\n",
              "    </tr>\n",
              "  </tbody>\n",
              "</table>\n",
              "<p>4024 rows × 15 columns</p>\n",
              "</div>"
            ],
            "text/plain": [
              "      Age  ... Status\n",
              "0      43  ...  Alive\n",
              "1      47  ...  Alive\n",
              "2      67  ...   Dead\n",
              "3      46  ...   Dead\n",
              "4      63  ...   Dead\n",
              "...   ...  ...    ...\n",
              "4019   52  ...  Alive\n",
              "4020   53  ...  Alive\n",
              "4021   53  ...  Alive\n",
              "4022   60  ...  Alive\n",
              "4023   62  ...  Alive\n",
              "\n",
              "[4024 rows x 15 columns]"
            ]
          },
          "metadata": {
            "tags": []
          },
          "execution_count": 9
        }
      ]
    },
    {
      "cell_type": "code",
      "metadata": {
        "colab": {
          "base_uri": "https://localhost:8080/",
          "height": 419
        },
        "id": "KAhs-GJqmUjf",
        "outputId": "6bf2551b-0c20-4640-92df-f55839079567"
      },
      "source": [
        "#3a.Transformation on tumor size\n",
        "#Breast cancer tumors over 20 millimeters in size are generally classified as larger tumors.\n",
        "#This classification guideline is based on Narod's cohort study referenced in the paper.\n",
        "for idx, row in df.iterrows():\n",
        "  if row['Tumor Size'] >= 20:\n",
        "    df.loc[idx, 'Tumor Size_description'] = 'Large'\n",
        "  else:\n",
        "    df.loc[idx, 'Tumor Size_description'] = 'Small'\n",
        "df[['Tumor Size', 'Tumor Size_description']]"
      ],
      "execution_count": null,
      "outputs": [
        {
          "output_type": "execute_result",
          "data": {
            "text/html": [
              "<div>\n",
              "<style scoped>\n",
              "    .dataframe tbody tr th:only-of-type {\n",
              "        vertical-align: middle;\n",
              "    }\n",
              "\n",
              "    .dataframe tbody tr th {\n",
              "        vertical-align: top;\n",
              "    }\n",
              "\n",
              "    .dataframe thead th {\n",
              "        text-align: right;\n",
              "    }\n",
              "</style>\n",
              "<table border=\"1\" class=\"dataframe\">\n",
              "  <thead>\n",
              "    <tr style=\"text-align: right;\">\n",
              "      <th></th>\n",
              "      <th>Tumor Size</th>\n",
              "      <th>Tumor Size_description</th>\n",
              "    </tr>\n",
              "  </thead>\n",
              "  <tbody>\n",
              "    <tr>\n",
              "      <th>0</th>\n",
              "      <td>40</td>\n",
              "      <td>Large</td>\n",
              "    </tr>\n",
              "    <tr>\n",
              "      <th>1</th>\n",
              "      <td>45</td>\n",
              "      <td>Large</td>\n",
              "    </tr>\n",
              "    <tr>\n",
              "      <th>2</th>\n",
              "      <td>25</td>\n",
              "      <td>Large</td>\n",
              "    </tr>\n",
              "    <tr>\n",
              "      <th>3</th>\n",
              "      <td>19</td>\n",
              "      <td>Small</td>\n",
              "    </tr>\n",
              "    <tr>\n",
              "      <th>4</th>\n",
              "      <td>35</td>\n",
              "      <td>Large</td>\n",
              "    </tr>\n",
              "    <tr>\n",
              "      <th>...</th>\n",
              "      <td>...</td>\n",
              "      <td>...</td>\n",
              "    </tr>\n",
              "    <tr>\n",
              "      <th>4019</th>\n",
              "      <td>10</td>\n",
              "      <td>Small</td>\n",
              "    </tr>\n",
              "    <tr>\n",
              "      <th>4020</th>\n",
              "      <td>9</td>\n",
              "      <td>Small</td>\n",
              "    </tr>\n",
              "    <tr>\n",
              "      <th>4021</th>\n",
              "      <td>9</td>\n",
              "      <td>Small</td>\n",
              "    </tr>\n",
              "    <tr>\n",
              "      <th>4022</th>\n",
              "      <td>9</td>\n",
              "      <td>Small</td>\n",
              "    </tr>\n",
              "    <tr>\n",
              "      <th>4023</th>\n",
              "      <td>8</td>\n",
              "      <td>Small</td>\n",
              "    </tr>\n",
              "  </tbody>\n",
              "</table>\n",
              "<p>4024 rows × 2 columns</p>\n",
              "</div>"
            ],
            "text/plain": [
              "      Tumor Size Tumor Size_description\n",
              "0             40                  Large\n",
              "1             45                  Large\n",
              "2             25                  Large\n",
              "3             19                  Small\n",
              "4             35                  Large\n",
              "...          ...                    ...\n",
              "4019          10                  Small\n",
              "4020           9                  Small\n",
              "4021           9                  Small\n",
              "4022           9                  Small\n",
              "4023           8                  Small\n",
              "\n",
              "[4024 rows x 2 columns]"
            ]
          },
          "metadata": {
            "tags": []
          },
          "execution_count": 10
        }
      ]
    },
    {
      "cell_type": "code",
      "metadata": {
        "colab": {
          "base_uri": "https://localhost:8080/",
          "height": 419
        },
        "id": "mK-RoaKYgBXZ",
        "outputId": "a304bf82-c200-4afa-82fb-d4336c2d1779"
      },
      "source": [
        "#3b.Transformation on age and likelihood of onset of menopause (average menopause age is 51)\n",
        "def rules(row):\n",
        "  if row['Age'] >= 51:\n",
        "    return 'Menopausal'\n",
        "  elif row['Age'] < 51:\n",
        "    return 'Premenopausal'\n",
        "df['Menopausal_likelihood'] = df.apply(rules,1)\n",
        "df[['Age', 'Menopausal_likelihood']]"
      ],
      "execution_count": null,
      "outputs": [
        {
          "output_type": "execute_result",
          "data": {
            "text/html": [
              "<div>\n",
              "<style scoped>\n",
              "    .dataframe tbody tr th:only-of-type {\n",
              "        vertical-align: middle;\n",
              "    }\n",
              "\n",
              "    .dataframe tbody tr th {\n",
              "        vertical-align: top;\n",
              "    }\n",
              "\n",
              "    .dataframe thead th {\n",
              "        text-align: right;\n",
              "    }\n",
              "</style>\n",
              "<table border=\"1\" class=\"dataframe\">\n",
              "  <thead>\n",
              "    <tr style=\"text-align: right;\">\n",
              "      <th></th>\n",
              "      <th>Age</th>\n",
              "      <th>Menopausal_likelihood</th>\n",
              "    </tr>\n",
              "  </thead>\n",
              "  <tbody>\n",
              "    <tr>\n",
              "      <th>0</th>\n",
              "      <td>43</td>\n",
              "      <td>Premenopausal</td>\n",
              "    </tr>\n",
              "    <tr>\n",
              "      <th>1</th>\n",
              "      <td>47</td>\n",
              "      <td>Premenopausal</td>\n",
              "    </tr>\n",
              "    <tr>\n",
              "      <th>2</th>\n",
              "      <td>67</td>\n",
              "      <td>Menopausal</td>\n",
              "    </tr>\n",
              "    <tr>\n",
              "      <th>3</th>\n",
              "      <td>46</td>\n",
              "      <td>Premenopausal</td>\n",
              "    </tr>\n",
              "    <tr>\n",
              "      <th>4</th>\n",
              "      <td>63</td>\n",
              "      <td>Menopausal</td>\n",
              "    </tr>\n",
              "    <tr>\n",
              "      <th>...</th>\n",
              "      <td>...</td>\n",
              "      <td>...</td>\n",
              "    </tr>\n",
              "    <tr>\n",
              "      <th>4019</th>\n",
              "      <td>52</td>\n",
              "      <td>Menopausal</td>\n",
              "    </tr>\n",
              "    <tr>\n",
              "      <th>4020</th>\n",
              "      <td>53</td>\n",
              "      <td>Menopausal</td>\n",
              "    </tr>\n",
              "    <tr>\n",
              "      <th>4021</th>\n",
              "      <td>53</td>\n",
              "      <td>Menopausal</td>\n",
              "    </tr>\n",
              "    <tr>\n",
              "      <th>4022</th>\n",
              "      <td>60</td>\n",
              "      <td>Menopausal</td>\n",
              "    </tr>\n",
              "    <tr>\n",
              "      <th>4023</th>\n",
              "      <td>62</td>\n",
              "      <td>Menopausal</td>\n",
              "    </tr>\n",
              "  </tbody>\n",
              "</table>\n",
              "<p>4024 rows × 2 columns</p>\n",
              "</div>"
            ],
            "text/plain": [
              "      Age Menopausal_likelihood\n",
              "0      43         Premenopausal\n",
              "1      47         Premenopausal\n",
              "2      67            Menopausal\n",
              "3      46         Premenopausal\n",
              "4      63            Menopausal\n",
              "...   ...                   ...\n",
              "4019   52            Menopausal\n",
              "4020   53            Menopausal\n",
              "4021   53            Menopausal\n",
              "4022   60            Menopausal\n",
              "4023   62            Menopausal\n",
              "\n",
              "[4024 rows x 2 columns]"
            ]
          },
          "metadata": {
            "tags": []
          },
          "execution_count": 11
        }
      ]
    },
    {
      "cell_type": "code",
      "metadata": {
        "colab": {
          "base_uri": "https://localhost:8080/"
        },
        "id": "7lGZIZxdwA90",
        "outputId": "2dd804f2-6c75-4170-a265-6e086893dcab"
      },
      "source": [
        "#Transformation to group ages\n",
        "def rules3(row):\n",
        "  if row['Age'] <= 49:\n",
        "    return '30-49'\n",
        "  elif row['Age'] > 49: \n",
        "    return '50-69'\n",
        "df['Age Groups'] = df.apply(rules3,1)\n",
        "df['Age Groups']"
      ],
      "execution_count": null,
      "outputs": [
        {
          "output_type": "execute_result",
          "data": {
            "text/plain": [
              "0       30-49\n",
              "1       30-49\n",
              "2       50-69\n",
              "3       30-49\n",
              "4       50-69\n",
              "        ...  \n",
              "4019    50-69\n",
              "4020    50-69\n",
              "4021    50-69\n",
              "4022    50-69\n",
              "4023    50-69\n",
              "Name: Age Groups, Length: 4024, dtype: object"
            ]
          },
          "metadata": {
            "tags": []
          },
          "execution_count": 41
        }
      ]
    },
    {
      "cell_type": "code",
      "metadata": {
        "colab": {
          "base_uri": "https://localhost:8080/",
          "height": 419
        },
        "id": "HfEocSkPo_p0",
        "outputId": "6d31cbf4-ed68-4277-8841-a944d3c25208"
      },
      "source": [
        "#Display of all transformations\n",
        "df[['Tumor Size', 'Tumor Size_description', 'Age', 'Menopausal_likelihood']]"
      ],
      "execution_count": null,
      "outputs": [
        {
          "output_type": "execute_result",
          "data": {
            "text/html": [
              "<div>\n",
              "<style scoped>\n",
              "    .dataframe tbody tr th:only-of-type {\n",
              "        vertical-align: middle;\n",
              "    }\n",
              "\n",
              "    .dataframe tbody tr th {\n",
              "        vertical-align: top;\n",
              "    }\n",
              "\n",
              "    .dataframe thead th {\n",
              "        text-align: right;\n",
              "    }\n",
              "</style>\n",
              "<table border=\"1\" class=\"dataframe\">\n",
              "  <thead>\n",
              "    <tr style=\"text-align: right;\">\n",
              "      <th></th>\n",
              "      <th>Tumor Size</th>\n",
              "      <th>Tumor Size_description</th>\n",
              "      <th>Age</th>\n",
              "      <th>Menopausal_likelihood</th>\n",
              "      <th>Age Groups</th>\n",
              "    </tr>\n",
              "  </thead>\n",
              "  <tbody>\n",
              "    <tr>\n",
              "      <th>0</th>\n",
              "      <td>40</td>\n",
              "      <td>Large</td>\n",
              "      <td>43</td>\n",
              "      <td>Premenopausal</td>\n",
              "      <td>30-49</td>\n",
              "    </tr>\n",
              "    <tr>\n",
              "      <th>1</th>\n",
              "      <td>45</td>\n",
              "      <td>Large</td>\n",
              "      <td>47</td>\n",
              "      <td>Premenopausal</td>\n",
              "      <td>30-49</td>\n",
              "    </tr>\n",
              "    <tr>\n",
              "      <th>2</th>\n",
              "      <td>25</td>\n",
              "      <td>Large</td>\n",
              "      <td>67</td>\n",
              "      <td>Menopausal</td>\n",
              "      <td>50-69</td>\n",
              "    </tr>\n",
              "    <tr>\n",
              "      <th>3</th>\n",
              "      <td>19</td>\n",
              "      <td>Small</td>\n",
              "      <td>46</td>\n",
              "      <td>Premenopausal</td>\n",
              "      <td>30-49</td>\n",
              "    </tr>\n",
              "    <tr>\n",
              "      <th>4</th>\n",
              "      <td>35</td>\n",
              "      <td>Large</td>\n",
              "      <td>63</td>\n",
              "      <td>Menopausal</td>\n",
              "      <td>50-69</td>\n",
              "    </tr>\n",
              "    <tr>\n",
              "      <th>...</th>\n",
              "      <td>...</td>\n",
              "      <td>...</td>\n",
              "      <td>...</td>\n",
              "      <td>...</td>\n",
              "      <td>...</td>\n",
              "    </tr>\n",
              "    <tr>\n",
              "      <th>4019</th>\n",
              "      <td>10</td>\n",
              "      <td>Small</td>\n",
              "      <td>52</td>\n",
              "      <td>Menopausal</td>\n",
              "      <td>50-69</td>\n",
              "    </tr>\n",
              "    <tr>\n",
              "      <th>4020</th>\n",
              "      <td>9</td>\n",
              "      <td>Small</td>\n",
              "      <td>53</td>\n",
              "      <td>Menopausal</td>\n",
              "      <td>50-69</td>\n",
              "    </tr>\n",
              "    <tr>\n",
              "      <th>4021</th>\n",
              "      <td>9</td>\n",
              "      <td>Small</td>\n",
              "      <td>53</td>\n",
              "      <td>Menopausal</td>\n",
              "      <td>50-69</td>\n",
              "    </tr>\n",
              "    <tr>\n",
              "      <th>4022</th>\n",
              "      <td>9</td>\n",
              "      <td>Small</td>\n",
              "      <td>60</td>\n",
              "      <td>Menopausal</td>\n",
              "      <td>50-69</td>\n",
              "    </tr>\n",
              "    <tr>\n",
              "      <th>4023</th>\n",
              "      <td>8</td>\n",
              "      <td>Small</td>\n",
              "      <td>62</td>\n",
              "      <td>Menopausal</td>\n",
              "      <td>50-69</td>\n",
              "    </tr>\n",
              "  </tbody>\n",
              "</table>\n",
              "<p>4024 rows × 5 columns</p>\n",
              "</div>"
            ],
            "text/plain": [
              "      Tumor Size Tumor Size_description  Age Menopausal_likelihood Age Groups\n",
              "0             40                  Large   43         Premenopausal      30-49\n",
              "1             45                  Large   47         Premenopausal      30-49\n",
              "2             25                  Large   67            Menopausal      50-69\n",
              "3             19                  Small   46         Premenopausal      30-49\n",
              "4             35                  Large   63            Menopausal      50-69\n",
              "...          ...                    ...  ...                   ...        ...\n",
              "4019          10                  Small   52            Menopausal      50-69\n",
              "4020           9                  Small   53            Menopausal      50-69\n",
              "4021           9                  Small   53            Menopausal      50-69\n",
              "4022           9                  Small   60            Menopausal      50-69\n",
              "4023           8                  Small   62            Menopausal      50-69\n",
              "\n",
              "[4024 rows x 5 columns]"
            ]
          },
          "metadata": {
            "tags": []
          },
          "execution_count": 40
        }
      ]
    },
    {
      "cell_type": "code",
      "metadata": {
        "id": "xVNFqjijQXuv",
        "colab": {
          "base_uri": "https://localhost:8080/",
          "height": 297
        },
        "outputId": "802af8ac-0468-486f-f9d8-27b25c2ad602"
      },
      "source": [
        "#4&6.Central tendency & quartile ranges (.25, .50, .75)\n",
        "df[['Age','Tumor Size', 'Survival Months']].describe()"
      ],
      "execution_count": null,
      "outputs": [
        {
          "output_type": "execute_result",
          "data": {
            "text/html": [
              "<div>\n",
              "<style scoped>\n",
              "    .dataframe tbody tr th:only-of-type {\n",
              "        vertical-align: middle;\n",
              "    }\n",
              "\n",
              "    .dataframe tbody tr th {\n",
              "        vertical-align: top;\n",
              "    }\n",
              "\n",
              "    .dataframe thead th {\n",
              "        text-align: right;\n",
              "    }\n",
              "</style>\n",
              "<table border=\"1\" class=\"dataframe\">\n",
              "  <thead>\n",
              "    <tr style=\"text-align: right;\">\n",
              "      <th></th>\n",
              "      <th>Age</th>\n",
              "      <th>Tumor Size</th>\n",
              "      <th>Survival Months</th>\n",
              "    </tr>\n",
              "  </thead>\n",
              "  <tbody>\n",
              "    <tr>\n",
              "      <th>count</th>\n",
              "      <td>4024.000000</td>\n",
              "      <td>4024.000000</td>\n",
              "      <td>4024.000000</td>\n",
              "    </tr>\n",
              "    <tr>\n",
              "      <th>mean</th>\n",
              "      <td>53.972167</td>\n",
              "      <td>30.473658</td>\n",
              "      <td>71.297962</td>\n",
              "    </tr>\n",
              "    <tr>\n",
              "      <th>std</th>\n",
              "      <td>8.963134</td>\n",
              "      <td>21.119696</td>\n",
              "      <td>22.921430</td>\n",
              "    </tr>\n",
              "    <tr>\n",
              "      <th>min</th>\n",
              "      <td>30.000000</td>\n",
              "      <td>1.000000</td>\n",
              "      <td>1.000000</td>\n",
              "    </tr>\n",
              "    <tr>\n",
              "      <th>25%</th>\n",
              "      <td>47.000000</td>\n",
              "      <td>16.000000</td>\n",
              "      <td>56.000000</td>\n",
              "    </tr>\n",
              "    <tr>\n",
              "      <th>50%</th>\n",
              "      <td>54.000000</td>\n",
              "      <td>25.000000</td>\n",
              "      <td>73.000000</td>\n",
              "    </tr>\n",
              "    <tr>\n",
              "      <th>75%</th>\n",
              "      <td>61.000000</td>\n",
              "      <td>38.000000</td>\n",
              "      <td>90.000000</td>\n",
              "    </tr>\n",
              "    <tr>\n",
              "      <th>max</th>\n",
              "      <td>69.000000</td>\n",
              "      <td>140.000000</td>\n",
              "      <td>107.000000</td>\n",
              "    </tr>\n",
              "  </tbody>\n",
              "</table>\n",
              "</div>"
            ],
            "text/plain": [
              "               Age   Tumor Size  Survival Months\n",
              "count  4024.000000  4024.000000      4024.000000\n",
              "mean     53.972167    30.473658        71.297962\n",
              "std       8.963134    21.119696        22.921430\n",
              "min      30.000000     1.000000         1.000000\n",
              "25%      47.000000    16.000000        56.000000\n",
              "50%      54.000000    25.000000        73.000000\n",
              "75%      61.000000    38.000000        90.000000\n",
              "max      69.000000   140.000000       107.000000"
            ]
          },
          "metadata": {
            "tags": []
          },
          "execution_count": 13
        }
      ]
    },
    {
      "cell_type": "code",
      "metadata": {
        "colab": {
          "base_uri": "https://localhost:8080/"
        },
        "id": "1AqZJmxqy01w",
        "outputId": "204a4046-2308-4506-cfe3-782b2e22e0ca"
      },
      "source": [
        "df[['Age','Tumor Size', 'Regional Node Examined']].median()"
      ],
      "execution_count": null,
      "outputs": [
        {
          "output_type": "execute_result",
          "data": {
            "text/plain": [
              "Age                       54.0\n",
              "Tumor Size                25.0\n",
              "Regional Node Examined    14.0\n",
              "dtype: float64"
            ]
          },
          "metadata": {
            "tags": []
          },
          "execution_count": 14
        }
      ]
    },
    {
      "cell_type": "code",
      "metadata": {
        "colab": {
          "base_uri": "https://localhost:8080/",
          "height": 80
        },
        "id": "p-7SOCLyzamB",
        "outputId": "7ee14e01-5c6c-4abe-cce1-090723f60266"
      },
      "source": [
        "df[['Age','Tumor Size', 'Regional Node Examined']].mode()"
      ],
      "execution_count": null,
      "outputs": [
        {
          "output_type": "execute_result",
          "data": {
            "text/html": [
              "<div>\n",
              "<style scoped>\n",
              "    .dataframe tbody tr th:only-of-type {\n",
              "        vertical-align: middle;\n",
              "    }\n",
              "\n",
              "    .dataframe tbody tr th {\n",
              "        vertical-align: top;\n",
              "    }\n",
              "\n",
              "    .dataframe thead th {\n",
              "        text-align: right;\n",
              "    }\n",
              "</style>\n",
              "<table border=\"1\" class=\"dataframe\">\n",
              "  <thead>\n",
              "    <tr style=\"text-align: right;\">\n",
              "      <th></th>\n",
              "      <th>Age</th>\n",
              "      <th>Tumor Size</th>\n",
              "      <th>Regional Node Examined</th>\n",
              "    </tr>\n",
              "  </thead>\n",
              "  <tbody>\n",
              "    <tr>\n",
              "      <th>0</th>\n",
              "      <td>46</td>\n",
              "      <td>15</td>\n",
              "      <td>13</td>\n",
              "    </tr>\n",
              "  </tbody>\n",
              "</table>\n",
              "</div>"
            ],
            "text/plain": [
              "   Age  Tumor Size  Regional Node Examined\n",
              "0   46          15                      13"
            ]
          },
          "metadata": {
            "tags": []
          },
          "execution_count": 15
        }
      ]
    },
    {
      "cell_type": "code",
      "metadata": {
        "colab": {
          "base_uri": "https://localhost:8080/"
        },
        "id": "kqCgN5JXjBT3",
        "outputId": "3d45bacd-1cdf-4d4e-d71f-29cbafd0c159"
      },
      "source": [
        "#5.Value counts of age\n",
        "#The majority of participants with breast canceer are older than 40 years old.\n",
        "df[['Age']].value_counts()"
      ],
      "execution_count": null,
      "outputs": [
        {
          "output_type": "execute_result",
          "data": {
            "text/plain": [
              "Age\n",
              "46     163\n",
              "49     162\n",
              "47     161\n",
              "53     155\n",
              "55     154\n",
              "63     153\n",
              "62     149\n",
              "51     148\n",
              "59     147\n",
              "50     144\n",
              "57     144\n",
              "61     143\n",
              "48     140\n",
              "60     140\n",
              "56     132\n",
              "54     128\n",
              "65     122\n",
              "58     120\n",
              "67     119\n",
              "66     119\n",
              "52     118\n",
              "64     116\n",
              "68     111\n",
              "69     108\n",
              "45     102\n",
              "43      92\n",
              "42      82\n",
              "44      79\n",
              "40      72\n",
              "41      71\n",
              "39      52\n",
              "38      45\n",
              "37      28\n",
              "36      24\n",
              "35      20\n",
              "33      15\n",
              "34      14\n",
              "31      14\n",
              "32      13\n",
              "30       5\n",
              "dtype: int64"
            ]
          },
          "metadata": {
            "tags": []
          },
          "execution_count": 16
        }
      ]
    },
    {
      "cell_type": "code",
      "metadata": {
        "colab": {
          "base_uri": "https://localhost:8080/"
        },
        "id": "j1qTmQ35wAmm",
        "outputId": "702429fa-6c39-4897-95ec-7585d99dd546"
      },
      "source": [
        "#Value count of patients with estrogen positive breast cancer\n",
        "#Majority of participants have ER+ breast cancer.\n",
        "df[['Estrogen Status']].value_counts()"
      ],
      "execution_count": null,
      "outputs": [
        {
          "output_type": "execute_result",
          "data": {
            "text/plain": [
              "Estrogen Status\n",
              "Positive           3755\n",
              "Negative            269\n",
              "dtype: int64"
            ]
          },
          "metadata": {
            "tags": []
          },
          "execution_count": 17
        }
      ]
    },
    {
      "cell_type": "code",
      "metadata": {
        "colab": {
          "base_uri": "https://localhost:8080/"
        },
        "id": "l14Ep77zjNY0",
        "outputId": "47bebe06-86e4-46cc-9936-d4ba50aa2d5e"
      },
      "source": [
        "#5.Value counts of age\n",
        "# The majority of patients were alive until the follow-up cut-off date \n",
        "df[['Status']].value_counts()"
      ],
      "execution_count": null,
      "outputs": [
        {
          "output_type": "execute_result",
          "data": {
            "text/plain": [
              "Status\n",
              "Alive     3408\n",
              "Dead       616\n",
              "dtype: int64"
            ]
          },
          "metadata": {
            "tags": []
          },
          "execution_count": 18
        }
      ]
    },
    {
      "cell_type": "code",
      "metadata": {
        "id": "cZ98fh3TQdcB",
        "colab": {
          "base_uri": "https://localhost:8080/"
        },
        "outputId": "cbae2a34-67bb-4eac-bd3e-377cf1b3f2af"
      },
      "source": [
        "#5.Value counts of tumor size\n",
        "# The most common tumor size is 15 millimeters.\n",
        "# The total amount of participants with large tumors exceeds those with smaller tumors.\n",
        "df[['Tumor Size', 'Tumor Size_description']].value_counts()"
      ],
      "execution_count": null,
      "outputs": [
        {
          "output_type": "execute_result",
          "data": {
            "text/plain": [
              "Tumor Size  Tumor Size_description\n",
              "15          Small                     271\n",
              "25          Large                     268\n",
              "30          Large                     228\n",
              "20          Large                     211\n",
              "35          Large                     161\n",
              "                                     ... \n",
              "96          Large                       1\n",
              "67          Large                       1\n",
              "94          Large                       1\n",
              "88          Large                       1\n",
              "98          Large                       1\n",
              "Length: 110, dtype: int64"
            ]
          },
          "metadata": {
            "tags": []
          },
          "execution_count": 19
        }
      ]
    },
    {
      "cell_type": "code",
      "metadata": {
        "colab": {
          "base_uri": "https://localhost:8080/"
        },
        "id": "fftlhupTmI3f",
        "outputId": "18c55917-2336-43a1-f61d-59fc981c20ea"
      },
      "source": [
        "#5.Value counts of regional nodes that have metastasized\n",
        "df[['Regional Node Examined']].value_counts()"
      ],
      "execution_count": null,
      "outputs": [
        {
          "output_type": "execute_result",
          "data": {
            "text/plain": [
              "Regional Node Examined\n",
              "13                        251\n",
              "14                        225\n",
              "16                        221\n",
              "12                        205\n",
              "9                         198\n",
              "15                        195\n",
              "11                        191\n",
              "10                        183\n",
              "18                        176\n",
              "17                        175\n",
              "19                        152\n",
              "8                         148\n",
              "2                         137\n",
              "20                        126\n",
              "3                         116\n",
              "6                         115\n",
              "4                         114\n",
              "5                         110\n",
              "21                        109\n",
              "7                         104\n",
              "23                         98\n",
              "1                          97\n",
              "24                         84\n",
              "22                         82\n",
              "26                         64\n",
              "25                         58\n",
              "27                         49\n",
              "28                         45\n",
              "29                         34\n",
              "30                         27\n",
              "32                         22\n",
              "31                         20\n",
              "33                         13\n",
              "35                         10\n",
              "36                          9\n",
              "34                          8\n",
              "37                          8\n",
              "41                          6\n",
              "47                          6\n",
              "39                          6\n",
              "40                          5\n",
              "38                          4\n",
              "43                          3\n",
              "51                          3\n",
              "42                          2\n",
              "49                          2\n",
              "57                          1\n",
              "54                          1\n",
              "52                          1\n",
              "60                          1\n",
              "46                          1\n",
              "45                          1\n",
              "44                          1\n",
              "61                          1\n",
              "dtype: int64"
            ]
          },
          "metadata": {
            "tags": []
          },
          "execution_count": 20
        }
      ]
    },
    {
      "cell_type": "code",
      "metadata": {
        "colab": {
          "base_uri": "https://localhost:8080/",
          "height": 142
        },
        "id": "quDYR_8J8_tM",
        "outputId": "aaa32408-62bf-448c-80e9-d8b2861c8f50"
      },
      "source": [
        "#When grouped by likelihood of onset of menopause, premenopausal women tend to have larger tumors.\n",
        "df.groupby(['Menopausal_likelihood'])['Tumor Size'].describe()\n"
      ],
      "execution_count": null,
      "outputs": [
        {
          "output_type": "execute_result",
          "data": {
            "text/html": [
              "<div>\n",
              "<style scoped>\n",
              "    .dataframe tbody tr th:only-of-type {\n",
              "        vertical-align: middle;\n",
              "    }\n",
              "\n",
              "    .dataframe tbody tr th {\n",
              "        vertical-align: top;\n",
              "    }\n",
              "\n",
              "    .dataframe thead th {\n",
              "        text-align: right;\n",
              "    }\n",
              "</style>\n",
              "<table border=\"1\" class=\"dataframe\">\n",
              "  <thead>\n",
              "    <tr style=\"text-align: right;\">\n",
              "      <th></th>\n",
              "      <th>count</th>\n",
              "      <th>mean</th>\n",
              "      <th>std</th>\n",
              "      <th>min</th>\n",
              "      <th>25%</th>\n",
              "      <th>50%</th>\n",
              "      <th>75%</th>\n",
              "      <th>max</th>\n",
              "    </tr>\n",
              "    <tr>\n",
              "      <th>Menopausal_likelihood</th>\n",
              "      <th></th>\n",
              "      <th></th>\n",
              "      <th></th>\n",
              "      <th></th>\n",
              "      <th></th>\n",
              "      <th></th>\n",
              "      <th></th>\n",
              "      <th></th>\n",
              "    </tr>\n",
              "  </thead>\n",
              "  <tbody>\n",
              "    <tr>\n",
              "      <th>Menopausal</th>\n",
              "      <td>2526.0</td>\n",
              "      <td>29.200317</td>\n",
              "      <td>20.235374</td>\n",
              "      <td>1.0</td>\n",
              "      <td>15.0</td>\n",
              "      <td>23.0</td>\n",
              "      <td>35.0</td>\n",
              "      <td>140.0</td>\n",
              "    </tr>\n",
              "    <tr>\n",
              "      <th>Premenopausal</th>\n",
              "      <td>1498.0</td>\n",
              "      <td>32.620828</td>\n",
              "      <td>22.375770</td>\n",
              "      <td>1.0</td>\n",
              "      <td>17.0</td>\n",
              "      <td>25.0</td>\n",
              "      <td>40.0</td>\n",
              "      <td>140.0</td>\n",
              "    </tr>\n",
              "  </tbody>\n",
              "</table>\n",
              "</div>"
            ],
            "text/plain": [
              "                        count       mean        std  ...   50%   75%    max\n",
              "Menopausal_likelihood                                ...                   \n",
              "Menopausal             2526.0  29.200317  20.235374  ...  23.0  35.0  140.0\n",
              "Premenopausal          1498.0  32.620828  22.375770  ...  25.0  40.0  140.0\n",
              "\n",
              "[2 rows x 8 columns]"
            ]
          },
          "metadata": {
            "tags": []
          },
          "execution_count": 21
        }
      ]
    },
    {
      "cell_type": "code",
      "metadata": {
        "colab": {
          "base_uri": "https://localhost:8080/",
          "height": 142
        },
        "id": "ea-Fx6ryxIcG",
        "outputId": "5341362d-d183-4b71-f3ea-106dd860f6e3"
      },
      "source": [
        "#When grouped by age groups, older women tend to have more regional nodes that have metastasized.\n",
        "df.groupby(['Age Groups'])['Reginol Node Positive'].describe()\n"
      ],
      "execution_count": null,
      "outputs": [
        {
          "output_type": "execute_result",
          "data": {
            "text/html": [
              "<div>\n",
              "<style scoped>\n",
              "    .dataframe tbody tr th:only-of-type {\n",
              "        vertical-align: middle;\n",
              "    }\n",
              "\n",
              "    .dataframe tbody tr th {\n",
              "        vertical-align: top;\n",
              "    }\n",
              "\n",
              "    .dataframe thead th {\n",
              "        text-align: right;\n",
              "    }\n",
              "</style>\n",
              "<table border=\"1\" class=\"dataframe\">\n",
              "  <thead>\n",
              "    <tr style=\"text-align: right;\">\n",
              "      <th></th>\n",
              "      <th>count</th>\n",
              "      <th>mean</th>\n",
              "      <th>std</th>\n",
              "      <th>min</th>\n",
              "      <th>25%</th>\n",
              "      <th>50%</th>\n",
              "      <th>75%</th>\n",
              "      <th>max</th>\n",
              "    </tr>\n",
              "    <tr>\n",
              "      <th>Age Groups</th>\n",
              "      <th></th>\n",
              "      <th></th>\n",
              "      <th></th>\n",
              "      <th></th>\n",
              "      <th></th>\n",
              "      <th></th>\n",
              "      <th></th>\n",
              "      <th></th>\n",
              "    </tr>\n",
              "  </thead>\n",
              "  <tbody>\n",
              "    <tr>\n",
              "      <th>30-49</th>\n",
              "      <td>1354.0</td>\n",
              "      <td>3.916544</td>\n",
              "      <td>4.667952</td>\n",
              "      <td>1.0</td>\n",
              "      <td>1.0</td>\n",
              "      <td>2.0</td>\n",
              "      <td>5.0</td>\n",
              "      <td>46.0</td>\n",
              "    </tr>\n",
              "    <tr>\n",
              "      <th>50-69</th>\n",
              "      <td>2670.0</td>\n",
              "      <td>4.280524</td>\n",
              "      <td>5.315835</td>\n",
              "      <td>1.0</td>\n",
              "      <td>1.0</td>\n",
              "      <td>2.0</td>\n",
              "      <td>5.0</td>\n",
              "      <td>41.0</td>\n",
              "    </tr>\n",
              "  </tbody>\n",
              "</table>\n",
              "</div>"
            ],
            "text/plain": [
              "             count      mean       std  min  25%  50%  75%   max\n",
              "Age Groups                                                      \n",
              "30-49       1354.0  3.916544  4.667952  1.0  1.0  2.0  5.0  46.0\n",
              "50-69       2670.0  4.280524  5.315835  1.0  1.0  2.0  5.0  41.0"
            ]
          },
          "metadata": {
            "tags": []
          },
          "execution_count": 45
        }
      ]
    },
    {
      "cell_type": "code",
      "metadata": {
        "colab": {
          "base_uri": "https://localhost:8080/",
          "height": 296
        },
        "id": "2RzMN14YoII4",
        "outputId": "8d1ec3d7-a6e1-4c0e-e0c2-b39a4e4af646"
      },
      "source": [
        "#7.Create at least 2 visualizations that help the reader understand your dataset\n",
        "#This is a box plot for age distribution\n",
        "#The range of participant age is 30 to 69, with the majority falling under 46 to 61 years of age.\n",
        "sns.boxplot(x=df['Age'])"
      ],
      "execution_count": null,
      "outputs": [
        {
          "output_type": "execute_result",
          "data": {
            "text/plain": [
              "<matplotlib.axes._subplots.AxesSubplot at 0x7fa79af1bfd0>"
            ]
          },
          "metadata": {
            "tags": []
          },
          "execution_count": 22
        },
        {
          "output_type": "display_data",
          "data": {
            "image/png": "[encoded data removed]",
            "text/plain": [
              "<Figure size 432x288 with 1 Axes>"
            ]
          },
          "metadata": {
            "tags": [],
            "needs_background": "light"
          }
        }
      ]
    },
    {
      "cell_type": "code",
      "metadata": {
        "colab": {
          "base_uri": "https://localhost:8080/",
          "height": 296
        },
        "id": "D746GHVmqB2w",
        "outputId": "7a8897e1-4059-4018-ea4c-24f69307c156"
      },
      "source": [
        "#7. This is a box plot showing tumor size distribution.\n",
        "#The median size of tumors is 25 millimeters. Most patients have tumors between 15 to 40 millimeters.\n",
        "#There are many outliers beyond the normal range.\n",
        "sns.boxplot(x=df['Tumor Size'])"
      ],
      "execution_count": null,
      "outputs": [
        {
          "output_type": "execute_result",
          "data": {
            "text/plain": [
              "<matplotlib.axes._subplots.AxesSubplot at 0x7fa79adbf390>"
            ]
          },
          "metadata": {
            "tags": []
          },
          "execution_count": 23
        },
        {
          "output_type": "display_data",
          "data": {
            "image/png": "[encoded data removed]",
            "text/plain": [
              "<Figure size 432x288 with 1 Axes>"
            ]
          },
          "metadata": {
            "tags": [],
            "needs_background": "light"
          }
        }
      ]
    },
    {
      "cell_type": "code",
      "metadata": {
        "colab": {
          "base_uri": "https://localhost:8080/",
          "height": 295
        },
        "id": "MXJHxh1fzDLT",
        "outputId": "c6baaa13-c277-46e5-bb09-342f687d0a4f"
      },
      "source": [
        "#Histogram showing the frequency of cancer cell differentiation.\n",
        "#Grading and differentiation codes of 1-4\n",
        "plt.hist(df['Grade'], color='#593211')\n",
        "plt.ylabel('Number of Participants')\n",
        "plt.xlabel('Grade')\n",
        "plt.title('Distribution of Participants According to Grade Differentiation')\n",
        "plt.show()"
      ],
      "execution_count": null,
      "outputs": [
        {
          "output_type": "display_data",
          "data": {
            "image/png": "[encoded data removed]",
            "text/plain": [
              "<Figure size 432x288 with 1 Axes>"
            ]
          },
          "metadata": {
            "tags": [],
            "needs_background": "light"
          }
        }
      ]
    },
    {
      "cell_type": "code",
      "metadata": {
        "id": "8BoN9U_lQken",
        "colab": {
          "base_uri": "https://localhost:8080/",
          "height": 296
        },
        "outputId": "fc4e4ca3-ea35-41fd-eb90-d1859309f3f9"
      },
      "source": [
        "#7.Line chart displaying the correlation between tumor size and survival months.\n",
        "sns.lineplot(data=df, x=\"Tumor Size\", y=\"Survival Months\")"
      ],
      "execution_count": null,
      "outputs": [
        {
          "output_type": "execute_result",
          "data": {
            "text/plain": [
              "<matplotlib.axes._subplots.AxesSubplot at 0x7fa79a8d1090>"
            ]
          },
          "metadata": {
            "tags": []
          },
          "execution_count": 25
        },
        {
          "output_type": "display_data",
          "data": {
            "image/png": "[encoded data removed]",
            "text/plain": [
              "<Figure size 432x288 with 1 Axes>"
            ]
          },
          "metadata": {
            "tags": [],
            "needs_background": "light"
          }
        }
      ]
    },
    {
      "cell_type": "code",
      "metadata": {
        "colab": {
          "base_uri": "https://localhost:8080/",
          "height": 296
        },
        "id": "q7V65HOJ1k1x",
        "outputId": "963387ce-3090-42ee-b6b6-f275a22b038e"
      },
      "source": [
        "sns.scatterplot(data=df, x=\"Age\", y=\"Reginol Node Positive\")"
      ],
      "execution_count": null,
      "outputs": [
        {
          "output_type": "execute_result",
          "data": {
            "text/plain": [
              "<matplotlib.axes._subplots.AxesSubplot at 0x7fa789998e10>"
            ]
          },
          "metadata": {
            "tags": []
          },
          "execution_count": 59
        },
        {
          "output_type": "display_data",
          "data": {
            "image/png": "[encoded data removed]",
            "text/plain": [
              "<Figure size 432x288 with 1 Axes>"
            ]
          },
          "metadata": {
            "tags": [],
            "needs_background": "light"
          }
        }
      ]
    },
    {
      "cell_type": "code",
      "metadata": {
        "colab": {
          "base_uri": "https://localhost:8080/",
          "height": 441
        },
        "id": "fHoduC403yG_",
        "outputId": "89ae01e6-a1ef-46f4-d7e8-a3c9e462df1e"
      },
      "source": [
        "#Joint plot displaying the correlation between age and survival months\n",
        "with sns.axes_style():\n",
        "    sns.jointplot(x=\"Age\", y=\"Survival Months\", data=df, kind='hex')"
      ],
      "execution_count": null,
      "outputs": [
        {
          "output_type": "display_data",
          "data": {
            "image/png": "[encoded data removed]",
            "text/plain": [
              "<Figure size 432x432 with 3 Axes>"
            ]
          },
          "metadata": {
            "tags": [],
            "needs_background": "light"
          }
        }
      ]
    },
    {
      "cell_type": "code",
      "metadata": {
        "colab": {
          "base_uri": "https://localhost:8080/",
          "height": 315
        },
        "id": "C37q7WoWXIfi",
        "outputId": "f20e9173-bae1-4404-90fa-34e8b33c7a0f"
      },
      "source": [
        "df.hist('Tumor Size',bins=8)\n"
      ],
      "execution_count": null,
      "outputs": [
        {
          "output_type": "execute_result",
          "data": {
            "text/plain": [
              "array([[<matplotlib.axes._subplots.AxesSubplot object at 0x7fa78fbf6950>]],\n",
              "      dtype=object)"
            ]
          },
          "metadata": {
            "tags": []
          },
          "execution_count": 27
        },
        {
          "output_type": "display_data",
          "data": {
            "image/png": "[encoded data removed]",
            "text/plain": [
              "<Figure size 432x288 with 1 Axes>"
            ]
          },
          "metadata": {
            "tags": [],
            "needs_background": "light"
          }
        }
      ]
    },
    {
      "cell_type": "code",
      "metadata": {
        "colab": {
          "base_uri": "https://localhost:8080/",
          "height": 315
        },
        "id": "ylwR-A9Prw0f",
        "outputId": "e84ab984-d91e-4815-d530-21ae73980c04"
      },
      "source": [
        "df.hist('Age',bins=8)"
      ],
      "execution_count": null,
      "outputs": [
        {
          "output_type": "execute_result",
          "data": {
            "text/plain": [
              "array([[<matplotlib.axes._subplots.AxesSubplot object at 0x7fa78fb66350>]],\n",
              "      dtype=object)"
            ]
          },
          "metadata": {
            "tags": []
          },
          "execution_count": 28
        },
        {
          "output_type": "display_data",
          "data": {
            "image/png": "[encoded data removed]",
            "text/plain": [
              "<Figure size 432x288 with 1 Axes>"
            ]
          },
          "metadata": {
            "tags": [],
            "needs_background": "light"
          }
        }
      ]
    },
    {
      "cell_type": "code",
      "metadata": {
        "colab": {
          "base_uri": "https://localhost:8080/",
          "height": 315
        },
        "id": "vN1ve91UsiS1",
        "outputId": "6b64af65-0943-4249-8043-df667e3405f5"
      },
      "source": [
        "df.hist('Tumor Size',bins=8)"
      ],
      "execution_count": null,
      "outputs": [
        {
          "output_type": "execute_result",
          "data": {
            "text/plain": [
              "array([[<matplotlib.axes._subplots.AxesSubplot object at 0x7fa78fb77550>]],\n",
              "      dtype=object)"
            ]
          },
          "metadata": {
            "tags": []
          },
          "execution_count": 30
        },
        {
          "output_type": "display_data",
          "data": {
            "image/png": "[encoded data removed]",
            "text/plain": [
              "<Figure size 432x288 with 1 Axes>"
            ]
          },
          "metadata": {
            "tags": [],
            "needs_background": "light"
          }
        }
      ]
    },
    {
      "cell_type": "code",
      "metadata": {
        "colab": {
          "base_uri": "https://localhost:8080/",
          "height": 315
        },
        "id": "hOD-Gfczslm2",
        "outputId": "48b65350-cec5-4ed7-ae63-9cabaa9712c2"
      },
      "source": [
        "df.hist('Survival Months',bins=8)"
      ],
      "execution_count": null,
      "outputs": [
        {
          "output_type": "execute_result",
          "data": {
            "text/plain": [
              "array([[<matplotlib.axes._subplots.AxesSubplot object at 0x7fa78e4e4ed0>]],\n",
              "      dtype=object)"
            ]
          },
          "metadata": {
            "tags": []
          },
          "execution_count": 31
        },
        {
          "output_type": "display_data",
          "data": {
            "image/png": "[encoded data removed]",
            "text/plain": [
              "<Figure size 432x288 with 1 Axes>"
            ]
          },
          "metadata": {
            "tags": [],
            "needs_background": "light"
          }
        }
      ]
    },
    {
      "cell_type": "code",
      "metadata": {
        "colab": {
          "base_uri": "https://localhost:8080/",
          "height": 542
        },
        "id": "JGXHs0wVvURu",
        "outputId": "c9ea90cd-efdd-4599-f7e2-35d76f1fe584"
      },
      "source": [
        "#Interactive 3d scatter plot displaying correlations between age, tumor size and survival months.\n",
        "fig = px.scatter_3d(df, x='Age', y='Tumor Size', z='Survival Months', color='Survival Months')\n",
        "fig.show()"
      ],
      "execution_count": null,
      "outputs": [
        {
          "output_type": "display_data",
          "data": {
            "text/html": [
              "<html>\n",
              "<head><meta charset=\"utf-8\" /></head>\n",
              "<body>\n",
              "    <div>\n",
              "            <script src=\"https://cdnjs.cloudflare.com/ajax/libs/mathjax/2.7.5/MathJax.js?config=TeX-AMS-MML_SVG\"></script><script type=\"text/javascript\">if (window.MathJax) {MathJax.Hub.Config({SVG: {font: \"STIX-Web\"}});}</script>\n",
              "                <script type=\"text/javascript\">window.PlotlyConfig = {MathJaxConfig: 'local'};</script>\n",
              "        <script src=\"https://cdn.plot.ly/plotly-latest.min.js\"></script>    \n",
              "            <div id=\"66c6ecfd-f179-43b7-ad55-78c08d8dbac6\" class=\"plotly-graph-div\" style=\"height:525px; width:100%;\"></div>\n",
              "            <script type=\"text/javascript\">\n",
              "                \n",
              "                    window.PLOTLYENV=window.PLOTLYENV || {};\n",
              "                    \n",
              "                if (document.getElementById(\"66c6ecfd-f179-43b7-ad55-78c08d8dbac6\")) {\n",
              "                    Plotly.newPlot(\n",
              "                        '66c6ecfd-f179-43b7-ad55-78c08d8dbac6',\n",
              "                        [{\"hoverlabel\": {\"namelength\": 0}, \"hovertemplate\": \"Age=%{x}<br>Tumor Size=%{y}<br>Survival Months=%{marker.color}\", \"legendgroup\": \"\", \"marker\": {\"color\": [1, 2, 2, 2, 3, 3, 3, 3, 4, 4, 4, 4, 4, 4, 4, 4, 4, 4, 5, 5, 5, 5, 5, 5, 6, 6, 6, 6, 6, 6, 6, 6, 7, 7, 7, 7, 7, 8, 8, 8, 8, 8, 8, 8, 9, 9, 9, 9, 9, 9, 9, 9, 9, 10, 10, 10, 10, 10, 10, 10, 10, 11, 11, 11, 11, 12, 12, 12, 12, 12, 12, 13, 13, 13, 13, 13, 13, 13, 13, 13, 13, 13, 13, 14, 14, 14, 14, 14, 14, 14, 14, 14, 14, 15, 15, 15, 15, 15, 15, 16, 16, 16, 16, 16, 16, 16, 16, 17, 17, 17, 17, 17, 17, 18, 18, 18, 18, 18, 18, 18, 18, 18, 18, 18, 19, 19, 19, 19, 19, 20, 20, 20, 20, 20, 20, 20, 20, 20, 20, 21, 21, 21, 21, 21, 21, 21, 22, 22, 22, 22, 22, 22, 22, 22, 22, 22, 22, 23, 23, 23, 23, 23, 23, 23, 23, 23, 23, 23, 23, 23, 23, 23, 23, 24, 24, 24, 24, 24, 24, 24, 24, 24, 24, 24, 24, 25, 25, 25, 25, 25, 25, 25, 25, 25, 25, 25, 25, 26, 26, 26, 26, 26, 27, 27, 27, 27, 27, 27, 27, 27, 27, 27, 27, 27, 27, 28, 28, 28, 28, 28, 28, 28, 28, 29, 29, 29, 29, 29, 29, 29, 30, 30, 30, 30, 30, 30, 30, 30, 30, 30, 31, 31, 31, 31, 31, 31, 31, 31, 31, 31, 31, 31, 31, 31, 31, 32, 32, 32, 32, 32, 33, 33, 33, 33, 33, 33, 33, 33, 33, 34, 34, 34, 34, 34, 34, 34, 34, 34, 34, 34, 35, 35, 35, 35, 35, 35, 35, 35, 35, 35, 35, 36, 36, 36, 36, 36, 36, 36, 36, 36, 36, 36, 37, 37, 37, 37, 37, 37, 37, 37, 37, 37, 37, 38, 38, 38, 38, 38, 38, 38, 38, 38, 38, 38, 38, 38, 39, 39, 39, 39, 39, 39, 39, 39, 39, 40, 40, 40, 40, 40, 40, 40, 40, 40, 40, 40, 40, 40, 40, 40, 40, 40, 40, 41, 41, 41, 41, 41, 41, 41, 41, 41, 41, 41, 41, 41, 41, 41, 41, 41, 41, 41, 41, 41, 41, 41, 41, 42, 42, 42, 42, 42, 42, 42, 42, 42, 42, 42, 42, 42, 42, 43, 43, 43, 43, 43, 43, 43, 43, 43, 43, 44, 44, 44, 44, 44, 44, 44, 44, 44, 44, 44, 44, 44, 44, 44, 44, 45, 45, 45, 45, 45, 45, 45, 45, 45, 45, 45, 45, 45, 45, 45, 45, 46, 46, 46, 46, 46, 46, 46, 46, 46, 46, 46, 46, 46, 46, 47, 47, 47, 47, 47, 47, 47, 47, 47, 47, 47, 47, 47, 47, 47, 47, 47, 47, 47, 47, 47, 47, 47, 47, 47, 47, 48, 48, 48, 48, 48, 48, 48, 48, 48, 48, 48, 48, 48, 48, 48, 48, 48, 48, 48, 48, 48, 48, 48, 48, 48, 48, 48, 48, 48, 48, 48, 48, 48, 48, 48, 48, 48, 48, 48, 48, 48, 48, 48, 48, 48, 48, 48, 48, 48, 48, 48, 48, 48, 48, 49, 49, 49, 49, 49, 49, 49, 49, 49, 49, 49, 49, 49, 49, 49, 49, 49, 49, 49, 49, 49, 49, 49, 49, 49, 49, 49, 49, 49, 49, 49, 49, 49, 49, 49, 49, 49, 49, 49, 49, 49, 49, 49, 49, 49, 49, 49, 49, 49, 49, 49, 49, 49, 49, 49, 49, 49, 49, 49, 49, 49, 50, 50, 50, 50, 50, 50, 50, 50, 50, 50, 50, 50, 50, 50, 50, 50, 50, 50, 50, 50, 50, 50, 50, 50, 50, 50, 50, 50, 50, 50, 50, 50, 50, 50, 50, 50, 50, 50, 50, 50, 50, 50, 50, 50, 50, 50, 50, 50, 50, 50, 50, 50, 50, 50, 50, 50, 50, 50, 50, 50, 50, 50, 50, 50, 50, 50, 50, 51, 51, 51, 51, 51, 51, 51, 51, 51, 51, 51, 51, 51, 51, 51, 51, 51, 51, 51, 51, 51, 51, 51, 51, 51, 51, 51, 51, 51, 51, 51, 51, 51, 51, 51, 51, 51, 51, 51, 51, 51, 51, 51, 51, 51, 51, 51, 51, 51, 51, 51, 51, 51, 51, 51, 52, 52, 52, 52, 52, 52, 52, 52, 52, 52, 52, 52, 52, 52, 52, 52, 52, 52, 52, 52, 52, 52, 52, 52, 52, 52, 52, 52, 52, 52, 52, 52, 52, 52, 52, 52, 52, 52, 52, 52, 52, 52, 52, 52, 52, 52, 52, 52, 52, 52, 52, 52, 52, 52, 52, 52, 52, 52, 52, 52, 52, 52, 53, 53, 53, 53, 53, 53, 53, 53, 53, 53, 53, 53, 53, 53, 53, 53, 53, 53, 53, 53, 53, 53, 53, 53, 53, 53, 53, 53, 53, 53, 53, 53, 53, 53, 53, 53, 53, 53, 53, 53, 53, 53, 53, 53, 53, 53, 53, 53, 53, 53, 53, 53, 53, 53, 53, 53, 53, 53, 53, 53, 53, 54, 54, 54, 54, 54, 54, 54, 54, 54, 54, 54, 54, 54, 54, 54, 54, 54, 54, 54, 54, 54, 54, 54, 54, 54, 54, 54, 54, 54, 54, 54, 54, 54, 54, 54, 54, 54, 54, 54, 54, 54, 54, 54, 54, 54, 54, 54, 54, 54, 54, 54, 54, 54, 54, 54, 54, 54, 54, 54, 55, 55, 55, 55, 55, 55, 55, 55, 55, 55, 55, 55, 55, 55, 55, 55, 55, 55, 55, 55, 55, 55, 55, 55, 55, 55, 55, 55, 55, 55, 55, 55, 55, 55, 55, 55, 55, 55, 55, 55, 55, 55, 55, 55, 55, 55, 55, 55, 55, 55, 55, 55, 55, 55, 55, 55, 55, 55, 55, 55, 55, 55, 55, 56, 56, 56, 56, 56, 56, 56, 56, 56, 56, 56, 56, 56, 56, 56, 56, 56, 56, 56, 56, 56, 56, 56, 56, 56, 56, 56, 56, 56, 56, 56, 56, 56, 56, 56, 56, 56, 56, 56, 56, 56, 56, 56, 56, 56, 56, 56, 56, 56, 56, 56, 56, 56, 56, 56, 56, 56, 56, 56, 56, 56, 56, 56, 56, 56, 56, 56, 56, 56, 56, 56, 56, 56, 57, 57, 57, 57, 57, 57, 57, 57, 57, 57, 57, 57, 57, 57, 57, 57, 57, 57, 57, 57, 57, 57, 57, 57, 57, 57, 57, 57, 57, 57, 57, 57, 57, 57, 57, 57, 57, 57, 57, 57, 57, 57, 57, 57, 57, 57, 57, 57, 57, 57, 57, 57, 57, 58, 58, 58, 58, 58, 58, 58, 58, 58, 58, 58, 58, 58, 58, 58, 58, 58, 58, 58, 58, 58, 58, 58, 58, 58, 58, 58, 58, 58, 58, 58, 58, 58, 58, 58, 58, 58, 58, 58, 58, 58, 58, 58, 58, 58, 58, 58, 58, 58, 58, 58, 58, 58, 58, 58, 58, 58, 58, 58, 58, 58, 59, 59, 59, 59, 59, 59, 59, 59, 59, 59, 59, 59, 59, 59, 59, 59, 59, 59, 59, 59, 59, 59, 59, 59, 59, 59, 59, 59, 59, 59, 59, 59, 59, 59, 59, 59, 59, 59, 59, 59, 59, 59, 59, 59, 59, 59, 59, 59, 59, 59, 59, 59, 59, 59, 59, 59, 59, 59, 59, 59, 59, 60, 60, 60, 60, 60, 60, 60, 60, 60, 60, 60, 60, 60, 60, 60, 60, 60, 60, 60, 60, 60, 60, 60, 60, 60, 60, 60, 60, 60, 60, 60, 60, 60, 60, 60, 60, 60, 60, 60, 60, 60, 60, 60, 60, 60, 60, 60, 60, 60, 60, 60, 60, 60, 60, 60, 60, 60, 60, 60, 60, 60, 60, 60, 61, 61, 61, 61, 61, 61, 61, 61, 61, 61, 61, 61, 61, 61, 61, 61, 61, 61, 61, 61, 61, 61, 61, 61, 61, 61, 61, 61, 61, 61, 61, 61, 61, 61, 61, 61, 61, 61, 61, 61, 61, 61, 61, 61, 61, 61, 61, 61, 61, 61, 61, 61, 61, 61, 61, 61, 61, 61, 61, 61, 62, 62, 62, 62, 62, 62, 62, 62, 62, 62, 62, 62, 62, 62, 62, 62, 62, 62, 62, 62, 62, 62, 62, 62, 62, 62, 62, 62, 62, 62, 62, 62, 62, 62, 62, 62, 62, 62, 62, 62, 62, 62, 62, 62, 62, 62, 62, 62, 62, 62, 62, 62, 63, 63, 63, 63, 63, 63, 63, 63, 63, 63, 63, 63, 63, 63, 63, 63, 63, 63, 63, 63, 63, 63, 63, 63, 63, 63, 63, 63, 63, 63, 63, 63, 63, 63, 63, 63, 63, 63, 63, 63, 63, 63, 63, 63, 63, 63, 63, 63, 63, 63, 63, 63, 63, 63, 63, 63, 63, 63, 63, 63, 63, 63, 63, 63, 63, 63, 63, 63, 63, 63, 63, 63, 63, 64, 64, 64, 64, 64, 64, 64, 64, 64, 64, 64, 64, 64, 64, 64, 64, 64, 64, 64, 64, 64, 64, 64, 64, 64, 64, 64, 64, 64, 64, 64, 64, 64, 64, 64, 64, 64, 64, 64, 64, 64, 64, 64, 64, 64, 64, 64, 64, 64, 64, 64, 64, 64, 64, 64, 64, 64, 64, 64, 64, 64, 64, 65, 65, 65, 65, 65, 65, 65, 65, 65, 65, 65, 65, 65, 65, 65, 65, 65, 65, 65, 65, 65, 65, 65, 65, 65, 65, 65, 65, 65, 65, 65, 65, 65, 65, 65, 65, 65, 65, 65, 65, 65, 65, 65, 65, 65, 65, 65, 65, 65, 65, 65, 65, 65, 65, 65, 66, 66, 66, 66, 66, 66, 66, 66, 66, 66, 66, 66, 66, 66, 66, 66, 66, 66, 66, 66, 66, 66, 66, 66, 66, 66, 66, 66, 66, 66, 66, 66, 66, 66, 66, 66, 66, 66, 66, 66, 66, 66, 66, 66, 66, 66, 66, 66, 66, 66, 66, 66, 66, 66, 66, 66, 66, 66, 66, 66, 66, 66, 66, 66, 66, 66, 66, 66, 66, 66, 66, 67, 67, 67, 67, 67, 67, 67, 67, 67, 67, 67, 67, 67, 67, 67, 67, 67, 67, 67, 67, 67, 67, 67, 67, 67, 67, 67, 67, 67, 67, 67, 67, 67, 67, 67, 67, 67, 67, 67, 67, 67, 67, 67, 67, 67, 67, 67, 67, 67, 67, 67, 67, 67, 67, 67, 67, 67, 67, 67, 67, 67, 68, 68, 68, 68, 68, 68, 68, 68, 68, 68, 68, 68, 68, 68, 68, 68, 68, 68, 68, 68, 68, 68, 68, 68, 68, 68, 68, 68, 68, 68, 68, 68, 68, 68, 68, 68, 68, 68, 68, 68, 68, 68, 68, 68, 68, 68, 68, 68, 68, 68, 68, 68, 68, 68, 68, 68, 68, 68, 68, 68, 68, 68, 68, 69, 69, 69, 69, 69, 69, 69, 69, 69, 69, 69, 69, 69, 69, 69, 69, 69, 69, 69, 69, 69, 69, 69, 69, 69, 69, 69, 69, 69, 69, 69, 69, 69, 69, 69, 69, 69, 69, 69, 69, 69, 69, 69, 69, 69, 69, 69, 69, 69, 69, 69, 69, 69, 69, 69, 69, 69, 69, 69, 69, 69, 69, 69, 69, 69, 69, 69, 69, 69, 69, 69, 69, 69, 69, 69, 69, 69, 69, 69, 69, 69, 70, 70, 70, 70, 70, 70, 70, 70, 70, 70, 70, 70, 70, 70, 70, 70, 70, 70, 70, 70, 70, 70, 70, 70, 70, 70, 70, 70, 70, 70, 70, 70, 70, 70, 70, 70, 70, 70, 70, 70, 70, 70, 70, 70, 70, 70, 70, 70, 70, 71, 71, 71, 71, 71, 71, 71, 71, 71, 71, 71, 71, 71, 71, 71, 71, 71, 71, 71, 71, 71, 71, 71, 71, 71, 71, 71, 71, 71, 71, 71, 71, 71, 71, 71, 71, 71, 71, 71, 71, 71, 72, 72, 72, 72, 72, 72, 72, 72, 72, 72, 72, 72, 72, 72, 72, 72, 72, 72, 72, 72, 72, 72, 72, 72, 72, 72, 72, 72, 72, 72, 72, 72, 72, 72, 72, 72, 72, 72, 72, 72, 72, 72, 72, 72, 72, 72, 72, 72, 72, 72, 72, 72, 72, 72, 72, 72, 72, 73, 73, 73, 73, 73, 73, 73, 73, 73, 73, 73, 73, 73, 73, 73, 73, 73, 73, 73, 73, 73, 73, 73, 73, 73, 73, 73, 73, 73, 73, 73, 73, 73, 73, 73, 73, 73, 73, 73, 73, 73, 73, 73, 73, 73, 73, 73, 73, 73, 73, 73, 73, 73, 73, 73, 74, 74, 74, 74, 74, 74, 74, 74, 74, 74, 74, 74, 74, 74, 74, 74, 74, 74, 74, 74, 74, 74, 74, 74, 74, 74, 74, 74, 74, 74, 74, 74, 74, 74, 74, 74, 74, 74, 74, 74, 74, 74, 74, 74, 74, 74, 74, 74, 74, 74, 74, 74, 74, 74, 74, 74, 75, 75, 75, 75, 75, 75, 75, 75, 75, 75, 75, 75, 75, 75, 75, 75, 75, 75, 75, 75, 75, 75, 75, 75, 75, 75, 75, 75, 75, 75, 75, 75, 75, 75, 75, 75, 75, 75, 75, 75, 75, 75, 75, 75, 75, 75, 75, 75, 75, 75, 75, 75, 75, 75, 75, 75, 75, 75, 75, 75, 75, 75, 75, 75, 75, 76, 76, 76, 76, 76, 76, 76, 76, 76, 76, 76, 76, 76, 76, 76, 76, 76, 76, 76, 76, 76, 76, 76, 76, 76, 76, 76, 76, 76, 76, 76, 76, 76, 76, 76, 76, 76, 76, 76, 76, 76, 76, 76, 76, 76, 76, 76, 76, 76, 76, 76, 76, 76, 76, 76, 76, 76, 76, 76, 77, 77, 77, 77, 77, 77, 77, 77, 77, 77, 77, 77, 77, 77, 77, 77, 77, 77, 77, 77, 77, 77, 77, 77, 77, 77, 77, 77, 77, 77, 77, 77, 77, 77, 77, 77, 77, 77, 77, 77, 77, 77, 77, 77, 77, 77, 77, 77, 77, 77, 77, 77, 77, 77, 77, 77, 77, 77, 77, 77, 77, 77, 77, 77, 78, 78, 78, 78, 78, 78, 78, 78, 78, 78, 78, 78, 78, 78, 78, 78, 78, 78, 78, 78, 78, 78, 78, 78, 78, 78, 78, 78, 78, 78, 78, 78, 78, 78, 78, 78, 78, 78, 78, 78, 78, 78, 78, 78, 78, 78, 78, 78, 78, 78, 78, 78, 78, 78, 78, 78, 79, 79, 79, 79, 79, 79, 79, 79, 79, 79, 79, 79, 79, 79, 79, 79, 79, 79, 79, 79, 79, 79, 79, 79, 79, 79, 79, 79, 79, 79, 79, 79, 79, 79, 79, 79, 79, 79, 79, 79, 79, 79, 79, 79, 79, 79, 79, 79, 79, 79, 79, 79, 79, 79, 79, 80, 80, 80, 80, 80, 80, 80, 80, 80, 80, 80, 80, 80, 80, 80, 80, 80, 80, 80, 80, 80, 80, 80, 80, 80, 80, 80, 80, 80, 80, 80, 80, 80, 80, 80, 80, 80, 80, 80, 80, 80, 80, 80, 80, 80, 80, 80, 80, 80, 80, 80, 80, 80, 80, 80, 80, 80, 80, 80, 80, 80, 80, 80, 80, 80, 80, 80, 80, 81, 81, 81, 81, 81, 81, 81, 81, 81, 81, 81, 81, 81, 81, 81, 81, 81, 81, 81, 81, 81, 81, 81, 81, 81, 81, 81, 81, 81, 81, 81, 81, 81, 81, 81, 81, 81, 81, 81, 81, 81, 81, 81, 81, 81, 81, 81, 81, 81, 81, 81, 81, 81, 81, 81, 81, 81, 81, 81, 81, 81, 81, 81, 81, 81, 81, 81, 81, 82, 82, 82, 82, 82, 82, 82, 82, 82, 82, 82, 82, 82, 82, 82, 82, 82, 82, 82, 82, 82, 82, 82, 82, 82, 82, 82, 82, 82, 82, 82, 82, 82, 82, 82, 82, 82, 82, 82, 82, 82, 82, 82, 82, 82, 82, 82, 82, 82, 82, 82, 82, 82, 82, 82, 82, 82, 82, 82, 82, 82, 83, 83, 83, 83, 83, 83, 83, 83, 83, 83, 83, 83, 83, 83, 83, 83, 83, 83, 83, 83, 83, 83, 83, 83, 83, 83, 83, 83, 83, 83, 83, 83, 83, 83, 83, 83, 83, 83, 83, 83, 83, 83, 83, 83, 83, 83, 83, 83, 83, 83, 83, 83, 83, 83, 83, 83, 83, 83, 83, 83, 83, 83, 83, 83, 83, 83, 84, 84, 84, 84, 84, 84, 84, 84, 84, 84, 84, 84, 84, 84, 84, 84, 84, 84, 84, 84, 84, 84, 84, 84, 84, 84, 84, 84, 84, 84, 84, 84, 84, 84, 84, 84, 84, 84, 84, 84, 84, 84, 84, 84, 84, 84, 84, 84, 84, 84, 84, 84, 84, 84, 84, 84, 84, 84, 85, 85, 85, 85, 85, 85, 85, 85, 85, 85, 85, 85, 85, 85, 85, 85, 85, 85, 85, 85, 85, 85, 85, 85, 85, 85, 85, 85, 85, 85, 85, 85, 85, 85, 85, 85, 85, 85, 85, 85, 85, 85, 85, 85, 85, 85, 85, 85, 85, 85, 85, 85, 86, 86, 86, 86, 86, 86, 86, 86, 86, 86, 86, 86, 86, 86, 86, 86, 86, 86, 86, 86, 86, 86, 86, 86, 86, 86, 86, 86, 86, 86, 86, 86, 86, 86, 86, 86, 86, 86, 86, 86, 86, 86, 86, 86, 86, 86, 86, 86, 86, 86, 86, 86, 86, 86, 86, 86, 86, 87, 87, 87, 87, 87, 87, 87, 87, 87, 87, 87, 87, 87, 87, 87, 87, 87, 87, 87, 87, 87, 87, 87, 87, 87, 87, 87, 87, 87, 87, 87, 87, 87, 87, 87, 87, 87, 87, 87, 87, 87, 87, 87, 87, 87, 87, 87, 87, 87, 87, 87, 87, 87, 88, 88, 88, 88, 88, 88, 88, 88, 88, 88, 88, 88, 88, 88, 88, 88, 88, 88, 88, 88, 88, 88, 88, 88, 88, 88, 88, 88, 88, 88, 88, 88, 88, 88, 88, 88, 88, 88, 88, 88, 88, 88, 88, 88, 88, 88, 88, 88, 88, 88, 88, 88, 88, 88, 88, 88, 88, 88, 88, 88, 88, 88, 88, 89, 89, 89, 89, 89, 89, 89, 89, 89, 89, 89, 89, 89, 89, 89, 89, 89, 89, 89, 89, 89, 89, 89, 89, 89, 89, 89, 89, 89, 89, 89, 89, 89, 89, 89, 89, 89, 89, 89, 89, 89, 89, 89, 89, 89, 89, 89, 89, 89, 89, 89, 89, 89, 89, 89, 89, 89, 89, 89, 89, 89, 89, 89, 89, 89, 89, 90, 90, 90, 90, 90, 90, 90, 90, 90, 90, 90, 90, 90, 90, 90, 90, 90, 90, 90, 90, 90, 90, 90, 90, 90, 90, 90, 90, 90, 90, 90, 90, 90, 90, 90, 90, 90, 90, 90, 90, 90, 90, 90, 91, 91, 91, 91, 91, 91, 91, 91, 91, 91, 91, 91, 91, 91, 91, 91, 91, 91, 91, 91, 91, 91, 91, 91, 91, 91, 91, 91, 91, 91, 91, 91, 91, 91, 91, 91, 91, 91, 91, 91, 91, 91, 91, 91, 91, 91, 91, 91, 91, 91, 91, 92, 92, 92, 92, 92, 92, 92, 92, 92, 92, 92, 92, 92, 92, 92, 92, 92, 92, 92, 92, 92, 92, 92, 92, 92, 92, 92, 92, 92, 92, 92, 92, 92, 92, 92, 92, 92, 92, 92, 92, 92, 92, 92, 92, 92, 92, 92, 92, 92, 93, 93, 93, 93, 93, 93, 93, 93, 93, 93, 93, 93, 93, 93, 93, 93, 93, 93, 93, 93, 93, 93, 93, 93, 93, 93, 93, 93, 93, 93, 93, 93, 93, 93, 93, 93, 93, 93, 93, 93, 93, 93, 93, 93, 93, 93, 93, 93, 93, 93, 93, 93, 93, 93, 93, 93, 93, 93, 93, 93, 93, 93, 94, 94, 94, 94, 94, 94, 94, 94, 94, 94, 94, 94, 94, 94, 94, 94, 94, 94, 94, 94, 94, 94, 94, 94, 94, 94, 94, 94, 94, 94, 94, 94, 94, 94, 94, 94, 94, 94, 94, 94, 94, 94, 94, 94, 94, 94, 94, 94, 94, 94, 94, 94, 94, 94, 94, 94, 94, 95, 95, 95, 95, 95, 95, 95, 95, 95, 95, 95, 95, 95, 95, 95, 95, 95, 95, 95, 95, 95, 95, 95, 95, 95, 95, 95, 95, 95, 95, 95, 95, 95, 95, 95, 95, 95, 95, 95, 95, 95, 95, 95, 95, 95, 95, 95, 95, 95, 95, 95, 95, 95, 95, 95, 95, 95, 95, 95, 95, 95, 95, 95, 95, 95, 95, 95, 96, 96, 96, 96, 96, 96, 96, 96, 96, 96, 96, 96, 96, 96, 96, 96, 96, 96, 96, 96, 96, 96, 96, 96, 96, 96, 96, 96, 96, 96, 96, 96, 96, 96, 96, 96, 96, 96, 96, 96, 96, 96, 96, 96, 96, 96, 96, 96, 96, 96, 96, 96, 96, 96, 97, 97, 97, 97, 97, 97, 97, 97, 97, 97, 97, 97, 97, 97, 97, 97, 97, 97, 97, 97, 97, 97, 97, 97, 97, 97, 97, 97, 97, 97, 97, 97, 97, 97, 97, 97, 97, 97, 97, 97, 97, 97, 97, 97, 97, 97, 97, 97, 97, 97, 97, 97, 97, 97, 97, 97, 97, 98, 98, 98, 98, 98, 98, 98, 98, 98, 98, 98, 98, 98, 98, 98, 98, 98, 98, 98, 98, 98, 98, 98, 98, 98, 98, 98, 98, 98, 98, 98, 98, 98, 98, 98, 98, 98, 98, 98, 98, 98, 98, 98, 98, 98, 98, 98, 98, 98, 98, 98, 98, 98, 98, 98, 98, 98, 98, 98, 98, 98, 98, 98, 98, 98, 98, 98, 98, 98, 98, 98, 98, 99, 99, 99, 99, 99, 99, 99, 99, 99, 99, 99, 99, 99, 99, 99, 99, 99, 99, 99, 99, 99, 99, 99, 99, 99, 99, 99, 99, 99, 99, 99, 99, 99, 99, 99, 99, 99, 99, 99, 99, 99, 99, 99, 99, 99, 99, 99, 99, 99, 99, 99, 99, 99, 99, 99, 100, 100, 100, 100, 100, 100, 100, 100, 100, 100, 100, 100, 100, 100, 100, 100, 100, 100, 100, 100, 100, 100, 100, 100, 100, 100, 100, 100, 100, 100, 100, 100, 100, 100, 100, 100, 100, 100, 100, 100, 100, 100, 100, 100, 100, 100, 100, 100, 100, 100, 100, 100, 100, 100, 100, 100, 100, 100, 100, 100, 100, 100, 100, 100, 100, 100, 101, 101, 101, 101, 101, 101, 101, 101, 101, 101, 101, 101, 101, 101, 101, 101, 101, 101, 101, 101, 101, 101, 101, 101, 101, 101, 101, 101, 101, 101, 101, 101, 101, 101, 101, 101, 101, 101, 101, 101, 101, 101, 101, 101, 101, 101, 101, 101, 101, 101, 101, 101, 101, 101, 102, 102, 102, 102, 102, 102, 102, 102, 102, 102, 102, 102, 102, 102, 102, 102, 102, 102, 102, 102, 102, 102, 102, 102, 102, 102, 102, 102, 102, 102, 102, 102, 102, 102, 102, 102, 102, 102, 102, 102, 102, 102, 102, 102, 102, 102, 102, 102, 102, 102, 102, 102, 102, 102, 102, 102, 102, 102, 102, 102, 102, 102, 102, 102, 102, 102, 102, 102, 102, 102, 102, 102, 102, 103, 103, 103, 103, 103, 103, 103, 103, 103, 103, 103, 103, 103, 103, 103, 103, 103, 103, 103, 103, 103, 103, 103, 103, 103, 103, 103, 103, 103, 103, 103, 103, 103, 103, 103, 103, 103, 103, 103, 103, 103, 103, 103, 103, 103, 103, 103, 103, 103, 103, 104, 104, 104, 104, 104, 104, 104, 104, 104, 104, 104, 104, 104, 104, 104, 104, 104, 104, 104, 104, 104, 104, 104, 104, 104, 104, 104, 104, 104, 104, 104, 104, 104, 104, 104, 104, 104, 104, 104, 104, 104, 104, 104, 104, 104, 104, 104, 104, 105, 105, 105, 105, 105, 105, 105, 105, 105, 105, 105, 105, 105, 105, 105, 105, 105, 105, 105, 105, 105, 105, 105, 105, 105, 105, 105, 105, 105, 105, 105, 105, 105, 105, 105, 105, 105, 105, 105, 105, 105, 105, 105, 105, 105, 106, 106, 106, 106, 106, 106, 106, 106, 106, 106, 106, 106, 106, 106, 106, 106, 106, 106, 106, 106, 106, 106, 106, 106, 106, 106, 106, 106, 106, 106, 106, 106, 106, 106, 106, 106, 106, 106, 106, 106, 106, 106, 106, 106, 106, 106, 106, 107, 107, 107, 107, 107, 107, 107, 107, 107, 107, 107, 107, 107, 107, 107, 107, 107, 107, 107, 107, 107, 107, 107, 107, 107, 107, 107, 107, 107, 107, 107, 107, 107, 107, 107, 107, 107, 107, 107, 107, 107, 107, 107, 107, 107, 107, 107, 107, 107, 107, 107, 107, 107, 107, 107, 107, 107, 107, 107, 107, 107], \"coloraxis\": \"coloraxis\", \"symbol\": \"circle\"}, \"mode\": \"markers\", \"name\": \"\", \"scene\": \"scene\", \"showlegend\": false, \"type\": \"scatter3d\", \"x\": [43, 47, 67, 46, 63, 49, 64, 55, 59, 67, 61, 49, 63, 64, 62, 53, 69, 58, 64, 31, 31, 41, 57, 40, 62, 66, 49, 61, 49, 66, 63, 51, 46, 64, 58, 42, 38, 67, 39, 53, 46, 46, 50, 49, 48, 32, 61, 40, 58, 55, 59, 45, 68, 53, 46, 67, 68, 33, 44, 52, 53, 45, 67, 59, 69, 60, 51, 34, 50, 64, 44, 61, 55, 52, 69, 49, 65, 68, 49, 55, 51, 43, 66, 40, 49, 42, 54, 62, 62, 58, 57, 61, 49, 53, 37, 48, 68, 48, 46, 43, 52, 63, 68, 48, 48, 48, 69, 54, 47, 52, 39, 32, 63, 56, 57, 52, 50, 59, 40, 56, 44, 52, 53, 39, 67, 58, 53, 46, 55, 53, 65, 66, 61, 48, 64, 51, 63, 68, 46, 58, 64, 66, 59, 49, 35, 66, 44, 43, 48, 58, 65, 62, 53, 55, 69, 54, 46, 49, 50, 51, 69, 54, 44, 63, 58, 55, 54, 60, 57, 38, 62, 63, 48, 36, 55, 55, 63, 54, 46, 58, 51, 51, 63, 66, 51, 69, 66, 40, 63, 69, 39, 50, 50, 69, 40, 61, 61, 39, 36, 69, 69, 53, 66, 49, 53, 51, 38, 63, 60, 53, 59, 52, 47, 43, 47, 45, 64, 38, 58, 47, 36, 50, 55, 59, 64, 69, 42, 41, 39, 59, 47, 46, 50, 49, 59, 43, 59, 63, 66, 46, 65, 38, 58, 41, 59, 44, 42, 66, 57, 56, 46, 51, 56, 61, 69, 57, 52, 42, 64, 65, 68, 43, 52, 36, 59, 39, 69, 48, 50, 62, 50, 39, 60, 62, 56, 42, 50, 68, 67, 50, 64, 58, 39, 52, 62, 55, 64, 56, 36, 64, 47, 40, 58, 41, 65, 44, 39, 53, 59, 69, 52, 64, 57, 48, 54, 56, 66, 45, 49, 49, 62, 62, 60, 30, 38, 61, 52, 54, 52, 64, 50, 42, 40, 53, 48, 46, 67, 51, 48, 60, 67, 63, 47, 51, 42, 46, 34, 53, 58, 61, 52, 64, 68, 52, 45, 45, 48, 68, 60, 59, 58, 60, 67, 67, 57, 64, 59, 38, 39, 63, 57, 42, 56, 50, 55, 59, 55, 69, 68, 65, 56, 50, 40, 49, 58, 51, 69, 57, 63, 62, 55, 47, 50, 56, 69, 69, 47, 54, 58, 41, 68, 52, 59, 66, 38, 60, 44, 65, 49, 37, 48, 39, 31, 49, 46, 68, 43, 39, 58, 65, 40, 45, 68, 53, 62, 49, 42, 32, 59, 47, 46, 59, 51, 66, 57, 52, 64, 50, 47, 60, 52, 67, 66, 31, 60, 62, 56, 62, 63, 61, 67, 67, 58, 51, 46, 49, 67, 52, 56, 62, 48, 58, 59, 51, 63, 46, 46, 61, 44, 50, 63, 55, 63, 66, 46, 59, 42, 43, 46, 40, 59, 45, 56, 49, 55, 61, 60, 52, 42, 45, 62, 60, 69, 43, 68, 63, 57, 35, 62, 37, 62, 54, 68, 69, 65, 61, 56, 61, 65, 69, 61, 54, 66, 69, 55, 48, 59, 51, 66, 61, 67, 51, 62, 65, 45, 49, 67, 51, 48, 68, 58, 46, 37, 69, 55, 62, 65, 65, 48, 58, 59, 53, 57, 57, 37, 53, 49, 47, 48, 67, 63, 58, 43, 41, 63, 58, 48, 43, 47, 53, 56, 49, 43, 67, 57, 46, 45, 48, 45, 35, 66, 66, 62, 61, 66, 51, 66, 50, 51, 47, 56, 53, 65, 43, 59, 53, 47, 68, 54, 45, 45, 49, 48, 54, 64, 57, 62, 50, 38, 68, 61, 51, 58, 64, 64, 54, 65, 41, 47, 50, 57, 42, 66, 40, 58, 65, 59, 49, 57, 64, 40, 53, 68, 45, 65, 67, 60, 51, 49, 68, 47, 62, 49, 55, 50, 63, 48, 54, 49, 63, 59, 69, 60, 55, 49, 52, 56, 40, 67, 61, 64, 46, 57, 57, 57, 60, 58, 62, 60, 63, 62, 41, 50, 55, 51, 41, 65, 64, 49, 46, 60, 49, 55, 53, 63, 61, 51, 52, 40, 48, 50, 66, 40, 47, 56, 48, 50, 50, 54, 43, 46, 52, 53, 39, 45, 64, 46, 69, 57, 67, 46, 58, 63, 47, 40, 40, 50, 53, 41, 53, 55, 57, 62, 47, 55, 69, 60, 41, 65, 61, 59, 36, 35, 47, 58, 46, 38, 58, 61, 52, 61, 54, 65, 47, 61, 54, 46, 61, 51, 50, 54, 49, 45, 55, 31, 52, 61, 49, 63, 55, 42, 44, 60, 54, 56, 50, 61, 61, 62, 45, 56, 53, 55, 53, 60, 63, 49, 66, 52, 63, 35, 53, 50, 60, 48, 49, 50, 50, 53, 50, 59, 44, 45, 60, 67, 40, 48, 49, 68, 46, 40, 55, 48, 61, 55, 36, 54, 53, 63, 63, 52, 48, 45, 54, 65, 41, 59, 64, 65, 59, 46, 52, 34, 57, 66, 55, 40, 69, 57, 46, 50, 49, 61, 45, 47, 55, 53, 43, 53, 36, 59, 55, 60, 55, 67, 63, 37, 33, 67, 54, 60, 53, 64, 45, 60, 53, 48, 38, 67, 47, 68, 48, 50, 63, 47, 52, 49, 50, 68, 60, 39, 31, 55, 39, 56, 59, 55, 50, 69, 53, 67, 57, 48, 68, 63, 57, 63, 67, 54, 37, 66, 47, 48, 68, 61, 53, 58, 60, 58, 65, 41, 57, 61, 43, 45, 54, 55, 45, 56, 51, 62, 49, 47, 56, 64, 68, 42, 62, 60, 44, 51, 45, 43, 68, 42, 51, 53, 66, 60, 49, 62, 63, 55, 38, 65, 60, 49, 40, 62, 52, 38, 66, 39, 58, 52, 53, 54, 49, 56, 62, 57, 60, 45, 48, 68, 68, 67, 57, 68, 57, 63, 45, 53, 48, 48, 52, 60, 40, 58, 60, 60, 67, 65, 51, 63, 46, 68, 61, 63, 60, 46, 51, 45, 41, 64, 65, 42, 55, 49, 54, 40, 49, 60, 59, 51, 65, 51, 54, 56, 54, 40, 49, 51, 35, 51, 67, 33, 57, 62, 59, 61, 66, 68, 51, 62, 50, 63, 61, 57, 69, 52, 49, 46, 53, 43, 35, 67, 50, 39, 63, 63, 65, 62, 53, 61, 69, 47, 39, 57, 53, 58, 55, 48, 67, 56, 43, 56, 48, 60, 62, 41, 50, 44, 42, 40, 57, 65, 56, 47, 61, 39, 51, 47, 62, 56, 50, 60, 63, 46, 50, 53, 45, 54, 42, 58, 63, 42, 62, 66, 57, 55, 68, 68, 66, 48, 55, 66, 38, 42, 48, 37, 61, 38, 66, 33, 69, 61, 49, 62, 51, 40, 47, 56, 49, 56, 64, 57, 68, 45, 62, 50, 60, 64, 39, 66, 52, 52, 63, 69, 59, 59, 53, 69, 63, 59, 46, 60, 65, 47, 57, 65, 52, 63, 51, 68, 60, 49, 46, 51, 60, 46, 41, 62, 44, 68, 59, 58, 35, 65, 51, 63, 57, 67, 63, 59, 68, 52, 57, 41, 66, 62, 45, 39, 43, 40, 66, 65, 69, 51, 68, 52, 37, 51, 46, 54, 63, 52, 59, 49, 43, 48, 63, 50, 54, 52, 54, 51, 56, 51, 45, 33, 53, 49, 47, 39, 43, 56, 44, 67, 48, 42, 43, 47, 68, 46, 50, 46, 41, 59, 65, 62, 41, 63, 43, 61, 66, 61, 47, 59, 65, 53, 67, 55, 55, 41, 45, 60, 31, 59, 61, 62, 49, 48, 45, 61, 65, 67, 60, 48, 59, 60, 60, 40, 63, 48, 47, 53, 44, 47, 58, 41, 56, 62, 62, 69, 57, 58, 54, 69, 49, 57, 56, 49, 45, 46, 55, 49, 66, 55, 48, 63, 40, 65, 61, 60, 61, 67, 51, 68, 40, 62, 45, 51, 61, 50, 68, 42, 58, 31, 49, 38, 33, 39, 43, 62, 47, 49, 51, 66, 50, 69, 65, 67, 46, 53, 46, 63, 65, 54, 60, 61, 53, 58, 44, 38, 48, 57, 48, 53, 69, 58, 60, 42, 48, 53, 53, 65, 48, 64, 55, 57, 48, 58, 32, 53, 49, 45, 62, 64, 54, 60, 49, 44, 31, 57, 56, 48, 47, 37, 50, 51, 69, 43, 50, 68, 41, 47, 47, 68, 56, 52, 65, 55, 41, 60, 50, 53, 57, 60, 48, 34, 57, 43, 65, 51, 36, 68, 60, 67, 64, 60, 64, 49, 52, 63, 42, 58, 56, 50, 49, 54, 58, 68, 62, 63, 62, 63, 38, 65, 60, 47, 54, 38, 60, 62, 42, 59, 55, 53, 63, 59, 45, 58, 51, 66, 44, 31, 46, 58, 66, 48, 61, 52, 64, 63, 54, 54, 48, 40, 67, 52, 41, 57, 54, 62, 69, 58, 60, 49, 50, 61, 53, 49, 59, 65, 60, 54, 59, 58, 62, 57, 50, 55, 67, 61, 44, 59, 53, 59, 67, 46, 61, 57, 67, 45, 46, 54, 51, 53, 55, 54, 47, 59, 55, 68, 45, 69, 50, 61, 60, 47, 61, 63, 61, 57, 61, 54, 46, 49, 62, 34, 52, 69, 38, 63, 45, 50, 42, 47, 40, 51, 45, 47, 57, 57, 58, 59, 36, 48, 46, 50, 61, 59, 67, 60, 68, 65, 66, 61, 44, 52, 52, 59, 54, 51, 68, 68, 47, 46, 59, 50, 48, 52, 45, 58, 46, 55, 44, 48, 45, 56, 52, 55, 53, 67, 53, 61, 51, 45, 64, 43, 46, 56, 43, 64, 40, 43, 47, 61, 60, 53, 45, 39, 56, 49, 58, 68, 52, 47, 48, 63, 67, 63, 49, 43, 65, 67, 65, 53, 69, 64, 51, 51, 50, 67, 63, 66, 64, 40, 58, 57, 49, 50, 69, 61, 46, 54, 57, 56, 55, 58, 38, 52, 66, 58, 40, 41, 56, 64, 63, 38, 57, 46, 55, 55, 67, 57, 56, 57, 53, 54, 44, 52, 34, 41, 64, 63, 57, 58, 53, 51, 55, 39, 65, 52, 58, 65, 44, 47, 65, 62, 40, 60, 46, 66, 61, 61, 64, 34, 50, 56, 50, 54, 62, 69, 54, 44, 52, 51, 54, 61, 49, 54, 46, 47, 54, 52, 50, 57, 68, 57, 47, 40, 51, 41, 50, 47, 56, 45, 64, 64, 46, 63, 43, 47, 44, 63, 62, 57, 50, 58, 54, 68, 65, 46, 47, 61, 58, 52, 67, 47, 47, 54, 62, 62, 39, 62, 59, 57, 69, 59, 42, 50, 67, 61, 61, 65, 49, 46, 51, 58, 48, 69, 49, 62, 68, 40, 66, 46, 49, 57, 38, 65, 68, 48, 60, 51, 62, 47, 53, 53, 50, 46, 43, 41, 62, 52, 69, 53, 62, 41, 57, 62, 46, 66, 59, 64, 47, 59, 52, 68, 64, 47, 51, 54, 52, 60, 69, 44, 46, 60, 49, 62, 54, 66, 42, 52, 63, 53, 59, 57, 53, 65, 69, 65, 48, 62, 39, 48, 32, 56, 61, 63, 50, 51, 62, 68, 59, 56, 55, 59, 45, 62, 69, 54, 43, 43, 54, 57, 64, 51, 37, 53, 67, 50, 50, 62, 62, 50, 52, 43, 58, 38, 58, 67, 53, 55, 68, 38, 35, 57, 44, 35, 55, 41, 57, 55, 51, 55, 47, 58, 50, 63, 66, 46, 51, 47, 68, 53, 34, 57, 56, 67, 64, 61, 51, 50, 52, 50, 42, 30, 69, 65, 66, 40, 43, 49, 58, 63, 67, 42, 57, 48, 68, 64, 53, 56, 42, 49, 57, 49, 57, 62, 63, 47, 64, 57, 48, 63, 62, 62, 69, 56, 53, 52, 49, 57, 58, 56, 48, 53, 48, 47, 40, 50, 41, 32, 43, 65, 64, 65, 42, 66, 44, 53, 52, 39, 49, 44, 59, 69, 47, 41, 50, 63, 46, 50, 41, 50, 60, 55, 36, 49, 51, 50, 58, 53, 37, 50, 42, 61, 60, 67, 45, 59, 58, 66, 66, 59, 49, 59, 50, 55, 62, 49, 60, 58, 56, 55, 68, 67, 68, 58, 39, 55, 61, 64, 43, 46, 64, 49, 49, 51, 56, 61, 41, 65, 59, 66, 66, 61, 54, 60, 65, 47, 54, 59, 37, 68, 58, 53, 35, 40, 57, 60, 54, 68, 42, 55, 64, 55, 69, 54, 51, 65, 61, 52, 64, 48, 57, 45, 50, 57, 47, 52, 63, 63, 59, 69, 50, 44, 54, 66, 56, 55, 51, 47, 50, 49, 69, 61, 61, 61, 58, 36, 54, 61, 63, 53, 46, 54, 66, 62, 67, 32, 67, 51, 45, 43, 56, 55, 47, 46, 42, 54, 46, 45, 50, 46, 67, 56, 56, 55, 67, 64, 57, 52, 69, 54, 33, 48, 41, 55, 46, 50, 46, 35, 56, 56, 39, 43, 53, 50, 34, 44, 47, 43, 61, 46, 34, 31, 46, 65, 48, 30, 57, 57, 57, 65, 57, 44, 51, 56, 46, 54, 49, 66, 62, 51, 68, 68, 62, 54, 41, 67, 43, 64, 51, 44, 61, 45, 57, 39, 59, 47, 58, 65, 62, 59, 61, 59, 43, 66, 46, 58, 54, 47, 64, 48, 60, 36, 60, 53, 46, 36, 33, 33, 47, 69, 41, 59, 63, 56, 51, 55, 49, 58, 54, 66, 44, 54, 65, 40, 44, 67, 41, 39, 60, 58, 42, 59, 60, 51, 60, 53, 69, 41, 49, 33, 63, 63, 44, 47, 37, 61, 67, 67, 50, 64, 51, 63, 49, 65, 56, 48, 54, 51, 65, 61, 57, 49, 55, 68, 45, 54, 69, 51, 46, 42, 52, 67, 63, 42, 56, 59, 40, 43, 52, 59, 46, 47, 55, 63, 32, 46, 58, 58, 51, 46, 47, 61, 46, 59, 54, 66, 66, 57, 59, 59, 61, 68, 45, 66, 60, 41, 57, 60, 49, 49, 56, 66, 46, 57, 47, 46, 64, 44, 46, 37, 61, 52, 61, 47, 47, 37, 62, 51, 45, 47, 60, 55, 55, 55, 50, 35, 55, 54, 55, 50, 53, 45, 40, 52, 48, 66, 31, 42, 45, 69, 60, 55, 40, 56, 49, 35, 43, 64, 54, 60, 67, 46, 38, 64, 55, 44, 51, 66, 63, 39, 45, 48, 33, 56, 60, 44, 55, 44, 47, 53, 56, 44, 49, 57, 64, 56, 47, 41, 49, 66, 60, 61, 63, 55, 42, 47, 60, 40, 55, 66, 64, 30, 46, 51, 41, 55, 68, 50, 64, 51, 65, 35, 54, 69, 69, 46, 37, 39, 39, 53, 58, 56, 54, 54, 60, 50, 57, 57, 56, 42, 51, 52, 39, 52, 37, 49, 56, 54, 67, 42, 54, 43, 34, 53, 56, 48, 55, 47, 44, 60, 35, 48, 64, 66, 65, 46, 62, 57, 64, 64, 38, 68, 59, 48, 50, 62, 61, 58, 63, 46, 51, 47, 36, 58, 57, 56, 46, 64, 57, 62, 59, 48, 45, 51, 37, 30, 69, 66, 43, 46, 59, 61, 48, 46, 65, 47, 65, 55, 43, 43, 46, 42, 65, 49, 53, 65, 45, 43, 52, 65, 66, 69, 43, 48, 55, 53, 56, 69, 55, 49, 55, 67, 62, 49, 63, 69, 53, 52, 47, 32, 53, 67, 45, 48, 56, 65, 62, 68, 43, 56, 51, 36, 49, 60, 68, 44, 47, 62, 57, 61, 40, 38, 57, 68, 57, 46, 66, 45, 51, 58, 41, 60, 39, 48, 47, 47, 59, 54, 56, 63, 61, 48, 50, 60, 61, 42, 51, 52, 65, 66, 53, 66, 62, 58, 61, 45, 42, 47, 48, 53, 69, 66, 55, 45, 51, 51, 64, 61, 60, 64, 32, 65, 59, 61, 59, 58, 68, 48, 59, 47, 49, 54, 55, 69, 47, 39, 66, 65, 54, 48, 43, 47, 47, 64, 62, 69, 57, 58, 59, 62, 67, 55, 42, 49, 60, 59, 46, 53, 59, 58, 49, 67, 47, 58, 56, 54, 69, 59, 63, 49, 61, 56, 43, 54, 65, 56, 49, 50, 56, 60, 51, 59, 50, 66, 46, 58, 61, 63, 68, 48, 66, 43, 69, 58, 42, 61, 59, 69, 58, 54, 41, 69, 55, 64, 38, 59, 45, 55, 53, 47, 46, 65, 60, 61, 56, 45, 46, 47, 68, 43, 57, 38, 49, 51, 47, 66, 53, 51, 42, 61, 55, 63, 62, 45, 66, 65, 55, 36, 53, 41, 63, 69, 44, 64, 68, 57, 51, 65, 52, 53, 50, 38, 66, 63, 62, 53, 66, 54, 65, 62, 62, 35, 69, 46, 52, 49, 52, 45, 49, 50, 48, 43, 64, 66, 65, 46, 44, 55, 42, 50, 56, 68, 44, 36, 62, 51, 36, 59, 46, 41, 53, 53, 46, 68, 61, 64, 65, 58, 49, 53, 62, 69, 52, 49, 51, 59, 40, 54, 46, 55, 45, 57, 40, 64, 69, 65, 49, 36, 48, 57, 40, 62, 46, 63, 51, 50, 51, 46, 59, 47, 58, 68, 60, 63, 57, 45, 39, 44, 44, 55, 65, 46, 47, 53, 40, 41, 46, 67, 39, 63, 50, 59, 49, 67, 38, 47, 69, 40, 43, 57, 68, 67, 48, 56, 69, 40, 51, 46, 41, 55, 48, 64, 47, 69, 45, 60, 49, 46, 40, 63, 60, 69, 46, 50, 47, 64, 50, 59, 62, 52, 65, 38, 53, 50, 60, 57, 49, 60, 66, 37, 54, 50, 63, 49, 58, 48, 52, 62, 66, 45, 53, 56, 59, 49, 53, 56, 51, 47, 51, 61, 56, 67, 42, 62, 46, 61, 67, 53, 44, 45, 54, 58, 33, 64, 47, 63, 65, 63, 46, 56, 55, 55, 43, 46, 49, 64, 62, 59, 63, 47, 45, 60, 45, 61, 63, 59, 65, 54, 52, 54, 66, 51, 68, 45, 48, 50, 55, 56, 55, 63, 42, 57, 43, 52, 66, 63, 43, 54, 61, 61, 50, 63, 60, 50, 55, 46, 51, 55, 57, 62, 63, 48, 64, 40, 57, 31, 45, 50, 56, 40, 32, 67, 62, 60, 54, 49, 37, 53, 45, 38, 41, 60, 46, 51, 55, 69, 47, 62, 59, 48, 68, 37, 59, 59, 64, 63, 46, 43, 38, 48, 69, 48, 59, 54, 63, 63, 68, 52, 55, 55, 43, 58, 47, 50, 68, 65, 63, 69, 63, 45, 57, 52, 53, 40, 51, 44, 42, 50, 64, 51, 60, 61, 60, 61, 55, 31, 59, 59, 44, 67, 58, 61, 50, 49, 49, 46, 68, 40, 62, 67, 60, 50, 59, 49, 46, 46, 66, 48, 51, 55, 65, 41, 42, 65, 49, 55, 58, 42, 68, 56, 60, 69, 63, 52, 57, 52, 65, 53, 59, 67, 60, 54, 40, 47, 54, 42, 38, 57, 49, 66, 68, 55, 67, 42, 53, 63, 66, 60, 62, 37, 67, 57, 54, 44, 50, 62, 61, 62, 50, 51, 67, 55, 48, 51, 47, 56, 66, 45, 59, 64, 63, 66, 44, 65, 52, 61, 59, 64, 47, 69, 66, 58, 53, 43, 41, 59, 46, 57, 43, 48, 44, 36, 51, 56, 63, 46, 50, 69, 54, 62, 63, 49, 60, 56, 67, 68, 55, 45, 40, 38, 58, 55, 62, 69, 62, 62, 63, 65, 51, 59, 58, 66, 54, 48, 47, 69, 39, 62, 67, 60, 62, 50, 52, 58, 46, 42, 68, 56, 68, 55, 51, 47, 69, 53, 47, 55, 61, 48, 56, 67, 57, 34, 41, 61, 47, 61, 63, 67, 50, 51, 55, 52, 59, 50, 42, 61, 68, 55, 59, 66, 62, 69, 46, 50, 53, 61, 46, 61, 69, 50, 39, 40, 67, 40, 59, 38, 54, 64, 62, 49, 34, 47, 49, 52, 41, 64, 62, 66, 55, 57, 62, 60, 47, 69, 41, 48, 54, 54, 67, 66, 66, 62, 67, 53, 47, 57, 63, 60, 53, 52, 56, 40, 38, 61, 52, 53, 64, 45, 52, 67, 45, 60, 66, 60, 48, 52, 32, 49, 53, 57, 46, 44, 54, 46, 56, 48, 41, 52, 56, 60, 53, 63, 51, 67, 64, 41, 49, 49, 63, 60, 63, 69, 51, 63, 44, 49, 69, 56, 69, 64, 51, 47, 65, 48, 56, 62, 56, 49, 53, 44, 60, 63, 60, 43, 41, 62, 49, 68, 45, 57, 62, 64, 66, 61, 56, 52, 63, 38, 65, 48, 61, 56, 55, 43, 42, 55, 56, 57, 58, 53, 54, 56, 65, 59, 43, 63, 56, 48, 47, 43, 53, 44, 57, 56, 62, 43, 58, 47, 52, 65, 49, 43, 64, 53, 60, 62, 47, 55, 46, 56, 50, 39, 49, 56, 45, 63, 50, 65, 45, 50, 55, 63, 54, 42, 60, 46, 48, 64, 41, 44, 48, 66, 65, 62, 64, 44, 53, 52, 43, 50, 67, 53, 65, 55, 53, 54, 41, 59, 54, 46, 66, 45, 60, 59, 57, 53, 51, 55, 55, 62, 40, 68, 42, 42, 37, 64, 61, 59, 50, 67, 55, 63, 57, 57, 51, 52, 64, 58, 43, 64, 67, 61, 60, 41, 66, 57, 66, 47, 42, 44, 47, 37, 53, 61, 66, 43, 59, 59, 67, 63, 54, 45, 66, 48, 49, 64, 41, 47, 64, 63, 55, 61, 59, 67, 47, 42, 56, 65, 43, 45, 63, 44, 66, 40, 57, 69, 54, 68, 42, 52, 54, 50, 59, 44, 55, 68, 44, 55, 66, 53, 49, 46, 46, 51, 56, 41, 63, 46, 50, 50, 43, 47, 56, 44, 65, 53, 54, 50, 63, 36, 69, 49, 50, 60, 56, 68, 62, 50, 65, 43, 51, 61, 62, 50, 68, 55, 64, 46, 61, 51, 43, 62, 39, 53, 45, 68, 54, 55, 57, 43, 43, 45, 57, 63, 64, 61, 63, 58, 46, 59, 59, 61, 35, 66, 56, 45, 66, 67, 48, 61, 65, 64, 67, 47, 53, 55, 63, 35, 61, 47, 46, 64, 58, 68, 49, 63, 43, 43, 51, 60, 47, 61, 66, 49, 53, 47, 58, 52, 54, 47, 39, 59, 53, 69, 67, 33, 67, 32, 48, 47, 61, 50, 55, 55, 67, 56, 39, 33, 48, 47, 63, 59, 67, 64, 63, 57, 49, 63, 42, 59, 44, 57, 58, 46, 49, 46, 40, 44, 59, 65, 68, 60, 60, 42, 44, 47, 47, 57, 47, 58, 46, 42, 57, 51, 43, 40, 48, 47, 67, 66, 46, 53, 65, 62, 39, 54, 59, 62, 42, 49, 59, 45, 56, 42, 52, 54, 51, 68, 48, 44, 58, 64, 65, 52, 61, 53, 53, 52, 49, 55, 55, 56, 53, 56, 46, 57, 52, 62, 55, 58, 58, 49, 56, 46, 67, 65, 51, 49, 53, 67, 59, 52, 36, 51, 48, 60, 61, 59, 62, 58, 46, 48, 62, 64, 55, 49, 56, 38, 46, 45, 55, 42, 48, 51, 41, 54, 67, 43, 52, 49, 67, 59, 46, 42, 57, 60, 54, 57, 38, 53, 47, 47, 47, 47, 38, 37, 48, 49, 57, 61, 48, 56, 52, 68, 64, 60, 52, 55, 59, 64, 53, 46, 65, 63, 45, 62, 54, 60, 47, 48, 47, 44, 45, 57, 62, 50, 52, 49, 53, 46, 50, 56, 51, 46, 47, 42, 55, 68, 36, 56, 67, 37, 60, 55, 49, 68, 57, 54, 51, 47, 34, 65, 47, 42, 68, 65, 66, 67, 57, 44, 53, 39, 47, 62, 53, 48, 64, 61, 35, 54, 52, 48, 46, 45, 37, 47, 62, 48, 41, 60, 47, 60, 56, 43, 41, 59, 65, 47, 50, 55, 51, 67, 49, 53, 47, 46, 58, 57, 51, 68, 67, 43, 42, 51, 51, 39, 49, 67, 51, 65, 43, 61, 64, 66, 49, 67, 58, 49, 52, 50, 48, 41, 44, 54, 51, 58, 49, 59, 47, 46, 66, 64, 53, 63, 68, 59, 42, 55, 68, 46, 69, 63, 64, 61, 63, 46, 53, 50, 67, 55, 50, 66, 66, 59, 46, 60, 68, 41, 44, 51, 58, 62, 69, 47, 44, 60, 49, 44, 39, 40, 58, 43, 51, 56, 33, 63, 51, 49, 41, 45, 49, 49, 53, 55, 46, 60, 62, 51, 64, 56, 60, 60, 52, 41, 48, 46, 44, 65, 54, 47, 57, 48, 56, 47, 61, 43, 55, 48, 50, 59, 53, 65, 45, 61, 40, 42, 65, 51, 48, 41, 48, 67, 67, 55, 63, 48, 58, 56, 44, 48, 48, 50, 38, 48, 62, 50, 48, 51, 62, 40, 46, 51, 48, 63, 42, 57, 51, 69, 47, 69, 62, 52, 59, 43, 53, 47, 58, 50, 49, 59, 62, 63, 53, 62, 42, 56, 59, 54, 57, 65, 48, 61, 69, 42, 53, 56, 62, 69, 50, 44, 57, 49, 59, 48, 60, 49, 66, 54, 58, 39, 57, 64, 51, 46, 52, 45, 59, 47, 41, 40, 42, 55, 38, 46, 45, 53, 49, 46, 65, 62, 52, 53, 53, 60, 62], \"y\": [40, 45, 25, 19, 35, 32, 22, 15, 70, 55, 47, 38, 26, 25, 25, 17, 12, 2, 51, 42, 30, 20, 13, 10, 70, 65, 50, 42, 40, 30, 16, 14, 100, 55, 21, 9, 7, 85, 45, 40, 24, 23, 22, 22, 36, 35, 30, 30, 19, 15, 12, 11, 6, 100, 61, 50, 50, 40, 21, 20, 8, 52, 38, 30, 19, 90, 45, 40, 35, 34, 23, 70, 43, 30, 28, 26, 25, 22, 18, 18, 17, 16, 13, 30, 27, 25, 23, 21, 17, 15, 15, 12, 12, 100, 52, 42, 40, 38, 35, 120, 100, 85, 35, 30, 28, 26, 15, 70, 60, 50, 45, 30, 19, 70, 60, 50, 45, 38, 35, 35, 35, 20, 15, 15, 50, 50, 35, 28, 20, 100, 85, 65, 40, 32, 31, 22, 22, 6, 3, 120, 40, 24, 24, 20, 18, 12, 75, 72, 60, 48, 45, 35, 30, 25, 21, 7, 7, 92, 75, 65, 55, 50, 50, 42, 35, 35, 31, 17, 15, 15, 15, 13, 5, 120, 72, 45, 40, 40, 35, 30, 28, 20, 20, 17, 12, 130, 90, 90, 65, 43, 30, 30, 25, 22, 21, 20, 14, 95, 80, 50, 24, 15, 67, 47, 30, 30, 30, 25, 25, 25, 23, 22, 20, 13, 5, 70, 60, 50, 43, 35, 28, 18, 14, 70, 60, 40, 38, 28, 19, 13, 80, 65, 60, 55, 47, 40, 27, 18, 16, 15, 100, 97, 76, 52, 52, 50, 45, 37, 33, 31, 30, 25, 17, 17, 16, 35, 18, 12, 11, 2, 56, 55, 48, 40, 40, 30, 25, 21, 14, 70, 50, 45, 43, 40, 36, 25, 25, 20, 18, 17, 83, 33, 32, 26, 25, 25, 25, 24, 14, 10, 3, 82, 80, 65, 51, 40, 40, 33, 27, 23, 17, 12, 130, 28, 27, 24, 21, 20, 20, 18, 18, 16, 15, 105, 75, 50, 50, 30, 30, 30, 30, 30, 25, 18, 15, 4, 100, 40, 40, 32, 22, 17, 12, 11, 9, 63, 60, 55, 55, 47, 40, 35, 35, 29, 28, 25, 23, 22, 22, 18, 17, 15, 12, 120, 85, 65, 65, 63, 60, 60, 60, 50, 48, 48, 45, 44, 43, 40, 32, 27, 25, 24, 22, 20, 16, 14, 13, 70, 66, 38, 35, 35, 35, 30, 30, 30, 27, 21, 20, 15, 5, 90, 78, 58, 47, 45, 40, 32, 25, 20, 15, 70, 70, 55, 52, 50, 42, 35, 26, 25, 24, 22, 17, 15, 15, 13, 8, 50, 40, 35, 29, 28, 24, 22, 22, 22, 22, 20, 18, 17, 16, 15, 12, 60, 50, 40, 35, 25, 25, 25, 20, 20, 18, 17, 17, 10, 4, 95, 80, 61, 60, 51, 45, 40, 34, 30, 28, 25, 24, 24, 24, 22, 22, 20, 20, 18, 17, 15, 15, 15, 12, 12, 11, 140, 90, 70, 70, 62, 55, 54, 50, 45, 42, 42, 42, 40, 40, 40, 38, 36, 33, 31, 30, 30, 30, 30, 25, 24, 22, 21, 21, 20, 20, 18, 18, 18, 18, 18, 17, 17, 17, 16, 16, 15, 15, 15, 14, 13, 12, 12, 11, 11, 10, 10, 9, 9, 8, 105, 80, 76, 60, 60, 55, 51, 50, 45, 40, 39, 38, 36, 35, 35, 35, 31, 30, 30, 30, 30, 29, 28, 26, 25, 25, 25, 25, 25, 24, 23, 22, 21, 21, 20, 19, 19, 19, 18, 18, 18, 17, 16, 16, 15, 15, 15, 15, 15, 15, 14, 14, 14, 13, 13, 12, 12, 10, 10, 9, 9, 120, 85, 80, 70, 65, 62, 60, 54, 47, 45, 41, 40, 40, 37, 35, 35, 35, 35, 33, 30, 30, 28, 28, 28, 27, 26, 26, 25, 25, 25, 24, 23, 23, 22, 22, 22, 20, 20, 20, 20, 19, 19, 19, 18, 17, 17, 17, 16, 16, 15, 15, 15, 15, 15, 15, 14, 13, 13, 12, 12, 11, 11, 11, 10, 9, 6, 2, 140, 110, 70, 70, 60, 60, 56, 45, 45, 45, 45, 40, 40, 37, 37, 35, 35, 34, 30, 30, 30, 28, 27, 24, 22, 22, 21, 20, 20, 20, 20, 19, 19, 19, 18, 18, 18, 18, 17, 17, 16, 16, 16, 16, 15, 15, 15, 15, 15, 14, 13, 10, 7, 7, 1, 120, 90, 85, 80, 80, 75, 72, 65, 60, 52, 50, 50, 47, 40, 37, 35, 35, 35, 35, 35, 34, 32, 32, 31, 30, 30, 29, 28, 28, 27, 24, 24, 23, 22, 22, 22, 21, 21, 21, 21, 20, 20, 20, 19, 18, 18, 17, 16, 15, 15, 15, 13, 12, 11, 10, 10, 9, 9, 6, 5, 4, 4, 125, 70, 62, 60, 60, 60, 60, 55, 55, 50, 50, 49, 45, 45, 40, 40, 39, 38, 38, 38, 35, 35, 35, 33, 30, 30, 30, 30, 30, 30, 27, 27, 26, 25, 25, 23, 23, 22, 18, 18, 17, 17, 17, 16, 15, 15, 15, 15, 15, 15, 15, 15, 14, 13, 13, 12, 11, 10, 10, 7, 3, 75, 75, 74, 70, 70, 70, 68, 62, 61, 55, 53, 53, 48, 47, 45, 40, 35, 35, 35, 35, 30, 30, 30, 30, 28, 28, 27, 26, 25, 25, 25, 23, 22, 21, 19, 19, 18, 18, 18, 18, 17, 16, 15, 14, 14, 14, 13, 12, 12, 11, 11, 11, 11, 10, 8, 8, 8, 7, 3, 120, 90, 85, 82, 75, 75, 70, 63, 63, 62, 59, 50, 45, 40, 40, 40, 35, 35, 35, 35, 35, 34, 31, 30, 30, 28, 28, 27, 27, 25, 25, 25, 25, 24, 24, 22, 21, 21, 21, 20, 20, 20, 19, 17, 17, 16, 15, 15, 15, 15, 15, 15, 15, 14, 14, 14, 13, 12, 12, 12, 11, 8, 4, 101, 90, 90, 80, 75, 70, 55, 46, 45, 45, 40, 40, 39, 38, 35, 35, 35, 35, 35, 35, 35, 35, 35, 35, 32, 31, 30, 30, 30, 28, 27, 25, 25, 25, 25, 25, 25, 25, 25, 25, 24, 23, 23, 23, 23, 23, 20, 20, 20, 20, 19, 18, 18, 18, 17, 17, 17, 17, 16, 16, 16, 15, 15, 15, 15, 14, 14, 13, 13, 10, 10, 5, 4, 140, 105, 100, 98, 70, 65, 64, 60, 60, 51, 50, 49, 44, 40, 35, 35, 35, 31, 30, 30, 30, 28, 27, 27, 26, 26, 25, 25, 25, 25, 25, 22, 22, 21, 21, 21, 20, 20, 20, 18, 17, 17, 16, 16, 15, 15, 14, 14, 12, 12, 12, 11, 7, 133, 120, 117, 80, 61, 60, 55, 52, 50, 47, 44, 40, 40, 40, 40, 40, 40, 40, 35, 35, 35, 30, 29, 28, 28, 27, 27, 25, 25, 25, 25, 25, 25, 25, 25, 24, 23, 23, 22, 20, 20, 20, 20, 19, 19, 17, 16, 16, 15, 15, 15, 14, 13, 12, 12, 10, 10, 8, 6, 5, 4, 80, 75, 70, 65, 60, 60, 60, 55, 52, 51, 50, 50, 45, 42, 42, 40, 40, 36, 35, 34, 33, 30, 30, 28, 28, 27, 25, 25, 25, 25, 25, 25, 24, 23, 23, 22, 22, 21, 21, 20, 20, 20, 20, 20, 20, 19, 17, 15, 15, 15, 14, 13, 12, 12, 12, 11, 11, 11, 9, 9, 1, 90, 80, 70, 70, 65, 57, 50, 45, 42, 40, 37, 36, 35, 35, 35, 34, 33, 33, 30, 30, 30, 30, 29, 27, 27, 25, 22, 22, 22, 21, 20, 20, 20, 20, 19, 18, 18, 18, 18, 17, 17, 16, 16, 16, 16, 15, 15, 15, 15, 15, 15, 13, 13, 13, 12, 12, 11, 11, 10, 10, 8, 8, 4, 115, 100, 80, 80, 70, 65, 63, 61, 59, 51, 51, 50, 46, 45, 42, 41, 40, 40, 40, 37, 36, 35, 31, 30, 28, 26, 25, 25, 25, 25, 25, 24, 22, 22, 21, 21, 21, 20, 20, 20, 18, 18, 17, 16, 15, 15, 15, 15, 15, 15, 14, 13, 13, 13, 12, 12, 12, 10, 8, 6, 90, 79, 55, 50, 42, 40, 39, 35, 35, 33, 32, 32, 30, 30, 30, 30, 30, 27, 27, 27, 26, 25, 25, 25, 25, 25, 24, 23, 22, 22, 21, 20, 19, 18, 16, 16, 16, 15, 15, 15, 14, 13, 13, 12, 12, 10, 9, 7, 7, 7, 5, 2, 96, 86, 80, 80, 80, 75, 70, 70, 63, 62, 60, 56, 52, 51, 50, 50, 50, 50, 45, 42, 40, 35, 35, 35, 34, 34, 33, 31, 30, 30, 30, 30, 30, 30, 30, 25, 25, 25, 25, 25, 25, 24, 23, 22, 20, 20, 19, 19, 19, 18, 18, 18, 18, 17, 17, 17, 17, 16, 15, 14, 13, 12, 12, 11, 11, 10, 10, 10, 10, 9, 6, 5, 4, 140, 74, 63, 60, 58, 55, 52, 50, 50, 50, 48, 40, 40, 39, 37, 35, 35, 35, 35, 35, 34, 34, 33, 32, 32, 30, 30, 30, 30, 30, 27, 26, 25, 25, 25, 24, 24, 23, 23, 22, 22, 22, 21, 20, 20, 20, 19, 19, 18, 18, 17, 16, 16, 15, 15, 13, 13, 12, 11, 11, 7, 6, 75, 70, 70, 65, 60, 60, 50, 45, 45, 45, 45, 45, 40, 40, 36, 36, 36, 35, 35, 32, 32, 30, 30, 30, 28, 28, 28, 27, 27, 26, 25, 25, 24, 24, 23, 23, 22, 21, 20, 20, 20, 20, 19, 18, 17, 15, 15, 15, 15, 15, 14, 13, 12, 7, 6, 100, 100, 70, 70, 60, 60, 60, 55, 51, 51, 50, 50, 50, 45, 43, 40, 40, 35, 35, 35, 34, 32, 31, 31, 30, 30, 30, 30, 30, 28, 27, 27, 25, 25, 25, 24, 23, 22, 22, 21, 21, 20, 20, 20, 20, 19, 18, 17, 17, 17, 17, 16, 16, 16, 15, 15, 15, 14, 14, 14, 12, 11, 11, 9, 9, 8, 7, 5, 5, 5, 2, 90, 90, 90, 66, 65, 65, 61, 60, 60, 50, 50, 45, 42, 40, 40, 38, 38, 37, 35, 35, 35, 31, 30, 29, 26, 25, 25, 25, 23, 23, 23, 22, 21, 21, 21, 21, 21, 20, 20, 20, 19, 17, 16, 16, 16, 15, 15, 15, 15, 14, 14, 14, 13, 12, 12, 11, 11, 11, 10, 10, 9, 110, 95, 85, 80, 70, 70, 65, 60, 53, 52, 51, 45, 40, 40, 37, 35, 33, 33, 32, 32, 31, 30, 27, 25, 25, 25, 23, 22, 21, 20, 18, 18, 18, 18, 17, 17, 17, 16, 15, 15, 15, 15, 15, 15, 15, 15, 14, 14, 14, 14, 13, 13, 12, 12, 12, 12, 10, 10, 9, 7, 6, 5, 5, 100, 95, 84, 80, 73, 70, 68, 60, 60, 60, 57, 53, 50, 47, 47, 46, 46, 45, 45, 42, 40, 40, 40, 39, 38, 37, 32, 30, 30, 30, 27, 26, 25, 25, 25, 25, 25, 25, 24, 23, 23, 23, 22, 22, 22, 22, 21, 21, 21, 21, 20, 20, 20, 20, 20, 20, 20, 20, 19, 18, 18, 18, 18, 18, 17, 15, 15, 15, 15, 15, 15, 14, 13, 12, 12, 10, 10, 9, 9, 6, 4, 103, 92, 88, 87, 77, 60, 45, 37, 37, 35, 35, 29, 28, 25, 25, 25, 25, 25, 25, 25, 25, 24, 24, 23, 22, 21, 20, 20, 19, 18, 18, 17, 16, 15, 15, 15, 15, 15, 15, 13, 12, 11, 11, 10, 10, 10, 9, 9, 9, 108, 94, 85, 80, 77, 75, 60, 55, 50, 45, 41, 40, 40, 38, 35, 34, 32, 32, 29, 28, 27, 25, 25, 24, 23, 21, 20, 20, 20, 20, 18, 18, 16, 15, 15, 15, 15, 15, 12, 11, 7, 80, 60, 60, 55, 55, 55, 50, 50, 44, 40, 40, 40, 35, 34, 30, 30, 30, 30, 28, 26, 26, 25, 23, 22, 22, 22, 21, 21, 21, 21, 20, 20, 18, 18, 17, 17, 15, 15, 15, 15, 15, 15, 14, 14, 13, 11, 11, 10, 10, 10, 9, 9, 8, 8, 8, 4, 1, 90, 80, 80, 75, 70, 60, 50, 50, 45, 43, 40, 37, 35, 35, 31, 30, 30, 30, 30, 28, 27, 25, 25, 25, 25, 25, 25, 24, 23, 22, 22, 21, 21, 20, 20, 18, 18, 18, 18, 17, 16, 16, 16, 15, 15, 15, 15, 15, 13, 12, 11, 11, 7, 6, 6, 123, 90, 69, 57, 55, 55, 55, 50, 50, 50, 50, 50, 49, 45, 40, 37, 36, 35, 35, 30, 30, 30, 30, 30, 30, 30, 30, 30, 28, 28, 25, 25, 23, 23, 22, 22, 20, 19, 18, 18, 17, 15, 15, 15, 15, 15, 15, 13, 12, 12, 12, 12, 10, 8, 7, 2, 120, 75, 70, 63, 60, 59, 55, 51, 51, 50, 50, 45, 45, 44, 38, 38, 38, 35, 32, 32, 32, 31, 30, 28, 28, 28, 26, 26, 25, 25, 25, 25, 25, 25, 24, 24, 23, 22, 22, 22, 21, 21, 21, 21, 20, 20, 20, 20, 19, 19, 18, 18, 18, 18, 18, 15, 12, 12, 10, 8, 8, 7, 6, 5, 2, 80, 76, 74, 66, 65, 65, 60, 60, 60, 50, 50, 47, 45, 40, 40, 40, 37, 37, 33, 32, 30, 30, 30, 26, 25, 25, 25, 25, 25, 23, 22, 22, 21, 21, 20, 18, 18, 18, 18, 18, 16, 16, 16, 16, 16, 15, 15, 15, 12, 12, 12, 12, 12, 12, 11, 10, 8, 5, 5, 80, 70, 60, 55, 55, 55, 50, 45, 45, 40, 40, 40, 40, 40, 40, 39, 35, 35, 35, 32, 32, 30, 30, 29, 25, 25, 25, 25, 25, 25, 24, 24, 22, 21, 21, 21, 20, 20, 19, 19, 18, 18, 18, 17, 17, 16, 16, 15, 15, 15, 15, 15, 14, 14, 13, 13, 12, 12, 11, 10, 10, 7, 6, 6, 80, 75, 75, 65, 60, 56, 55, 51, 50, 42, 41, 40, 40, 37, 36, 35, 35, 32, 30, 30, 30, 30, 29, 26, 26, 26, 25, 25, 25, 25, 25, 25, 23, 22, 21, 21, 20, 20, 20, 20, 19, 19, 18, 16, 16, 15, 14, 14, 13, 11, 11, 11, 11, 11, 10, 7, 110, 90, 80, 80, 70, 70, 60, 51, 50, 44, 41, 40, 40, 40, 35, 32, 31, 30, 30, 30, 30, 30, 30, 28, 27, 25, 25, 24, 23, 23, 22, 22, 21, 21, 20, 20, 20, 19, 18, 18, 18, 17, 17, 16, 16, 16, 15, 15, 15, 15, 13, 12, 10, 7, 7, 130, 90, 52, 50, 50, 45, 45, 45, 40, 39, 35, 35, 33, 32, 32, 32, 31, 30, 30, 30, 30, 30, 27, 25, 25, 25, 24, 24, 22, 21, 20, 18, 18, 18, 18, 17, 17, 17, 16, 16, 16, 15, 15, 15, 15, 15, 15, 15, 15, 15, 15, 14, 14, 14, 13, 13, 13, 13, 12, 12, 11, 10, 10, 10, 8, 8, 8, 5, 100, 81, 80, 68, 60, 60, 60, 55, 50, 45, 42, 38, 37, 35, 35, 35, 34, 33, 32, 32, 31, 30, 30, 30, 30, 30, 30, 30, 29, 28, 27, 27, 27, 27, 25, 24, 24, 24, 23, 22, 22, 21, 20, 20, 20, 19, 19, 18, 17, 17, 17, 17, 16, 15, 15, 15, 15, 15, 14, 14, 14, 13, 13, 12, 12, 8, 5, 1, 120, 120, 120, 110, 100, 72, 70, 60, 52, 48, 45, 45, 42, 40, 40, 35, 35, 35, 33, 32, 30, 30, 30, 30, 30, 27, 25, 25, 25, 25, 24, 21, 21, 21, 20, 20, 20, 20, 19, 19, 19, 18, 18, 18, 18, 17, 17, 16, 15, 15, 15, 14, 14, 13, 12, 9, 9, 8, 7, 5, 1, 120, 90, 74, 70, 68, 58, 58, 57, 55, 50, 50, 43, 42, 40, 40, 39, 35, 35, 35, 34, 30, 30, 30, 30, 27, 26, 25, 25, 25, 25, 25, 25, 25, 25, 24, 24, 24, 24, 24, 23, 23, 21, 20, 20, 20, 20, 18, 18, 18, 18, 18, 17, 16, 16, 16, 15, 15, 15, 15, 15, 15, 12, 10, 10, 6, 5, 100, 80, 74, 72, 70, 65, 55, 50, 47, 46, 46, 40, 38, 35, 31, 30, 30, 30, 29, 26, 25, 25, 25, 25, 25, 24, 23, 23, 22, 21, 20, 20, 18, 18, 18, 17, 17, 17, 17, 17, 16, 16, 16, 15, 15, 15, 15, 14, 13, 13, 12, 12, 11, 11, 10, 9, 9, 7, 104, 100, 75, 68, 65, 60, 55, 55, 51, 45, 42, 42, 40, 37, 35, 33, 30, 30, 30, 30, 30, 30, 30, 28, 25, 25, 23, 22, 22, 22, 22, 20, 20, 20, 20, 20, 20, 18, 18, 17, 17, 16, 15, 15, 14, 12, 10, 10, 10, 10, 7, 6, 120, 70, 69, 68, 65, 61, 55, 55, 55, 55, 54, 50, 38, 37, 35, 35, 34, 32, 30, 30, 30, 30, 28, 25, 25, 25, 25, 24, 22, 22, 21, 21, 21, 21, 21, 21, 20, 20, 20, 18, 18, 17, 17, 15, 15, 15, 15, 15, 12, 12, 12, 11, 11, 9, 8, 7, 7, 75, 65, 65, 60, 56, 52, 50, 50, 45, 45, 40, 38, 37, 37, 32, 32, 30, 30, 30, 30, 30, 27, 26, 25, 25, 25, 25, 25, 24, 23, 23, 22, 21, 20, 20, 19, 19, 18, 18, 17, 16, 15, 15, 15, 14, 13, 13, 10, 10, 9, 9, 8, 1, 130, 90, 76, 75, 70, 62, 60, 60, 60, 57, 55, 55, 55, 54, 52, 48, 42, 40, 40, 36, 36, 35, 35, 34, 34, 31, 30, 30, 30, 30, 26, 25, 25, 25, 25, 25, 25, 25, 23, 23, 22, 20, 20, 20, 20, 19, 19, 18, 18, 18, 17, 15, 15, 14, 14, 14, 12, 12, 11, 11, 11, 10, 8, 140, 100, 80, 75, 70, 60, 60, 60, 55, 55, 55, 55, 55, 52, 45, 45, 40, 40, 35, 35, 35, 34, 32, 31, 30, 30, 30, 30, 30, 29, 28, 27, 25, 25, 25, 24, 24, 23, 23, 21, 20, 20, 20, 19, 18, 18, 17, 16, 16, 16, 15, 15, 13, 13, 13, 12, 12, 11, 11, 10, 10, 7, 7, 7, 3, 2, 83, 80, 70, 60, 52, 51, 50, 45, 40, 36, 35, 33, 30, 30, 30, 29, 29, 26, 25, 25, 25, 24, 23, 23, 23, 22, 21, 21, 20, 19, 18, 17, 15, 15, 15, 14, 12, 11, 11, 10, 7, 6, 4, 107, 100, 100, 80, 60, 60, 50, 48, 45, 40, 40, 40, 35, 35, 35, 35, 32, 31, 30, 29, 27, 25, 25, 22, 21, 20, 20, 20, 20, 20, 18, 18, 18, 17, 16, 16, 16, 15, 15, 15, 15, 13, 12, 12, 11, 11, 10, 9, 7, 7, 6, 100, 80, 63, 60, 60, 60, 59, 40, 40, 40, 35, 35, 35, 32, 32, 30, 30, 28, 27, 27, 26, 25, 25, 25, 25, 25, 24, 23, 22, 21, 21, 20, 18, 18, 18, 17, 17, 16, 16, 15, 14, 14, 13, 12, 12, 11, 10, 6, 4, 90, 80, 76, 60, 58, 58, 57, 55, 55, 50, 42, 40, 40, 40, 40, 36, 35, 35, 35, 32, 32, 30, 30, 30, 30, 29, 28, 27, 25, 25, 25, 23, 23, 22, 22, 22, 20, 20, 20, 20, 20, 19, 19, 16, 15, 15, 15, 15, 15, 14, 13, 13, 13, 12, 12, 10, 10, 10, 9, 8, 7, 2, 90, 80, 60, 60, 60, 60, 48, 45, 45, 45, 42, 40, 40, 40, 35, 35, 30, 30, 30, 26, 25, 25, 25, 24, 24, 22, 21, 20, 20, 20, 20, 20, 19, 19, 19, 18, 18, 18, 18, 17, 17, 17, 17, 16, 16, 15, 15, 15, 14, 14, 13, 12, 10, 9, 8, 4, 2, 95, 80, 63, 60, 60, 60, 60, 57, 55, 55, 55, 50, 46, 45, 45, 40, 40, 40, 36, 35, 35, 34, 34, 34, 33, 32, 32, 30, 30, 30, 30, 29, 28, 27, 26, 25, 25, 25, 25, 25, 24, 23, 22, 22, 22, 21, 21, 20, 20, 20, 20, 20, 18, 18, 17, 16, 16, 16, 14, 13, 12, 12, 12, 10, 10, 9, 3, 80, 65, 50, 50, 48, 45, 43, 43, 40, 37, 30, 30, 28, 27, 27, 27, 25, 25, 25, 25, 25, 24, 24, 22, 22, 20, 18, 18, 18, 17, 17, 17, 17, 16, 15, 15, 15, 15, 15, 14, 14, 14, 14, 14, 12, 11, 11, 10, 10, 10, 9, 8, 7, 2, 100, 70, 70, 65, 60, 60, 60, 50, 50, 45, 45, 42, 40, 40, 40, 40, 39, 35, 35, 33, 32, 30, 28, 27, 25, 25, 22, 21, 20, 20, 20, 20, 20, 18, 17, 16, 16, 15, 15, 15, 15, 15, 15, 14, 14, 14, 14, 13, 13, 13, 12, 11, 10, 9, 9, 8, 5, 100, 100, 80, 65, 60, 60, 55, 54, 51, 40, 38, 35, 35, 35, 30, 30, 30, 28, 26, 26, 26, 25, 25, 25, 25, 25, 25, 22, 22, 22, 21, 21, 21, 21, 21, 21, 20, 20, 20, 20, 19, 19, 19, 19, 18, 18, 17, 17, 17, 15, 15, 15, 15, 15, 15, 15, 15, 15, 14, 12, 12, 11, 10, 10, 10, 8, 8, 7, 6, 5, 3, 3, 90, 80, 80, 75, 70, 50, 50, 50, 42, 40, 40, 40, 37, 35, 32, 31, 30, 27, 25, 25, 25, 23, 22, 21, 20, 20, 20, 20, 20, 20, 20, 19, 19, 18, 18, 18, 18, 18, 18, 16, 16, 16, 15, 15, 14, 12, 12, 11, 11, 11, 10, 10, 10, 8, 8, 90, 90, 80, 75, 68, 60, 55, 52, 50, 45, 40, 40, 35, 35, 35, 35, 35, 31, 30, 30, 30, 30, 30, 28, 27, 27, 27, 26, 26, 25, 25, 25, 25, 25, 24, 24, 23, 21, 20, 20, 20, 20, 19, 19, 19, 18, 18, 17, 17, 15, 15, 15, 15, 15, 14, 13, 12, 11, 11, 10, 10, 9, 9, 7, 5, 2, 101, 100, 83, 78, 60, 60, 40, 35, 35, 33, 32, 30, 30, 30, 30, 30, 25, 25, 25, 25, 25, 25, 25, 24, 22, 22, 21, 21, 21, 20, 20, 20, 20, 19, 18, 18, 18, 17, 16, 16, 16, 15, 14, 14, 14, 14, 14, 13, 10, 10, 9, 9, 8, 7, 84, 75, 70, 70, 70, 70, 60, 55, 55, 50, 46, 45, 45, 44, 40, 40, 40, 40, 38, 38, 35, 35, 35, 35, 34, 30, 30, 30, 28, 25, 25, 25, 25, 25, 22, 22, 22, 20, 20, 20, 20, 20, 20, 20, 19, 19, 19, 19, 18, 17, 17, 16, 15, 15, 15, 15, 15, 15, 14, 13, 13, 13, 12, 12, 12, 11, 10, 10, 9, 8, 7, 5, 5, 80, 60, 60, 55, 55, 51, 50, 50, 45, 44, 40, 40, 38, 35, 28, 25, 25, 25, 24, 23, 23, 22, 22, 22, 20, 20, 18, 18, 18, 18, 17, 16, 15, 15, 15, 15, 15, 15, 14, 14, 14, 13, 13, 12, 12, 12, 11, 11, 9, 8, 130, 97, 90, 85, 70, 70, 55, 55, 52, 51, 47, 47, 35, 35, 31, 30, 30, 30, 27, 27, 26, 25, 25, 25, 25, 22, 22, 21, 20, 20, 20, 20, 20, 20, 19, 17, 17, 16, 15, 15, 14, 14, 14, 13, 11, 10, 8, 7, 120, 80, 78, 70, 70, 55, 55, 53, 52, 50, 47, 46, 45, 45, 45, 40, 40, 40, 32, 28, 25, 25, 25, 25, 25, 23, 23, 23, 21, 21, 21, 20, 20, 18, 17, 15, 15, 12, 11, 11, 11, 10, 9, 7, 3, 90, 80, 70, 60, 55, 54, 50, 50, 50, 48, 42, 35, 31, 30, 30, 30, 29, 27, 27, 25, 25, 25, 24, 23, 21, 21, 20, 19, 18, 17, 17, 16, 15, 15, 15, 15, 15, 14, 13, 12, 12, 10, 10, 10, 9, 6, 1, 100, 82, 81, 80, 70, 50, 45, 41, 40, 40, 40, 38, 37, 35, 33, 33, 30, 30, 30, 30, 30, 29, 29, 28, 26, 26, 25, 25, 25, 25, 23, 23, 23, 23, 22, 22, 21, 20, 20, 19, 18, 17, 17, 17, 16, 15, 15, 15, 15, 13, 13, 12, 12, 12, 11, 10, 10, 9, 9, 9, 8], \"z\": [1, 2, 2, 2, 3, 3, 3, 3, 4, 4, 4, 4, 4, 4, 4, 4, 4, 4, 5, 5, 5, 5, 5, 5, 6, 6, 6, 6, 6, 6, 6, 6, 7, 7, 7, 7, 7, 8, 8, 8, 8, 8, 8, 8, 9, 9, 9, 9, 9, 9, 9, 9, 9, 10, 10, 10, 10, 10, 10, 10, 10, 11, 11, 11, 11, 12, 12, 12, 12, 12, 12, 13, 13, 13, 13, 13, 13, 13, 13, 13, 13, 13, 13, 14, 14, 14, 14, 14, 14, 14, 14, 14, 14, 15, 15, 15, 15, 15, 15, 16, 16, 16, 16, 16, 16, 16, 16, 17, 17, 17, 17, 17, 17, 18, 18, 18, 18, 18, 18, 18, 18, 18, 18, 18, 19, 19, 19, 19, 19, 20, 20, 20, 20, 20, 20, 20, 20, 20, 20, 21, 21, 21, 21, 21, 21, 21, 22, 22, 22, 22, 22, 22, 22, 22, 22, 22, 22, 23, 23, 23, 23, 23, 23, 23, 23, 23, 23, 23, 23, 23, 23, 23, 23, 24, 24, 24, 24, 24, 24, 24, 24, 24, 24, 24, 24, 25, 25, 25, 25, 25, 25, 25, 25, 25, 25, 25, 25, 26, 26, 26, 26, 26, 27, 27, 27, 27, 27, 27, 27, 27, 27, 27, 27, 27, 27, 28, 28, 28, 28, 28, 28, 28, 28, 29, 29, 29, 29, 29, 29, 29, 30, 30, 30, 30, 30, 30, 30, 30, 30, 30, 31, 31, 31, 31, 31, 31, 31, 31, 31, 31, 31, 31, 31, 31, 31, 32, 32, 32, 32, 32, 33, 33, 33, 33, 33, 33, 33, 33, 33, 34, 34, 34, 34, 34, 34, 34, 34, 34, 34, 34, 35, 35, 35, 35, 35, 35, 35, 35, 35, 35, 35, 36, 36, 36, 36, 36, 36, 36, 36, 36, 36, 36, 37, 37, 37, 37, 37, 37, 37, 37, 37, 37, 37, 38, 38, 38, 38, 38, 38, 38, 38, 38, 38, 38, 38, 38, 39, 39, 39, 39, 39, 39, 39, 39, 39, 40, 40, 40, 40, 40, 40, 40, 40, 40, 40, 40, 40, 40, 40, 40, 40, 40, 40, 41, 41, 41, 41, 41, 41, 41, 41, 41, 41, 41, 41, 41, 41, 41, 41, 41, 41, 41, 41, 41, 41, 41, 41, 42, 42, 42, 42, 42, 42, 42, 42, 42, 42, 42, 42, 42, 42, 43, 43, 43, 43, 43, 43, 43, 43, 43, 43, 44, 44, 44, 44, 44, 44, 44, 44, 44, 44, 44, 44, 44, 44, 44, 44, 45, 45, 45, 45, 45, 45, 45, 45, 45, 45, 45, 45, 45, 45, 45, 45, 46, 46, 46, 46, 46, 46, 46, 46, 46, 46, 46, 46, 46, 46, 47, 47, 47, 47, 47, 47, 47, 47, 47, 47, 47, 47, 47, 47, 47, 47, 47, 47, 47, 47, 47, 47, 47, 47, 47, 47, 48, 48, 48, 48, 48, 48, 48, 48, 48, 48, 48, 48, 48, 48, 48, 48, 48, 48, 48, 48, 48, 48, 48, 48, 48, 48, 48, 48, 48, 48, 48, 48, 48, 48, 48, 48, 48, 48, 48, 48, 48, 48, 48, 48, 48, 48, 48, 48, 48, 48, 48, 48, 48, 48, 49, 49, 49, 49, 49, 49, 49, 49, 49, 49, 49, 49, 49, 49, 49, 49, 49, 49, 49, 49, 49, 49, 49, 49, 49, 49, 49, 49, 49, 49, 49, 49, 49, 49, 49, 49, 49, 49, 49, 49, 49, 49, 49, 49, 49, 49, 49, 49, 49, 49, 49, 49, 49, 49, 49, 49, 49, 49, 49, 49, 49, 50, 50, 50, 50, 50, 50, 50, 50, 50, 50, 50, 50, 50, 50, 50, 50, 50, 50, 50, 50, 50, 50, 50, 50, 50, 50, 50, 50, 50, 50, 50, 50, 50, 50, 50, 50, 50, 50, 50, 50, 50, 50, 50, 50, 50, 50, 50, 50, 50, 50, 50, 50, 50, 50, 50, 50, 50, 50, 50, 50, 50, 50, 50, 50, 50, 50, 50, 51, 51, 51, 51, 51, 51, 51, 51, 51, 51, 51, 51, 51, 51, 51, 51, 51, 51, 51, 51, 51, 51, 51, 51, 51, 51, 51, 51, 51, 51, 51, 51, 51, 51, 51, 51, 51, 51, 51, 51, 51, 51, 51, 51, 51, 51, 51, 51, 51, 51, 51, 51, 51, 51, 51, 52, 52, 52, 52, 52, 52, 52, 52, 52, 52, 52, 52, 52, 52, 52, 52, 52, 52, 52, 52, 52, 52, 52, 52, 52, 52, 52, 52, 52, 52, 52, 52, 52, 52, 52, 52, 52, 52, 52, 52, 52, 52, 52, 52, 52, 52, 52, 52, 52, 52, 52, 52, 52, 52, 52, 52, 52, 52, 52, 52, 52, 52, 53, 53, 53, 53, 53, 53, 53, 53, 53, 53, 53, 53, 53, 53, 53, 53, 53, 53, 53, 53, 53, 53, 53, 53, 53, 53, 53, 53, 53, 53, 53, 53, 53, 53, 53, 53, 53, 53, 53, 53, 53, 53, 53, 53, 53, 53, 53, 53, 53, 53, 53, 53, 53, 53, 53, 53, 53, 53, 53, 53, 53, 54, 54, 54, 54, 54, 54, 54, 54, 54, 54, 54, 54, 54, 54, 54, 54, 54, 54, 54, 54, 54, 54, 54, 54, 54, 54, 54, 54, 54, 54, 54, 54, 54, 54, 54, 54, 54, 54, 54, 54, 54, 54, 54, 54, 54, 54, 54, 54, 54, 54, 54, 54, 54, 54, 54, 54, 54, 54, 54, 55, 55, 55, 55, 55, 55, 55, 55, 55, 55, 55, 55, 55, 55, 55, 55, 55, 55, 55, 55, 55, 55, 55, 55, 55, 55, 55, 55, 55, 55, 55, 55, 55, 55, 55, 55, 55, 55, 55, 55, 55, 55, 55, 55, 55, 55, 55, 55, 55, 55, 55, 55, 55, 55, 55, 55, 55, 55, 55, 55, 55, 55, 55, 56, 56, 56, 56, 56, 56, 56, 56, 56, 56, 56, 56, 56, 56, 56, 56, 56, 56, 56, 56, 56, 56, 56, 56, 56, 56, 56, 56, 56, 56, 56, 56, 56, 56, 56, 56, 56, 56, 56, 56, 56, 56, 56, 56, 56, 56, 56, 56, 56, 56, 56, 56, 56, 56, 56, 56, 56, 56, 56, 56, 56, 56, 56, 56, 56, 56, 56, 56, 56, 56, 56, 56, 56, 57, 57, 57, 57, 57, 57, 57, 57, 57, 57, 57, 57, 57, 57, 57, 57, 57, 57, 57, 57, 57, 57, 57, 57, 57, 57, 57, 57, 57, 57, 57, 57, 57, 57, 57, 57, 57, 57, 57, 57, 57, 57, 57, 57, 57, 57, 57, 57, 57, 57, 57, 57, 57, 58, 58, 58, 58, 58, 58, 58, 58, 58, 58, 58, 58, 58, 58, 58, 58, 58, 58, 58, 58, 58, 58, 58, 58, 58, 58, 58, 58, 58, 58, 58, 58, 58, 58, 58, 58, 58, 58, 58, 58, 58, 58, 58, 58, 58, 58, 58, 58, 58, 58, 58, 58, 58, 58, 58, 58, 58, 58, 58, 58, 58, 59, 59, 59, 59, 59, 59, 59, 59, 59, 59, 59, 59, 59, 59, 59, 59, 59, 59, 59, 59, 59, 59, 59, 59, 59, 59, 59, 59, 59, 59, 59, 59, 59, 59, 59, 59, 59, 59, 59, 59, 59, 59, 59, 59, 59, 59, 59, 59, 59, 59, 59, 59, 59, 59, 59, 59, 59, 59, 59, 59, 59, 60, 60, 60, 60, 60, 60, 60, 60, 60, 60, 60, 60, 60, 60, 60, 60, 60, 60, 60, 60, 60, 60, 60, 60, 60, 60, 60, 60, 60, 60, 60, 60, 60, 60, 60, 60, 60, 60, 60, 60, 60, 60, 60, 60, 60, 60, 60, 60, 60, 60, 60, 60, 60, 60, 60, 60, 60, 60, 60, 60, 60, 60, 60, 61, 61, 61, 61, 61, 61, 61, 61, 61, 61, 61, 61, 61, 61, 61, 61, 61, 61, 61, 61, 61, 61, 61, 61, 61, 61, 61, 61, 61, 61, 61, 61, 61, 61, 61, 61, 61, 61, 61, 61, 61, 61, 61, 61, 61, 61, 61, 61, 61, 61, 61, 61, 61, 61, 61, 61, 61, 61, 61, 61, 62, 62, 62, 62, 62, 62, 62, 62, 62, 62, 62, 62, 62, 62, 62, 62, 62, 62, 62, 62, 62, 62, 62, 62, 62, 62, 62, 62, 62, 62, 62, 62, 62, 62, 62, 62, 62, 62, 62, 62, 62, 62, 62, 62, 62, 62, 62, 62, 62, 62, 62, 62, 63, 63, 63, 63, 63, 63, 63, 63, 63, 63, 63, 63, 63, 63, 63, 63, 63, 63, 63, 63, 63, 63, 63, 63, 63, 63, 63, 63, 63, 63, 63, 63, 63, 63, 63, 63, 63, 63, 63, 63, 63, 63, 63, 63, 63, 63, 63, 63, 63, 63, 63, 63, 63, 63, 63, 63, 63, 63, 63, 63, 63, 63, 63, 63, 63, 63, 63, 63, 63, 63, 63, 63, 63, 64, 64, 64, 64, 64, 64, 64, 64, 64, 64, 64, 64, 64, 64, 64, 64, 64, 64, 64, 64, 64, 64, 64, 64, 64, 64, 64, 64, 64, 64, 64, 64, 64, 64, 64, 64, 64, 64, 64, 64, 64, 64, 64, 64, 64, 64, 64, 64, 64, 64, 64, 64, 64, 64, 64, 64, 64, 64, 64, 64, 64, 64, 65, 65, 65, 65, 65, 65, 65, 65, 65, 65, 65, 65, 65, 65, 65, 65, 65, 65, 65, 65, 65, 65, 65, 65, 65, 65, 65, 65, 65, 65, 65, 65, 65, 65, 65, 65, 65, 65, 65, 65, 65, 65, 65, 65, 65, 65, 65, 65, 65, 65, 65, 65, 65, 65, 65, 66, 66, 66, 66, 66, 66, 66, 66, 66, 66, 66, 66, 66, 66, 66, 66, 66, 66, 66, 66, 66, 66, 66, 66, 66, 66, 66, 66, 66, 66, 66, 66, 66, 66, 66, 66, 66, 66, 66, 66, 66, 66, 66, 66, 66, 66, 66, 66, 66, 66, 66, 66, 66, 66, 66, 66, 66, 66, 66, 66, 66, 66, 66, 66, 66, 66, 66, 66, 66, 66, 66, 67, 67, 67, 67, 67, 67, 67, 67, 67, 67, 67, 67, 67, 67, 67, 67, 67, 67, 67, 67, 67, 67, 67, 67, 67, 67, 67, 67, 67, 67, 67, 67, 67, 67, 67, 67, 67, 67, 67, 67, 67, 67, 67, 67, 67, 67, 67, 67, 67, 67, 67, 67, 67, 67, 67, 67, 67, 67, 67, 67, 67, 68, 68, 68, 68, 68, 68, 68, 68, 68, 68, 68, 68, 68, 68, 68, 68, 68, 68, 68, 68, 68, 68, 68, 68, 68, 68, 68, 68, 68, 68, 68, 68, 68, 68, 68, 68, 68, 68, 68, 68, 68, 68, 68, 68, 68, 68, 68, 68, 68, 68, 68, 68, 68, 68, 68, 68, 68, 68, 68, 68, 68, 68, 68, 69, 69, 69, 69, 69, 69, 69, 69, 69, 69, 69, 69, 69, 69, 69, 69, 69, 69, 69, 69, 69, 69, 69, 69, 69, 69, 69, 69, 69, 69, 69, 69, 69, 69, 69, 69, 69, 69, 69, 69, 69, 69, 69, 69, 69, 69, 69, 69, 69, 69, 69, 69, 69, 69, 69, 69, 69, 69, 69, 69, 69, 69, 69, 69, 69, 69, 69, 69, 69, 69, 69, 69, 69, 69, 69, 69, 69, 69, 69, 69, 69, 70, 70, 70, 70, 70, 70, 70, 70, 70, 70, 70, 70, 70, 70, 70, 70, 70, 70, 70, 70, 70, 70, 70, 70, 70, 70, 70, 70, 70, 70, 70, 70, 70, 70, 70, 70, 70, 70, 70, 70, 70, 70, 70, 70, 70, 70, 70, 70, 70, 71, 71, 71, 71, 71, 71, 71, 71, 71, 71, 71, 71, 71, 71, 71, 71, 71, 71, 71, 71, 71, 71, 71, 71, 71, 71, 71, 71, 71, 71, 71, 71, 71, 71, 71, 71, 71, 71, 71, 71, 71, 72, 72, 72, 72, 72, 72, 72, 72, 72, 72, 72, 72, 72, 72, 72, 72, 72, 72, 72, 72, 72, 72, 72, 72, 72, 72, 72, 72, 72, 72, 72, 72, 72, 72, 72, 72, 72, 72, 72, 72, 72, 72, 72, 72, 72, 72, 72, 72, 72, 72, 72, 72, 72, 72, 72, 72, 72, 73, 73, 73, 73, 73, 73, 73, 73, 73, 73, 73, 73, 73, 73, 73, 73, 73, 73, 73, 73, 73, 73, 73, 73, 73, 73, 73, 73, 73, 73, 73, 73, 73, 73, 73, 73, 73, 73, 73, 73, 73, 73, 73, 73, 73, 73, 73, 73, 73, 73, 73, 73, 73, 73, 73, 74, 74, 74, 74, 74, 74, 74, 74, 74, 74, 74, 74, 74, 74, 74, 74, 74, 74, 74, 74, 74, 74, 74, 74, 74, 74, 74, 74, 74, 74, 74, 74, 74, 74, 74, 74, 74, 74, 74, 74, 74, 74, 74, 74, 74, 74, 74, 74, 74, 74, 74, 74, 74, 74, 74, 74, 75, 75, 75, 75, 75, 75, 75, 75, 75, 75, 75, 75, 75, 75, 75, 75, 75, 75, 75, 75, 75, 75, 75, 75, 75, 75, 75, 75, 75, 75, 75, 75, 75, 75, 75, 75, 75, 75, 75, 75, 75, 75, 75, 75, 75, 75, 75, 75, 75, 75, 75, 75, 75, 75, 75, 75, 75, 75, 75, 75, 75, 75, 75, 75, 75, 76, 76, 76, 76, 76, 76, 76, 76, 76, 76, 76, 76, 76, 76, 76, 76, 76, 76, 76, 76, 76, 76, 76, 76, 76, 76, 76, 76, 76, 76, 76, 76, 76, 76, 76, 76, 76, 76, 76, 76, 76, 76, 76, 76, 76, 76, 76, 76, 76, 76, 76, 76, 76, 76, 76, 76, 76, 76, 76, 77, 77, 77, 77, 77, 77, 77, 77, 77, 77, 77, 77, 77, 77, 77, 77, 77, 77, 77, 77, 77, 77, 77, 77, 77, 77, 77, 77, 77, 77, 77, 77, 77, 77, 77, 77, 77, 77, 77, 77, 77, 77, 77, 77, 77, 77, 77, 77, 77, 77, 77, 77, 77, 77, 77, 77, 77, 77, 77, 77, 77, 77, 77, 77, 78, 78, 78, 78, 78, 78, 78, 78, 78, 78, 78, 78, 78, 78, 78, 78, 78, 78, 78, 78, 78, 78, 78, 78, 78, 78, 78, 78, 78, 78, 78, 78, 78, 78, 78, 78, 78, 78, 78, 78, 78, 78, 78, 78, 78, 78, 78, 78, 78, 78, 78, 78, 78, 78, 78, 78, 79, 79, 79, 79, 79, 79, 79, 79, 79, 79, 79, 79, 79, 79, 79, 79, 79, 79, 79, 79, 79, 79, 79, 79, 79, 79, 79, 79, 79, 79, 79, 79, 79, 79, 79, 79, 79, 79, 79, 79, 79, 79, 79, 79, 79, 79, 79, 79, 79, 79, 79, 79, 79, 79, 79, 80, 80, 80, 80, 80, 80, 80, 80, 80, 80, 80, 80, 80, 80, 80, 80, 80, 80, 80, 80, 80, 80, 80, 80, 80, 80, 80, 80, 80, 80, 80, 80, 80, 80, 80, 80, 80, 80, 80, 80, 80, 80, 80, 80, 80, 80, 80, 80, 80, 80, 80, 80, 80, 80, 80, 80, 80, 80, 80, 80, 80, 80, 80, 80, 80, 80, 80, 80, 81, 81, 81, 81, 81, 81, 81, 81, 81, 81, 81, 81, 81, 81, 81, 81, 81, 81, 81, 81, 81, 81, 81, 81, 81, 81, 81, 81, 81, 81, 81, 81, 81, 81, 81, 81, 81, 81, 81, 81, 81, 81, 81, 81, 81, 81, 81, 81, 81, 81, 81, 81, 81, 81, 81, 81, 81, 81, 81, 81, 81, 81, 81, 81, 81, 81, 81, 81, 82, 82, 82, 82, 82, 82, 82, 82, 82, 82, 82, 82, 82, 82, 82, 82, 82, 82, 82, 82, 82, 82, 82, 82, 82, 82, 82, 82, 82, 82, 82, 82, 82, 82, 82, 82, 82, 82, 82, 82, 82, 82, 82, 82, 82, 82, 82, 82, 82, 82, 82, 82, 82, 82, 82, 82, 82, 82, 82, 82, 82, 83, 83, 83, 83, 83, 83, 83, 83, 83, 83, 83, 83, 83, 83, 83, 83, 83, 83, 83, 83, 83, 83, 83, 83, 83, 83, 83, 83, 83, 83, 83, 83, 83, 83, 83, 83, 83, 83, 83, 83, 83, 83, 83, 83, 83, 83, 83, 83, 83, 83, 83, 83, 83, 83, 83, 83, 83, 83, 83, 83, 83, 83, 83, 83, 83, 83, 84, 84, 84, 84, 84, 84, 84, 84, 84, 84, 84, 84, 84, 84, 84, 84, 84, 84, 84, 84, 84, 84, 84, 84, 84, 84, 84, 84, 84, 84, 84, 84, 84, 84, 84, 84, 84, 84, 84, 84, 84, 84, 84, 84, 84, 84, 84, 84, 84, 84, 84, 84, 84, 84, 84, 84, 84, 84, 85, 85, 85, 85, 85, 85, 85, 85, 85, 85, 85, 85, 85, 85, 85, 85, 85, 85, 85, 85, 85, 85, 85, 85, 85, 85, 85, 85, 85, 85, 85, 85, 85, 85, 85, 85, 85, 85, 85, 85, 85, 85, 85, 85, 85, 85, 85, 85, 85, 85, 85, 85, 86, 86, 86, 86, 86, 86, 86, 86, 86, 86, 86, 86, 86, 86, 86, 86, 86, 86, 86, 86, 86, 86, 86, 86, 86, 86, 86, 86, 86, 86, 86, 86, 86, 86, 86, 86, 86, 86, 86, 86, 86, 86, 86, 86, 86, 86, 86, 86, 86, 86, 86, 86, 86, 86, 86, 86, 86, 87, 87, 87, 87, 87, 87, 87, 87, 87, 87, 87, 87, 87, 87, 87, 87, 87, 87, 87, 87, 87, 87, 87, 87, 87, 87, 87, 87, 87, 87, 87, 87, 87, 87, 87, 87, 87, 87, 87, 87, 87, 87, 87, 87, 87, 87, 87, 87, 87, 87, 87, 87, 87, 88, 88, 88, 88, 88, 88, 88, 88, 88, 88, 88, 88, 88, 88, 88, 88, 88, 88, 88, 88, 88, 88, 88, 88, 88, 88, 88, 88, 88, 88, 88, 88, 88, 88, 88, 88, 88, 88, 88, 88, 88, 88, 88, 88, 88, 88, 88, 88, 88, 88, 88, 88, 88, 88, 88, 88, 88, 88, 88, 88, 88, 88, 88, 89, 89, 89, 89, 89, 89, 89, 89, 89, 89, 89, 89, 89, 89, 89, 89, 89, 89, 89, 89, 89, 89, 89, 89, 89, 89, 89, 89, 89, 89, 89, 89, 89, 89, 89, 89, 89, 89, 89, 89, 89, 89, 89, 89, 89, 89, 89, 89, 89, 89, 89, 89, 89, 89, 89, 89, 89, 89, 89, 89, 89, 89, 89, 89, 89, 89, 90, 90, 90, 90, 90, 90, 90, 90, 90, 90, 90, 90, 90, 90, 90, 90, 90, 90, 90, 90, 90, 90, 90, 90, 90, 90, 90, 90, 90, 90, 90, 90, 90, 90, 90, 90, 90, 90, 90, 90, 90, 90, 90, 91, 91, 91, 91, 91, 91, 91, 91, 91, 91, 91, 91, 91, 91, 91, 91, 91, 91, 91, 91, 91, 91, 91, 91, 91, 91, 91, 91, 91, 91, 91, 91, 91, 91, 91, 91, 91, 91, 91, 91, 91, 91, 91, 91, 91, 91, 91, 91, 91, 91, 91, 92, 92, 92, 92, 92, 92, 92, 92, 92, 92, 92, 92, 92, 92, 92, 92, 92, 92, 92, 92, 92, 92, 92, 92, 92, 92, 92, 92, 92, 92, 92, 92, 92, 92, 92, 92, 92, 92, 92, 92, 92, 92, 92, 92, 92, 92, 92, 92, 92, 93, 93, 93, 93, 93, 93, 93, 93, 93, 93, 93, 93, 93, 93, 93, 93, 93, 93, 93, 93, 93, 93, 93, 93, 93, 93, 93, 93, 93, 93, 93, 93, 93, 93, 93, 93, 93, 93, 93, 93, 93, 93, 93, 93, 93, 93, 93, 93, 93, 93, 93, 93, 93, 93, 93, 93, 93, 93, 93, 93, 93, 93, 94, 94, 94, 94, 94, 94, 94, 94, 94, 94, 94, 94, 94, 94, 94, 94, 94, 94, 94, 94, 94, 94, 94, 94, 94, 94, 94, 94, 94, 94, 94, 94, 94, 94, 94, 94, 94, 94, 94, 94, 94, 94, 94, 94, 94, 94, 94, 94, 94, 94, 94, 94, 94, 94, 94, 94, 94, 95, 95, 95, 95, 95, 95, 95, 95, 95, 95, 95, 95, 95, 95, 95, 95, 95, 95, 95, 95, 95, 95, 95, 95, 95, 95, 95, 95, 95, 95, 95, 95, 95, 95, 95, 95, 95, 95, 95, 95, 95, 95, 95, 95, 95, 95, 95, 95, 95, 95, 95, 95, 95, 95, 95, 95, 95, 95, 95, 95, 95, 95, 95, 95, 95, 95, 95, 96, 96, 96, 96, 96, 96, 96, 96, 96, 96, 96, 96, 96, 96, 96, 96, 96, 96, 96, 96, 96, 96, 96, 96, 96, 96, 96, 96, 96, 96, 96, 96, 96, 96, 96, 96, 96, 96, 96, 96, 96, 96, 96, 96, 96, 96, 96, 96, 96, 96, 96, 96, 96, 96, 97, 97, 97, 97, 97, 97, 97, 97, 97, 97, 97, 97, 97, 97, 97, 97, 97, 97, 97, 97, 97, 97, 97, 97, 97, 97, 97, 97, 97, 97, 97, 97, 97, 97, 97, 97, 97, 97, 97, 97, 97, 97, 97, 97, 97, 97, 97, 97, 97, 97, 97, 97, 97, 97, 97, 97, 97, 98, 98, 98, 98, 98, 98, 98, 98, 98, 98, 98, 98, 98, 98, 98, 98, 98, 98, 98, 98, 98, 98, 98, 98, 98, 98, 98, 98, 98, 98, 98, 98, 98, 98, 98, 98, 98, 98, 98, 98, 98, 98, 98, 98, 98, 98, 98, 98, 98, 98, 98, 98, 98, 98, 98, 98, 98, 98, 98, 98, 98, 98, 98, 98, 98, 98, 98, 98, 98, 98, 98, 98, 99, 99, 99, 99, 99, 99, 99, 99, 99, 99, 99, 99, 99, 99, 99, 99, 99, 99, 99, 99, 99, 99, 99, 99, 99, 99, 99, 99, 99, 99, 99, 99, 99, 99, 99, 99, 99, 99, 99, 99, 99, 99, 99, 99, 99, 99, 99, 99, 99, 99, 99, 99, 99, 99, 99, 100, 100, 100, 100, 100, 100, 100, 100, 100, 100, 100, 100, 100, 100, 100, 100, 100, 100, 100, 100, 100, 100, 100, 100, 100, 100, 100, 100, 100, 100, 100, 100, 100, 100, 100, 100, 100, 100, 100, 100, 100, 100, 100, 100, 100, 100, 100, 100, 100, 100, 100, 100, 100, 100, 100, 100, 100, 100, 100, 100, 100, 100, 100, 100, 100, 100, 101, 101, 101, 101, 101, 101, 101, 101, 101, 101, 101, 101, 101, 101, 101, 101, 101, 101, 101, 101, 101, 101, 101, 101, 101, 101, 101, 101, 101, 101, 101, 101, 101, 101, 101, 101, 101, 101, 101, 101, 101, 101, 101, 101, 101, 101, 101, 101, 101, 101, 101, 101, 101, 101, 102, 102, 102, 102, 102, 102, 102, 102, 102, 102, 102, 102, 102, 102, 102, 102, 102, 102, 102, 102, 102, 102, 102, 102, 102, 102, 102, 102, 102, 102, 102, 102, 102, 102, 102, 102, 102, 102, 102, 102, 102, 102, 102, 102, 102, 102, 102, 102, 102, 102, 102, 102, 102, 102, 102, 102, 102, 102, 102, 102, 102, 102, 102, 102, 102, 102, 102, 102, 102, 102, 102, 102, 102, 103, 103, 103, 103, 103, 103, 103, 103, 103, 103, 103, 103, 103, 103, 103, 103, 103, 103, 103, 103, 103, 103, 103, 103, 103, 103, 103, 103, 103, 103, 103, 103, 103, 103, 103, 103, 103, 103, 103, 103, 103, 103, 103, 103, 103, 103, 103, 103, 103, 103, 104, 104, 104, 104, 104, 104, 104, 104, 104, 104, 104, 104, 104, 104, 104, 104, 104, 104, 104, 104, 104, 104, 104, 104, 104, 104, 104, 104, 104, 104, 104, 104, 104, 104, 104, 104, 104, 104, 104, 104, 104, 104, 104, 104, 104, 104, 104, 104, 105, 105, 105, 105, 105, 105, 105, 105, 105, 105, 105, 105, 105, 105, 105, 105, 105, 105, 105, 105, 105, 105, 105, 105, 105, 105, 105, 105, 105, 105, 105, 105, 105, 105, 105, 105, 105, 105, 105, 105, 105, 105, 105, 105, 105, 106, 106, 106, 106, 106, 106, 106, 106, 106, 106, 106, 106, 106, 106, 106, 106, 106, 106, 106, 106, 106, 106, 106, 106, 106, 106, 106, 106, 106, 106, 106, 106, 106, 106, 106, 106, 106, 106, 106, 106, 106, 106, 106, 106, 106, 106, 106, 107, 107, 107, 107, 107, 107, 107, 107, 107, 107, 107, 107, 107, 107, 107, 107, 107, 107, 107, 107, 107, 107, 107, 107, 107, 107, 107, 107, 107, 107, 107, 107, 107, 107, 107, 107, 107, 107, 107, 107, 107, 107, 107, 107, 107, 107, 107, 107, 107, 107, 107, 107, 107, 107, 107, 107, 107, 107, 107, 107, 107]}],\n",
              "                        {\"coloraxis\": {\"colorbar\": {\"title\": {\"text\": \"Survival Months\"}}, \"colorscale\": [[0.0, \"#0d0887\"], [0.1111111111111111, \"#46039f\"], [0.2222222222222222, \"#7201a8\"], [0.3333333333333333, \"#9c179e\"], [0.4444444444444444, \"#bd3786\"], [0.5555555555555556, \"#d8576b\"], [0.6666666666666666, \"#ed7953\"], [0.7777777777777778, \"#fb9f3a\"], [0.8888888888888888, \"#fdca26\"], [1.0, \"#f0f921\"]]}, \"legend\": {\"tracegroupgap\": 0}, \"margin\": {\"t\": 60}, \"scene\": {\"domain\": {\"x\": [0.0, 1.0], \"y\": [0.0, 1.0]}, \"xaxis\": {\"title\": {\"text\": \"Age\"}}, \"yaxis\": {\"title\": {\"text\": \"Tumor Size\"}}, \"zaxis\": {\"title\": {\"text\": \"Survival Months\"}}}, \"template\": {\"data\": {\"bar\": [{\"error_x\": {\"color\": \"#2a3f5f\"}, \"error_y\": {\"color\": \"#2a3f5f\"}, \"marker\": {\"line\": {\"color\": \"#E5ECF6\", \"width\": 0.5}}, \"type\": \"bar\"}], \"barpolar\": [{\"marker\": {\"line\": {\"color\": \"#E5ECF6\", \"width\": 0.5}}, \"type\": \"barpolar\"}], \"carpet\": [{\"aaxis\": {\"endlinecolor\": \"#2a3f5f\", \"gridcolor\": \"white\", \"linecolor\": \"white\", \"minorgridcolor\": \"white\", \"startlinecolor\": \"#2a3f5f\"}, \"baxis\": {\"endlinecolor\": \"#2a3f5f\", \"gridcolor\": \"white\", \"linecolor\": \"white\", \"minorgridcolor\": \"white\", \"startlinecolor\": \"#2a3f5f\"}, \"type\": \"carpet\"}], \"choropleth\": [{\"colorbar\": {\"outlinewidth\": 0, \"ticks\": \"\"}, \"type\": \"choropleth\"}], \"contour\": [{\"colorbar\": {\"outlinewidth\": 0, \"ticks\": \"\"}, \"colorscale\": [[0.0, \"#0d0887\"], [0.1111111111111111, \"#46039f\"], [0.2222222222222222, \"#7201a8\"], [0.3333333333333333, \"#9c179e\"], [0.4444444444444444, \"#bd3786\"], [0.5555555555555556, \"#d8576b\"], [0.6666666666666666, \"#ed7953\"], [0.7777777777777778, \"#fb9f3a\"], [0.8888888888888888, \"#fdca26\"], [1.0, \"#f0f921\"]], \"type\": \"contour\"}], \"contourcarpet\": [{\"colorbar\": {\"outlinewidth\": 0, \"ticks\": \"\"}, \"type\": \"contourcarpet\"}], \"heatmap\": [{\"colorbar\": {\"outlinewidth\": 0, \"ticks\": \"\"}, \"colorscale\": [[0.0, \"#0d0887\"], [0.1111111111111111, \"#46039f\"], [0.2222222222222222, \"#7201a8\"], [0.3333333333333333, \"#9c179e\"], [0.4444444444444444, \"#bd3786\"], [0.5555555555555556, \"#d8576b\"], [0.6666666666666666, \"#ed7953\"], [0.7777777777777778, \"#fb9f3a\"], [0.8888888888888888, \"#fdca26\"], [1.0, \"#f0f921\"]], \"type\": \"heatmap\"}], \"heatmapgl\": [{\"colorbar\": {\"outlinewidth\": 0, \"ticks\": \"\"}, \"colorscale\": [[0.0, \"#0d0887\"], [0.1111111111111111, \"#46039f\"], [0.2222222222222222, \"#7201a8\"], [0.3333333333333333, \"#9c179e\"], [0.4444444444444444, \"#bd3786\"], [0.5555555555555556, \"#d8576b\"], [0.6666666666666666, \"#ed7953\"], [0.7777777777777778, \"#fb9f3a\"], [0.8888888888888888, \"#fdca26\"], [1.0, \"#f0f921\"]], \"type\": \"heatmapgl\"}], \"histogram\": [{\"marker\": {\"colorbar\": {\"outlinewidth\": 0, \"ticks\": \"\"}}, \"type\": \"histogram\"}], \"histogram2d\": [{\"colorbar\": {\"outlinewidth\": 0, \"ticks\": \"\"}, \"colorscale\": [[0.0, \"#0d0887\"], [0.1111111111111111, \"#46039f\"], [0.2222222222222222, \"#7201a8\"], [0.3333333333333333, \"#9c179e\"], [0.4444444444444444, \"#bd3786\"], [0.5555555555555556, \"#d8576b\"], [0.6666666666666666, \"#ed7953\"], [0.7777777777777778, \"#fb9f3a\"], [0.8888888888888888, \"#fdca26\"], [1.0, \"#f0f921\"]], \"type\": \"histogram2d\"}], \"histogram2dcontour\": [{\"colorbar\": {\"outlinewidth\": 0, \"ticks\": \"\"}, \"colorscale\": [[0.0, \"#0d0887\"], [0.1111111111111111, \"#46039f\"], [0.2222222222222222, \"#7201a8\"], [0.3333333333333333, \"#9c179e\"], [0.4444444444444444, \"#bd3786\"], [0.5555555555555556, \"#d8576b\"], [0.6666666666666666, \"#ed7953\"], [0.7777777777777778, \"#fb9f3a\"], [0.8888888888888888, \"#fdca26\"], [1.0, \"#f0f921\"]], \"type\": \"histogram2dcontour\"}], \"mesh3d\": [{\"colorbar\": {\"outlinewidth\": 0, \"ticks\": \"\"}, \"type\": \"mesh3d\"}], \"parcoords\": [{\"line\": {\"colorbar\": {\"outlinewidth\": 0, \"ticks\": \"\"}}, \"type\": \"parcoords\"}], \"pie\": [{\"automargin\": true, \"type\": \"pie\"}], \"scatter\": [{\"marker\": {\"colorbar\": {\"outlinewidth\": 0, \"ticks\": \"\"}}, \"type\": \"scatter\"}], \"scatter3d\": [{\"line\": {\"colorbar\": {\"outlinewidth\": 0, \"ticks\": \"\"}}, \"marker\": {\"colorbar\": {\"outlinewidth\": 0, \"ticks\": \"\"}}, \"type\": \"scatter3d\"}], \"scattercarpet\": [{\"marker\": {\"colorbar\": {\"outlinewidth\": 0, \"ticks\": \"\"}}, \"type\": \"scattercarpet\"}], \"scattergeo\": [{\"marker\": {\"colorbar\": {\"outlinewidth\": 0, \"ticks\": \"\"}}, \"type\": \"scattergeo\"}], \"scattergl\": [{\"marker\": {\"colorbar\": {\"outlinewidth\": 0, \"ticks\": \"\"}}, \"type\": \"scattergl\"}], \"scattermapbox\": [{\"marker\": {\"colorbar\": {\"outlinewidth\": 0, \"ticks\": \"\"}}, \"type\": \"scattermapbox\"}], \"scatterpolar\": [{\"marker\": {\"colorbar\": {\"outlinewidth\": 0, \"ticks\": \"\"}}, \"type\": \"scatterpolar\"}], \"scatterpolargl\": [{\"marker\": {\"colorbar\": {\"outlinewidth\": 0, \"ticks\": \"\"}}, \"type\": \"scatterpolargl\"}], \"scatterternary\": [{\"marker\": {\"colorbar\": {\"outlinewidth\": 0, \"ticks\": \"\"}}, \"type\": \"scatterternary\"}], \"surface\": [{\"colorbar\": {\"outlinewidth\": 0, \"ticks\": \"\"}, \"colorscale\": [[0.0, \"#0d0887\"], [0.1111111111111111, \"#46039f\"], [0.2222222222222222, \"#7201a8\"], [0.3333333333333333, \"#9c179e\"], [0.4444444444444444, \"#bd3786\"], [0.5555555555555556, \"#d8576b\"], [0.6666666666666666, \"#ed7953\"], [0.7777777777777778, \"#fb9f3a\"], [0.8888888888888888, \"#fdca26\"], [1.0, \"#f0f921\"]], \"type\": \"surface\"}], \"table\": [{\"cells\": {\"fill\": {\"color\": \"#EBF0F8\"}, \"line\": {\"color\": \"white\"}}, \"header\": {\"fill\": {\"color\": \"#C8D4E3\"}, \"line\": {\"color\": \"white\"}}, \"type\": \"table\"}]}, \"layout\": {\"annotationdefaults\": {\"arrowcolor\": \"#2a3f5f\", \"arrowhead\": 0, \"arrowwidth\": 1}, \"coloraxis\": {\"colorbar\": {\"outlinewidth\": 0, \"ticks\": \"\"}}, \"colorscale\": {\"diverging\": [[0, \"#8e0152\"], [0.1, \"#c51b7d\"], [0.2, \"#de77ae\"], [0.3, \"#f1b6da\"], [0.4, \"#fde0ef\"], [0.5, \"#f7f7f7\"], [0.6, \"#e6f5d0\"], [0.7, \"#b8e186\"], [0.8, \"#7fbc41\"], [0.9, \"#4d9221\"], [1, \"#276419\"]], \"sequential\": [[0.0, \"#0d0887\"], [0.1111111111111111, \"#46039f\"], [0.2222222222222222, \"#7201a8\"], [0.3333333333333333, \"#9c179e\"], [0.4444444444444444, \"#bd3786\"], [0.5555555555555556, \"#d8576b\"], [0.6666666666666666, \"#ed7953\"], [0.7777777777777778, \"#fb9f3a\"], [0.8888888888888888, \"#fdca26\"], [1.0, \"#f0f921\"]], \"sequentialminus\": [[0.0, \"#0d0887\"], [0.1111111111111111, \"#46039f\"], [0.2222222222222222, \"#7201a8\"], [0.3333333333333333, \"#9c179e\"], [0.4444444444444444, \"#bd3786\"], [0.5555555555555556, \"#d8576b\"], [0.6666666666666666, \"#ed7953\"], [0.7777777777777778, \"#fb9f3a\"], [0.8888888888888888, \"#fdca26\"], [1.0, \"#f0f921\"]]}, \"colorway\": [\"#636efa\", \"#EF553B\", \"#00cc96\", \"#ab63fa\", \"#FFA15A\", \"#19d3f3\", \"#FF6692\", \"#B6E880\", \"#FF97FF\", \"#FECB52\"], \"font\": {\"color\": \"#2a3f5f\"}, \"geo\": {\"bgcolor\": \"white\", \"lakecolor\": \"white\", \"landcolor\": \"#E5ECF6\", \"showlakes\": true, \"showland\": true, \"subunitcolor\": \"white\"}, \"hoverlabel\": {\"align\": \"left\"}, \"hovermode\": \"closest\", \"mapbox\": {\"style\": \"light\"}, \"paper_bgcolor\": \"white\", \"plot_bgcolor\": \"#E5ECF6\", \"polar\": {\"angularaxis\": {\"gridcolor\": \"white\", \"linecolor\": \"white\", \"ticks\": \"\"}, \"bgcolor\": \"#E5ECF6\", \"radialaxis\": {\"gridcolor\": \"white\", \"linecolor\": \"white\", \"ticks\": \"\"}}, \"scene\": {\"xaxis\": {\"backgroundcolor\": \"#E5ECF6\", \"gridcolor\": \"white\", \"gridwidth\": 2, \"linecolor\": \"white\", \"showbackground\": true, \"ticks\": \"\", \"zerolinecolor\": \"white\"}, \"yaxis\": {\"backgroundcolor\": \"#E5ECF6\", \"gridcolor\": \"white\", \"gridwidth\": 2, \"linecolor\": \"white\", \"showbackground\": true, \"ticks\": \"\", \"zerolinecolor\": \"white\"}, \"zaxis\": {\"backgroundcolor\": \"#E5ECF6\", \"gridcolor\": \"white\", \"gridwidth\": 2, \"linecolor\": \"white\", \"showbackground\": true, \"ticks\": \"\", \"zerolinecolor\": \"white\"}}, \"shapedefaults\": {\"line\": {\"color\": \"#2a3f5f\"}}, \"ternary\": {\"aaxis\": {\"gridcolor\": \"white\", \"linecolor\": \"white\", \"ticks\": \"\"}, \"baxis\": {\"gridcolor\": \"white\", \"linecolor\": \"white\", \"ticks\": \"\"}, \"bgcolor\": \"#E5ECF6\", \"caxis\": {\"gridcolor\": \"white\", \"linecolor\": \"white\", \"ticks\": \"\"}}, \"title\": {\"x\": 0.05}, \"xaxis\": {\"automargin\": true, \"gridcolor\": \"white\", \"linecolor\": \"white\", \"ticks\": \"\", \"title\": {\"standoff\": 15}, \"zerolinecolor\": \"white\", \"zerolinewidth\": 2}, \"yaxis\": {\"automargin\": true, \"gridcolor\": \"white\", \"linecolor\": \"white\", \"ticks\": \"\", \"title\": {\"standoff\": 15}, \"zerolinecolor\": \"white\", \"zerolinewidth\": 2}}}},\n",
              "                        {\"responsive\": true}\n",
              "                    ).then(function(){\n",
              "                            \n",
              "var gd = document.getElementById('66c6ecfd-f179-43b7-ad55-78c08d8dbac6');\n",
              "var x = new MutationObserver(function (mutations, observer) {{\n",
              "        var display = window.getComputedStyle(gd).display;\n",
              "        if (!display || display === 'none') {{\n",
              "            console.log([gd, 'removed!']);\n",
              "            Plotly.purge(gd);\n",
              "            observer.disconnect();\n",
              "        }}\n",
              "}});\n",
              "\n",
              "// Listen for the removal of the full notebook cells\n",
              "var notebookContainer = gd.closest('#notebook-container');\n",
              "if (notebookContainer) {{\n",
              "    x.observe(notebookContainer, {childList: true});\n",
              "}}\n",
              "\n",
              "// Listen for the clearing of the current output cell\n",
              "var outputEl = gd.closest('.output');\n",
              "if (outputEl) {{\n",
              "    x.observe(outputEl, {childList: true});\n",
              "}}\n",
              "\n",
              "                        })\n",
              "                };\n",
              "                \n",
              "            </script>\n",
              "        </div>\n",
              "</body>\n",
              "</html>"
            ]
          },
          "metadata": {
            "tags": []
          }
        }
      ]
    }
  ]
}